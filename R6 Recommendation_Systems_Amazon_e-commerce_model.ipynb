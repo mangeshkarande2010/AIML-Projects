{
 "cells": [
  {
   "cell_type": "code",
   "execution_count": 111,
   "metadata": {},
   "outputs": [],
   "source": [
    "import pandas as pd\n",
    "import numpy as np\n",
    "from sklearn.model_selection import train_test_split\n",
    "%matplotlib inline\n",
    "import matplotlib.pyplot as plt  \n",
    "import seaborn as sns  "
   ]
  },
  {
   "cell_type": "code",
   "execution_count": 112,
   "metadata": {},
   "outputs": [],
   "source": [
    "df = pd.read_csv(\"ratings_Electronics.csv\", names=['user_id','item_id','rating','titmestamp'])"
   ]
  },
  {
   "cell_type": "code",
   "execution_count": 113,
   "metadata": {},
   "outputs": [
    {
     "name": "stdout",
     "output_type": "stream",
     "text": [
      "(7824482, 4)\n"
     ]
    }
   ],
   "source": [
    "print(df.shape)\n",
    "#print(df.info)"
   ]
  },
  {
   "cell_type": "code",
   "execution_count": 114,
   "metadata": {},
   "outputs": [],
   "source": [
    "# Given data set has 7824482 rows of data with columns as userId, productId, ratings and timestamp."
   ]
  },
  {
   "cell_type": "code",
   "execution_count": 115,
   "metadata": {},
   "outputs": [
    {
     "data": {
      "text/html": [
       "<div>\n",
       "<style scoped>\n",
       "    .dataframe tbody tr th:only-of-type {\n",
       "        vertical-align: middle;\n",
       "    }\n",
       "\n",
       "    .dataframe tbody tr th {\n",
       "        vertical-align: top;\n",
       "    }\n",
       "\n",
       "    .dataframe thead th {\n",
       "        text-align: right;\n",
       "    }\n",
       "</style>\n",
       "<table border=\"1\" class=\"dataframe\">\n",
       "  <thead>\n",
       "    <tr style=\"text-align: right;\">\n",
       "      <th></th>\n",
       "      <th>user_id</th>\n",
       "      <th>item_id</th>\n",
       "      <th>rating</th>\n",
       "      <th>titmestamp</th>\n",
       "    </tr>\n",
       "  </thead>\n",
       "  <tbody>\n",
       "    <tr>\n",
       "      <th>0</th>\n",
       "      <td>AKM1MP6P0OYPR</td>\n",
       "      <td>0132793040</td>\n",
       "      <td>5.0</td>\n",
       "      <td>1365811200</td>\n",
       "    </tr>\n",
       "    <tr>\n",
       "      <th>1</th>\n",
       "      <td>A2CX7LUOHB2NDG</td>\n",
       "      <td>0321732944</td>\n",
       "      <td>5.0</td>\n",
       "      <td>1341100800</td>\n",
       "    </tr>\n",
       "    <tr>\n",
       "      <th>2</th>\n",
       "      <td>A2NWSAGRHCP8N5</td>\n",
       "      <td>0439886341</td>\n",
       "      <td>1.0</td>\n",
       "      <td>1367193600</td>\n",
       "    </tr>\n",
       "    <tr>\n",
       "      <th>3</th>\n",
       "      <td>A2WNBOD3WNDNKT</td>\n",
       "      <td>0439886341</td>\n",
       "      <td>3.0</td>\n",
       "      <td>1374451200</td>\n",
       "    </tr>\n",
       "    <tr>\n",
       "      <th>4</th>\n",
       "      <td>A1GI0U4ZRJA8WN</td>\n",
       "      <td>0439886341</td>\n",
       "      <td>1.0</td>\n",
       "      <td>1334707200</td>\n",
       "    </tr>\n",
       "    <tr>\n",
       "      <th>5</th>\n",
       "      <td>A1QGNMC6O1VW39</td>\n",
       "      <td>0511189877</td>\n",
       "      <td>5.0</td>\n",
       "      <td>1397433600</td>\n",
       "    </tr>\n",
       "    <tr>\n",
       "      <th>6</th>\n",
       "      <td>A3J3BRHTDRFJ2G</td>\n",
       "      <td>0511189877</td>\n",
       "      <td>2.0</td>\n",
       "      <td>1397433600</td>\n",
       "    </tr>\n",
       "    <tr>\n",
       "      <th>7</th>\n",
       "      <td>A2TY0BTJOTENPG</td>\n",
       "      <td>0511189877</td>\n",
       "      <td>5.0</td>\n",
       "      <td>1395878400</td>\n",
       "    </tr>\n",
       "    <tr>\n",
       "      <th>8</th>\n",
       "      <td>A34ATBPOK6HCHY</td>\n",
       "      <td>0511189877</td>\n",
       "      <td>5.0</td>\n",
       "      <td>1395532800</td>\n",
       "    </tr>\n",
       "    <tr>\n",
       "      <th>9</th>\n",
       "      <td>A89DO69P0XZ27</td>\n",
       "      <td>0511189877</td>\n",
       "      <td>5.0</td>\n",
       "      <td>1395446400</td>\n",
       "    </tr>\n",
       "  </tbody>\n",
       "</table>\n",
       "</div>"
      ],
      "text/plain": [
       "          user_id     item_id  rating  titmestamp\n",
       "0   AKM1MP6P0OYPR  0132793040     5.0  1365811200\n",
       "1  A2CX7LUOHB2NDG  0321732944     5.0  1341100800\n",
       "2  A2NWSAGRHCP8N5  0439886341     1.0  1367193600\n",
       "3  A2WNBOD3WNDNKT  0439886341     3.0  1374451200\n",
       "4  A1GI0U4ZRJA8WN  0439886341     1.0  1334707200\n",
       "5  A1QGNMC6O1VW39  0511189877     5.0  1397433600\n",
       "6  A3J3BRHTDRFJ2G  0511189877     2.0  1397433600\n",
       "7  A2TY0BTJOTENPG  0511189877     5.0  1395878400\n",
       "8  A34ATBPOK6HCHY  0511189877     5.0  1395532800\n",
       "9   A89DO69P0XZ27  0511189877     5.0  1395446400"
      ]
     },
     "execution_count": 115,
     "metadata": {},
     "output_type": "execute_result"
    }
   ],
   "source": [
    "df.head(10)"
   ]
  },
  {
   "cell_type": "code",
   "execution_count": 116,
   "metadata": {},
   "outputs": [],
   "source": [
    "# The fourth column is timestamp not providing any valuable information. So we can drop it."
   ]
  },
  {
   "cell_type": "code",
   "execution_count": 117,
   "metadata": {},
   "outputs": [],
   "source": [
    "df = df.drop('titmestamp', axis=1)"
   ]
  },
  {
   "cell_type": "code",
   "execution_count": 118,
   "metadata": {},
   "outputs": [
    {
     "data": {
      "text/plain": [
       "(7824482, 3)"
      ]
     },
     "execution_count": 118,
     "metadata": {},
     "output_type": "execute_result"
    }
   ],
   "source": [
    "df.shape"
   ]
  },
  {
   "cell_type": "code",
   "execution_count": 119,
   "metadata": {},
   "outputs": [
    {
     "data": {
      "text/html": [
       "<div>\n",
       "<style scoped>\n",
       "    .dataframe tbody tr th:only-of-type {\n",
       "        vertical-align: middle;\n",
       "    }\n",
       "\n",
       "    .dataframe tbody tr th {\n",
       "        vertical-align: top;\n",
       "    }\n",
       "\n",
       "    .dataframe thead th {\n",
       "        text-align: right;\n",
       "    }\n",
       "</style>\n",
       "<table border=\"1\" class=\"dataframe\">\n",
       "  <thead>\n",
       "    <tr style=\"text-align: right;\">\n",
       "      <th></th>\n",
       "      <th>count</th>\n",
       "      <th>mean</th>\n",
       "      <th>std</th>\n",
       "      <th>min</th>\n",
       "      <th>25%</th>\n",
       "      <th>50%</th>\n",
       "      <th>75%</th>\n",
       "      <th>max</th>\n",
       "    </tr>\n",
       "  </thead>\n",
       "  <tbody>\n",
       "    <tr>\n",
       "      <th>rating</th>\n",
       "      <td>7824482.0</td>\n",
       "      <td>4.012337</td>\n",
       "      <td>1.38091</td>\n",
       "      <td>1.0</td>\n",
       "      <td>3.0</td>\n",
       "      <td>5.0</td>\n",
       "      <td>5.0</td>\n",
       "      <td>5.0</td>\n",
       "    </tr>\n",
       "  </tbody>\n",
       "</table>\n",
       "</div>"
      ],
      "text/plain": [
       "            count      mean      std  min  25%  50%  75%  max\n",
       "rating  7824482.0  4.012337  1.38091  1.0  3.0  5.0  5.0  5.0"
      ]
     },
     "execution_count": 119,
     "metadata": {},
     "output_type": "execute_result"
    }
   ],
   "source": [
    "df.describe().T"
   ]
  },
  {
   "cell_type": "code",
   "execution_count": 120,
   "metadata": {},
   "outputs": [],
   "source": [
    "# Not much info from rating column."
   ]
  },
  {
   "cell_type": "markdown",
   "metadata": {},
   "source": [
    "# Take a subset of the dataset to make it less sparse/ denser. \n",
    "#( For example, keep the users only who has given 50 or more number of ratings )"
   ]
  },
  {
   "cell_type": "code",
   "execution_count": 121,
   "metadata": {},
   "outputs": [
    {
     "data": {
      "text/html": [
       "<div>\n",
       "<style scoped>\n",
       "    .dataframe tbody tr th:only-of-type {\n",
       "        vertical-align: middle;\n",
       "    }\n",
       "\n",
       "    .dataframe tbody tr th {\n",
       "        vertical-align: top;\n",
       "    }\n",
       "\n",
       "    .dataframe thead th {\n",
       "        text-align: right;\n",
       "    }\n",
       "</style>\n",
       "<table border=\"1\" class=\"dataframe\">\n",
       "  <thead>\n",
       "    <tr style=\"text-align: right;\">\n",
       "      <th></th>\n",
       "      <th>user_id</th>\n",
       "      <th>item_id_x</th>\n",
       "      <th>rating_x</th>\n",
       "      <th>item_id_y</th>\n",
       "      <th>rating_y</th>\n",
       "    </tr>\n",
       "  </thead>\n",
       "  <tbody>\n",
       "    <tr>\n",
       "      <th>0</th>\n",
       "      <td>AKM1MP6P0OYPR</td>\n",
       "      <td>0132793040</td>\n",
       "      <td>5.0</td>\n",
       "      <td>2</td>\n",
       "      <td>2</td>\n",
       "    </tr>\n",
       "    <tr>\n",
       "      <th>1</th>\n",
       "      <td>AKM1MP6P0OYPR</td>\n",
       "      <td>B005UEB5TQ</td>\n",
       "      <td>5.0</td>\n",
       "      <td>2</td>\n",
       "      <td>2</td>\n",
       "    </tr>\n",
       "    <tr>\n",
       "      <th>2</th>\n",
       "      <td>A2CX7LUOHB2NDG</td>\n",
       "      <td>0321732944</td>\n",
       "      <td>5.0</td>\n",
       "      <td>4</td>\n",
       "      <td>4</td>\n",
       "    </tr>\n",
       "    <tr>\n",
       "      <th>3</th>\n",
       "      <td>A2CX7LUOHB2NDG</td>\n",
       "      <td>B000W3LJ6Y</td>\n",
       "      <td>5.0</td>\n",
       "      <td>4</td>\n",
       "      <td>4</td>\n",
       "    </tr>\n",
       "    <tr>\n",
       "      <th>4</th>\n",
       "      <td>A2CX7LUOHB2NDG</td>\n",
       "      <td>B001EYU79A</td>\n",
       "      <td>5.0</td>\n",
       "      <td>4</td>\n",
       "      <td>4</td>\n",
       "    </tr>\n",
       "    <tr>\n",
       "      <th>5</th>\n",
       "      <td>A2CX7LUOHB2NDG</td>\n",
       "      <td>B0089MVZDW</td>\n",
       "      <td>4.0</td>\n",
       "      <td>4</td>\n",
       "      <td>4</td>\n",
       "    </tr>\n",
       "    <tr>\n",
       "      <th>6</th>\n",
       "      <td>A2NWSAGRHCP8N5</td>\n",
       "      <td>0439886341</td>\n",
       "      <td>1.0</td>\n",
       "      <td>1</td>\n",
       "      <td>1</td>\n",
       "    </tr>\n",
       "    <tr>\n",
       "      <th>7</th>\n",
       "      <td>A2WNBOD3WNDNKT</td>\n",
       "      <td>0439886341</td>\n",
       "      <td>3.0</td>\n",
       "      <td>1</td>\n",
       "      <td>1</td>\n",
       "    </tr>\n",
       "    <tr>\n",
       "      <th>8</th>\n",
       "      <td>A1GI0U4ZRJA8WN</td>\n",
       "      <td>0439886341</td>\n",
       "      <td>1.0</td>\n",
       "      <td>1</td>\n",
       "      <td>1</td>\n",
       "    </tr>\n",
       "    <tr>\n",
       "      <th>9</th>\n",
       "      <td>A1QGNMC6O1VW39</td>\n",
       "      <td>0511189877</td>\n",
       "      <td>5.0</td>\n",
       "      <td>2</td>\n",
       "      <td>2</td>\n",
       "    </tr>\n",
       "    <tr>\n",
       "      <th>10</th>\n",
       "      <td>A1QGNMC6O1VW39</td>\n",
       "      <td>B0081X0SN2</td>\n",
       "      <td>5.0</td>\n",
       "      <td>2</td>\n",
       "      <td>2</td>\n",
       "    </tr>\n",
       "    <tr>\n",
       "      <th>11</th>\n",
       "      <td>A3J3BRHTDRFJ2G</td>\n",
       "      <td>0511189877</td>\n",
       "      <td>2.0</td>\n",
       "      <td>19</td>\n",
       "      <td>19</td>\n",
       "    </tr>\n",
       "    <tr>\n",
       "      <th>12</th>\n",
       "      <td>A3J3BRHTDRFJ2G</td>\n",
       "      <td>B00005TQ09</td>\n",
       "      <td>2.0</td>\n",
       "      <td>19</td>\n",
       "      <td>19</td>\n",
       "    </tr>\n",
       "    <tr>\n",
       "      <th>13</th>\n",
       "      <td>A3J3BRHTDRFJ2G</td>\n",
       "      <td>B0000C47QL</td>\n",
       "      <td>3.0</td>\n",
       "      <td>19</td>\n",
       "      <td>19</td>\n",
       "    </tr>\n",
       "    <tr>\n",
       "      <th>14</th>\n",
       "      <td>A3J3BRHTDRFJ2G</td>\n",
       "      <td>B0001Y7UAI</td>\n",
       "      <td>4.0</td>\n",
       "      <td>19</td>\n",
       "      <td>19</td>\n",
       "    </tr>\n",
       "    <tr>\n",
       "      <th>15</th>\n",
       "      <td>A3J3BRHTDRFJ2G</td>\n",
       "      <td>B00020BJA8</td>\n",
       "      <td>4.0</td>\n",
       "      <td>19</td>\n",
       "      <td>19</td>\n",
       "    </tr>\n",
       "    <tr>\n",
       "      <th>16</th>\n",
       "      <td>A3J3BRHTDRFJ2G</td>\n",
       "      <td>B000BQ7GW8</td>\n",
       "      <td>5.0</td>\n",
       "      <td>19</td>\n",
       "      <td>19</td>\n",
       "    </tr>\n",
       "    <tr>\n",
       "      <th>17</th>\n",
       "      <td>A3J3BRHTDRFJ2G</td>\n",
       "      <td>B000EPR7XO</td>\n",
       "      <td>5.0</td>\n",
       "      <td>19</td>\n",
       "      <td>19</td>\n",
       "    </tr>\n",
       "    <tr>\n",
       "      <th>18</th>\n",
       "      <td>A3J3BRHTDRFJ2G</td>\n",
       "      <td>B000M2GYF6</td>\n",
       "      <td>2.0</td>\n",
       "      <td>19</td>\n",
       "      <td>19</td>\n",
       "    </tr>\n",
       "    <tr>\n",
       "      <th>19</th>\n",
       "      <td>A3J3BRHTDRFJ2G</td>\n",
       "      <td>B001EH8FZA</td>\n",
       "      <td>5.0</td>\n",
       "      <td>19</td>\n",
       "      <td>19</td>\n",
       "    </tr>\n",
       "    <tr>\n",
       "      <th>20</th>\n",
       "      <td>A3J3BRHTDRFJ2G</td>\n",
       "      <td>B001EZRYYU</td>\n",
       "      <td>2.0</td>\n",
       "      <td>19</td>\n",
       "      <td>19</td>\n",
       "    </tr>\n",
       "    <tr>\n",
       "      <th>21</th>\n",
       "      <td>A3J3BRHTDRFJ2G</td>\n",
       "      <td>B001T9EYFI</td>\n",
       "      <td>2.0</td>\n",
       "      <td>19</td>\n",
       "      <td>19</td>\n",
       "    </tr>\n",
       "    <tr>\n",
       "      <th>22</th>\n",
       "      <td>A3J3BRHTDRFJ2G</td>\n",
       "      <td>B001U3Y8NG</td>\n",
       "      <td>4.0</td>\n",
       "      <td>19</td>\n",
       "      <td>19</td>\n",
       "    </tr>\n",
       "    <tr>\n",
       "      <th>23</th>\n",
       "      <td>A3J3BRHTDRFJ2G</td>\n",
       "      <td>B002EEAITS</td>\n",
       "      <td>1.0</td>\n",
       "      <td>19</td>\n",
       "      <td>19</td>\n",
       "    </tr>\n",
       "    <tr>\n",
       "      <th>24</th>\n",
       "      <td>A3J3BRHTDRFJ2G</td>\n",
       "      <td>B003E2QADM</td>\n",
       "      <td>2.0</td>\n",
       "      <td>19</td>\n",
       "      <td>19</td>\n",
       "    </tr>\n",
       "    <tr>\n",
       "      <th>25</th>\n",
       "      <td>A3J3BRHTDRFJ2G</td>\n",
       "      <td>B003HFCDLY</td>\n",
       "      <td>4.0</td>\n",
       "      <td>19</td>\n",
       "      <td>19</td>\n",
       "    </tr>\n",
       "    <tr>\n",
       "      <th>26</th>\n",
       "      <td>A3J3BRHTDRFJ2G</td>\n",
       "      <td>B004S7Q8CA</td>\n",
       "      <td>2.0</td>\n",
       "      <td>19</td>\n",
       "      <td>19</td>\n",
       "    </tr>\n",
       "    <tr>\n",
       "      <th>27</th>\n",
       "      <td>A3J3BRHTDRFJ2G</td>\n",
       "      <td>B004YX6W2E</td>\n",
       "      <td>3.0</td>\n",
       "      <td>19</td>\n",
       "      <td>19</td>\n",
       "    </tr>\n",
       "    <tr>\n",
       "      <th>28</th>\n",
       "      <td>A3J3BRHTDRFJ2G</td>\n",
       "      <td>B005KG44V0</td>\n",
       "      <td>5.0</td>\n",
       "      <td>19</td>\n",
       "      <td>19</td>\n",
       "    </tr>\n",
       "    <tr>\n",
       "      <th>29</th>\n",
       "      <td>A3J3BRHTDRFJ2G</td>\n",
       "      <td>B0097I53RG</td>\n",
       "      <td>4.0</td>\n",
       "      <td>19</td>\n",
       "      <td>19</td>\n",
       "    </tr>\n",
       "    <tr>\n",
       "      <th>...</th>\n",
       "      <td>...</td>\n",
       "      <td>...</td>\n",
       "      <td>...</td>\n",
       "      <td>...</td>\n",
       "      <td>...</td>\n",
       "    </tr>\n",
       "    <tr>\n",
       "      <th>7824452</th>\n",
       "      <td>A1RDSPU99X1I0C</td>\n",
       "      <td>B00LBZ1Z7K</td>\n",
       "      <td>2.0</td>\n",
       "      <td>1</td>\n",
       "      <td>1</td>\n",
       "    </tr>\n",
       "    <tr>\n",
       "      <th>7824453</th>\n",
       "      <td>A1E9RS3N58XC2F</td>\n",
       "      <td>B00LC0J3PA</td>\n",
       "      <td>5.0</td>\n",
       "      <td>1</td>\n",
       "      <td>1</td>\n",
       "    </tr>\n",
       "    <tr>\n",
       "      <th>7824454</th>\n",
       "      <td>A2X8QMH2CDL2KS</td>\n",
       "      <td>B00LCB4UFC</td>\n",
       "      <td>5.0</td>\n",
       "      <td>1</td>\n",
       "      <td>1</td>\n",
       "    </tr>\n",
       "    <tr>\n",
       "      <th>7824455</th>\n",
       "      <td>A3MMRD1V8N7PWP</td>\n",
       "      <td>B00LCB4UFC</td>\n",
       "      <td>5.0</td>\n",
       "      <td>1</td>\n",
       "      <td>1</td>\n",
       "    </tr>\n",
       "    <tr>\n",
       "      <th>7824456</th>\n",
       "      <td>A2HOQAP3738G7L</td>\n",
       "      <td>B00LCT4F4A</td>\n",
       "      <td>5.0</td>\n",
       "      <td>1</td>\n",
       "      <td>1</td>\n",
       "    </tr>\n",
       "    <tr>\n",
       "      <th>7824457</th>\n",
       "      <td>ATTXI2W0DP1B3</td>\n",
       "      <td>B00LE58W6Y</td>\n",
       "      <td>5.0</td>\n",
       "      <td>1</td>\n",
       "      <td>1</td>\n",
       "    </tr>\n",
       "    <tr>\n",
       "      <th>7824458</th>\n",
       "      <td>ASZ8CYOTTSZUJ</td>\n",
       "      <td>B00LEWDSRU</td>\n",
       "      <td>2.0</td>\n",
       "      <td>1</td>\n",
       "      <td>1</td>\n",
       "    </tr>\n",
       "    <tr>\n",
       "      <th>7824459</th>\n",
       "      <td>AJC29P2GI62ID</td>\n",
       "      <td>B00LFWLOCU</td>\n",
       "      <td>5.0</td>\n",
       "      <td>1</td>\n",
       "      <td>1</td>\n",
       "    </tr>\n",
       "    <tr>\n",
       "      <th>7824460</th>\n",
       "      <td>A2WCL15CNCGT6K</td>\n",
       "      <td>B00LG0PERM</td>\n",
       "      <td>5.0</td>\n",
       "      <td>1</td>\n",
       "      <td>1</td>\n",
       "    </tr>\n",
       "    <tr>\n",
       "      <th>7824461</th>\n",
       "      <td>A1IM8R01Y4IIU2</td>\n",
       "      <td>B00LG0PERM</td>\n",
       "      <td>5.0</td>\n",
       "      <td>1</td>\n",
       "      <td>1</td>\n",
       "    </tr>\n",
       "    <tr>\n",
       "      <th>7824462</th>\n",
       "      <td>A29LYS3MI7IFX9</td>\n",
       "      <td>B00LH9OL5I</td>\n",
       "      <td>5.0</td>\n",
       "      <td>1</td>\n",
       "      <td>1</td>\n",
       "    </tr>\n",
       "    <tr>\n",
       "      <th>7824463</th>\n",
       "      <td>A2K47O5IHVR23E</td>\n",
       "      <td>B00LI8Y9Y6</td>\n",
       "      <td>5.0</td>\n",
       "      <td>1</td>\n",
       "      <td>1</td>\n",
       "    </tr>\n",
       "    <tr>\n",
       "      <th>7824464</th>\n",
       "      <td>A1W7UGF4Y843PY</td>\n",
       "      <td>B00LJO86NE</td>\n",
       "      <td>5.0</td>\n",
       "      <td>1</td>\n",
       "      <td>1</td>\n",
       "    </tr>\n",
       "    <tr>\n",
       "      <th>7824465</th>\n",
       "      <td>A7L6ORAF0MS4W</td>\n",
       "      <td>B00LMKAUU2</td>\n",
       "      <td>5.0</td>\n",
       "      <td>1</td>\n",
       "      <td>1</td>\n",
       "    </tr>\n",
       "    <tr>\n",
       "      <th>7824466</th>\n",
       "      <td>A3AENU8Y9HLRAQ</td>\n",
       "      <td>B00LMOH8DU</td>\n",
       "      <td>5.0</td>\n",
       "      <td>1</td>\n",
       "      <td>1</td>\n",
       "    </tr>\n",
       "    <tr>\n",
       "      <th>7824467</th>\n",
       "      <td>ABX8TXRB2GSKO</td>\n",
       "      <td>B00LMOH8DU</td>\n",
       "      <td>5.0</td>\n",
       "      <td>1</td>\n",
       "      <td>1</td>\n",
       "    </tr>\n",
       "    <tr>\n",
       "      <th>7824468</th>\n",
       "      <td>A1QUWXCBPGCQMW</td>\n",
       "      <td>B00LMOH8DU</td>\n",
       "      <td>5.0</td>\n",
       "      <td>1</td>\n",
       "      <td>1</td>\n",
       "    </tr>\n",
       "    <tr>\n",
       "      <th>7824469</th>\n",
       "      <td>A3FOXB6244Y5PC</td>\n",
       "      <td>B00LNUH5X6</td>\n",
       "      <td>5.0</td>\n",
       "      <td>1</td>\n",
       "      <td>1</td>\n",
       "    </tr>\n",
       "    <tr>\n",
       "      <th>7824470</th>\n",
       "      <td>AG1NNE1V43RWC</td>\n",
       "      <td>B00LOLBBQQ</td>\n",
       "      <td>1.0</td>\n",
       "      <td>1</td>\n",
       "      <td>1</td>\n",
       "    </tr>\n",
       "    <tr>\n",
       "      <th>7824471</th>\n",
       "      <td>A2025SOZT6OE6D</td>\n",
       "      <td>B00LS5WBYE</td>\n",
       "      <td>5.0</td>\n",
       "      <td>1</td>\n",
       "      <td>1</td>\n",
       "    </tr>\n",
       "    <tr>\n",
       "      <th>7824472</th>\n",
       "      <td>AS7WVL4JGN1FI</td>\n",
       "      <td>BT008SXQ4C</td>\n",
       "      <td>1.0</td>\n",
       "      <td>1</td>\n",
       "      <td>1</td>\n",
       "    </tr>\n",
       "    <tr>\n",
       "      <th>7824473</th>\n",
       "      <td>A3GGII8ILEUI4P</td>\n",
       "      <td>BT008T2BGK</td>\n",
       "      <td>5.0</td>\n",
       "      <td>1</td>\n",
       "      <td>1</td>\n",
       "    </tr>\n",
       "    <tr>\n",
       "      <th>7824474</th>\n",
       "      <td>AT10LK8R9MLHT</td>\n",
       "      <td>BT008UKTMW</td>\n",
       "      <td>3.0</td>\n",
       "      <td>1</td>\n",
       "      <td>1</td>\n",
       "    </tr>\n",
       "    <tr>\n",
       "      <th>7824475</th>\n",
       "      <td>A2DARIL2TWUOLS</td>\n",
       "      <td>BT008UKTMW</td>\n",
       "      <td>2.0</td>\n",
       "      <td>1</td>\n",
       "      <td>1</td>\n",
       "    </tr>\n",
       "    <tr>\n",
       "      <th>7824476</th>\n",
       "      <td>A7ETK9SC1HAMP</td>\n",
       "      <td>BT008UKTMW</td>\n",
       "      <td>5.0</td>\n",
       "      <td>1</td>\n",
       "      <td>1</td>\n",
       "    </tr>\n",
       "    <tr>\n",
       "      <th>7824477</th>\n",
       "      <td>A5FUA9HEV2O42</td>\n",
       "      <td>BT008UKTMW</td>\n",
       "      <td>5.0</td>\n",
       "      <td>1</td>\n",
       "      <td>1</td>\n",
       "    </tr>\n",
       "    <tr>\n",
       "      <th>7824478</th>\n",
       "      <td>A84WRQR47OOKR</td>\n",
       "      <td>BT008UKTMW</td>\n",
       "      <td>1.0</td>\n",
       "      <td>1</td>\n",
       "      <td>1</td>\n",
       "    </tr>\n",
       "    <tr>\n",
       "      <th>7824479</th>\n",
       "      <td>A180UGKKYCPDH0</td>\n",
       "      <td>BT008UKTMW</td>\n",
       "      <td>5.0</td>\n",
       "      <td>1</td>\n",
       "      <td>1</td>\n",
       "    </tr>\n",
       "    <tr>\n",
       "      <th>7824480</th>\n",
       "      <td>A2IGIIABRZ5LAB</td>\n",
       "      <td>BT008UKTMW</td>\n",
       "      <td>5.0</td>\n",
       "      <td>1</td>\n",
       "      <td>1</td>\n",
       "    </tr>\n",
       "    <tr>\n",
       "      <th>7824481</th>\n",
       "      <td>A10M2KEFPEQDHN</td>\n",
       "      <td>BT008UKTMW</td>\n",
       "      <td>4.0</td>\n",
       "      <td>1</td>\n",
       "      <td>1</td>\n",
       "    </tr>\n",
       "  </tbody>\n",
       "</table>\n",
       "<p>7824482 rows × 5 columns</p>\n",
       "</div>"
      ],
      "text/plain": [
       "                user_id   item_id_x  rating_x  item_id_y  rating_y\n",
       "0         AKM1MP6P0OYPR  0132793040       5.0          2         2\n",
       "1         AKM1MP6P0OYPR  B005UEB5TQ       5.0          2         2\n",
       "2        A2CX7LUOHB2NDG  0321732944       5.0          4         4\n",
       "3        A2CX7LUOHB2NDG  B000W3LJ6Y       5.0          4         4\n",
       "4        A2CX7LUOHB2NDG  B001EYU79A       5.0          4         4\n",
       "5        A2CX7LUOHB2NDG  B0089MVZDW       4.0          4         4\n",
       "6        A2NWSAGRHCP8N5  0439886341       1.0          1         1\n",
       "7        A2WNBOD3WNDNKT  0439886341       3.0          1         1\n",
       "8        A1GI0U4ZRJA8WN  0439886341       1.0          1         1\n",
       "9        A1QGNMC6O1VW39  0511189877       5.0          2         2\n",
       "10       A1QGNMC6O1VW39  B0081X0SN2       5.0          2         2\n",
       "11       A3J3BRHTDRFJ2G  0511189877       2.0         19        19\n",
       "12       A3J3BRHTDRFJ2G  B00005TQ09       2.0         19        19\n",
       "13       A3J3BRHTDRFJ2G  B0000C47QL       3.0         19        19\n",
       "14       A3J3BRHTDRFJ2G  B0001Y7UAI       4.0         19        19\n",
       "15       A3J3BRHTDRFJ2G  B00020BJA8       4.0         19        19\n",
       "16       A3J3BRHTDRFJ2G  B000BQ7GW8       5.0         19        19\n",
       "17       A3J3BRHTDRFJ2G  B000EPR7XO       5.0         19        19\n",
       "18       A3J3BRHTDRFJ2G  B000M2GYF6       2.0         19        19\n",
       "19       A3J3BRHTDRFJ2G  B001EH8FZA       5.0         19        19\n",
       "20       A3J3BRHTDRFJ2G  B001EZRYYU       2.0         19        19\n",
       "21       A3J3BRHTDRFJ2G  B001T9EYFI       2.0         19        19\n",
       "22       A3J3BRHTDRFJ2G  B001U3Y8NG       4.0         19        19\n",
       "23       A3J3BRHTDRFJ2G  B002EEAITS       1.0         19        19\n",
       "24       A3J3BRHTDRFJ2G  B003E2QADM       2.0         19        19\n",
       "25       A3J3BRHTDRFJ2G  B003HFCDLY       4.0         19        19\n",
       "26       A3J3BRHTDRFJ2G  B004S7Q8CA       2.0         19        19\n",
       "27       A3J3BRHTDRFJ2G  B004YX6W2E       3.0         19        19\n",
       "28       A3J3BRHTDRFJ2G  B005KG44V0       5.0         19        19\n",
       "29       A3J3BRHTDRFJ2G  B0097I53RG       4.0         19        19\n",
       "...                 ...         ...       ...        ...       ...\n",
       "7824452  A1RDSPU99X1I0C  B00LBZ1Z7K       2.0          1         1\n",
       "7824453  A1E9RS3N58XC2F  B00LC0J3PA       5.0          1         1\n",
       "7824454  A2X8QMH2CDL2KS  B00LCB4UFC       5.0          1         1\n",
       "7824455  A3MMRD1V8N7PWP  B00LCB4UFC       5.0          1         1\n",
       "7824456  A2HOQAP3738G7L  B00LCT4F4A       5.0          1         1\n",
       "7824457   ATTXI2W0DP1B3  B00LE58W6Y       5.0          1         1\n",
       "7824458   ASZ8CYOTTSZUJ  B00LEWDSRU       2.0          1         1\n",
       "7824459   AJC29P2GI62ID  B00LFWLOCU       5.0          1         1\n",
       "7824460  A2WCL15CNCGT6K  B00LG0PERM       5.0          1         1\n",
       "7824461  A1IM8R01Y4IIU2  B00LG0PERM       5.0          1         1\n",
       "7824462  A29LYS3MI7IFX9  B00LH9OL5I       5.0          1         1\n",
       "7824463  A2K47O5IHVR23E  B00LI8Y9Y6       5.0          1         1\n",
       "7824464  A1W7UGF4Y843PY  B00LJO86NE       5.0          1         1\n",
       "7824465   A7L6ORAF0MS4W  B00LMKAUU2       5.0          1         1\n",
       "7824466  A3AENU8Y9HLRAQ  B00LMOH8DU       5.0          1         1\n",
       "7824467   ABX8TXRB2GSKO  B00LMOH8DU       5.0          1         1\n",
       "7824468  A1QUWXCBPGCQMW  B00LMOH8DU       5.0          1         1\n",
       "7824469  A3FOXB6244Y5PC  B00LNUH5X6       5.0          1         1\n",
       "7824470   AG1NNE1V43RWC  B00LOLBBQQ       1.0          1         1\n",
       "7824471  A2025SOZT6OE6D  B00LS5WBYE       5.0          1         1\n",
       "7824472   AS7WVL4JGN1FI  BT008SXQ4C       1.0          1         1\n",
       "7824473  A3GGII8ILEUI4P  BT008T2BGK       5.0          1         1\n",
       "7824474   AT10LK8R9MLHT  BT008UKTMW       3.0          1         1\n",
       "7824475  A2DARIL2TWUOLS  BT008UKTMW       2.0          1         1\n",
       "7824476   A7ETK9SC1HAMP  BT008UKTMW       5.0          1         1\n",
       "7824477   A5FUA9HEV2O42  BT008UKTMW       5.0          1         1\n",
       "7824478   A84WRQR47OOKR  BT008UKTMW       1.0          1         1\n",
       "7824479  A180UGKKYCPDH0  BT008UKTMW       5.0          1         1\n",
       "7824480  A2IGIIABRZ5LAB  BT008UKTMW       5.0          1         1\n",
       "7824481  A10M2KEFPEQDHN  BT008UKTMW       4.0          1         1\n",
       "\n",
       "[7824482 rows x 5 columns]"
      ]
     },
     "execution_count": 121,
     "metadata": {},
     "output_type": "execute_result"
    }
   ],
   "source": [
    "count = df.groupby(\"user_id\", as_index=False).count()\n",
    "mean = df.groupby(\"user_id\", as_index=False).mean()\n",
    "\n",
    "dfMerged = pd.merge(df, count, how='right', on=['user_id'])\n",
    "dfMerged"
   ]
  },
  {
   "cell_type": "code",
   "execution_count": 122,
   "metadata": {},
   "outputs": [],
   "source": [
    "dfMerged[\"item_id\"] = dfMerged[\"item_id_x\"]\n",
    "dfMerged[\"rating\"] = dfMerged[\"rating_x\"]\n",
    "dfMerged[\"count_1\"] = dfMerged[\"rating_y\"]\n",
    "\n",
    "dfNew = dfMerged[['user_id','item_id','rating', 'count_1']]"
   ]
  },
  {
   "cell_type": "code",
   "execution_count": 123,
   "metadata": {},
   "outputs": [
    {
     "data": {
      "text/html": [
       "<div>\n",
       "<style scoped>\n",
       "    .dataframe tbody tr th:only-of-type {\n",
       "        vertical-align: middle;\n",
       "    }\n",
       "\n",
       "    .dataframe tbody tr th {\n",
       "        vertical-align: top;\n",
       "    }\n",
       "\n",
       "    .dataframe thead th {\n",
       "        text-align: right;\n",
       "    }\n",
       "</style>\n",
       "<table border=\"1\" class=\"dataframe\">\n",
       "  <thead>\n",
       "    <tr style=\"text-align: right;\">\n",
       "      <th></th>\n",
       "      <th>user_id</th>\n",
       "      <th>item_id</th>\n",
       "      <th>rating</th>\n",
       "      <th>count_1</th>\n",
       "    </tr>\n",
       "  </thead>\n",
       "  <tbody>\n",
       "    <tr>\n",
       "      <th>0</th>\n",
       "      <td>AKM1MP6P0OYPR</td>\n",
       "      <td>0132793040</td>\n",
       "      <td>5.0</td>\n",
       "      <td>2</td>\n",
       "    </tr>\n",
       "    <tr>\n",
       "      <th>1</th>\n",
       "      <td>AKM1MP6P0OYPR</td>\n",
       "      <td>B005UEB5TQ</td>\n",
       "      <td>5.0</td>\n",
       "      <td>2</td>\n",
       "    </tr>\n",
       "    <tr>\n",
       "      <th>2</th>\n",
       "      <td>A2CX7LUOHB2NDG</td>\n",
       "      <td>0321732944</td>\n",
       "      <td>5.0</td>\n",
       "      <td>4</td>\n",
       "    </tr>\n",
       "    <tr>\n",
       "      <th>3</th>\n",
       "      <td>A2CX7LUOHB2NDG</td>\n",
       "      <td>B000W3LJ6Y</td>\n",
       "      <td>5.0</td>\n",
       "      <td>4</td>\n",
       "    </tr>\n",
       "    <tr>\n",
       "      <th>4</th>\n",
       "      <td>A2CX7LUOHB2NDG</td>\n",
       "      <td>B001EYU79A</td>\n",
       "      <td>5.0</td>\n",
       "      <td>4</td>\n",
       "    </tr>\n",
       "  </tbody>\n",
       "</table>\n",
       "</div>"
      ],
      "text/plain": [
       "          user_id     item_id  rating  count_1\n",
       "0   AKM1MP6P0OYPR  0132793040     5.0        2\n",
       "1   AKM1MP6P0OYPR  B005UEB5TQ     5.0        2\n",
       "2  A2CX7LUOHB2NDG  0321732944     5.0        4\n",
       "3  A2CX7LUOHB2NDG  B000W3LJ6Y     5.0        4\n",
       "4  A2CX7LUOHB2NDG  B001EYU79A     5.0        4"
      ]
     },
     "execution_count": 123,
     "metadata": {},
     "output_type": "execute_result"
    }
   ],
   "source": [
    "dfNew.head()"
   ]
  },
  {
   "cell_type": "code",
   "execution_count": 124,
   "metadata": {},
   "outputs": [
    {
     "data": {
      "text/plain": [
       "array([  2,   4,   1,  19,   3,   5,   9,  14,  27,   6,  10,   8,  16,\n",
       "        50,  11,   7, 110,  13,  15,  21,  18,  72, 151,  29,  42,  22,\n",
       "        12,  30,  47,  38,  28,  20,  58,  17,  43, 163,  26,  34,  45,\n",
       "        25,  48,  54,  35,  24,  69,  99,  84,  41,  53,  57,  44,  23,\n",
       "       149,  39,  92,  59, 520,  40, 102,  32,  36,  64,  66, 114,  60,\n",
       "        83, 266, 139,  33,  31,  37, 127, 144,  95,  73, 162, 220,  71,\n",
       "        46,  51,  70, 314,  49, 501,  81,  62, 226,  90, 177,  75,  74,\n",
       "        68, 108, 131,  96,  79,  61, 111, 406, 112, 103, 204, 116, 239,\n",
       "       227,  67,  87, 137, 431, 167,  56, 130, 189,  55,  98, 308, 109,\n",
       "       156, 192, 238, 159,  88, 252, 176, 218,  52, 174, 125,  63, 199,\n",
       "        94, 105, 147,  93,  91, 101, 181, 200, 104, 145, 115, 213,  89,\n",
       "        77, 498,  65, 198, 292,  78, 282, 153,  76,  86,  80,  97,  82,\n",
       "       100, 202, 126, 196, 129, 193, 279, 216, 123, 132, 240, 107, 270,\n",
       "       207, 118, 209, 121, 157, 277, 119, 170, 380, 155, 150,  85, 182,\n",
       "       225, 136, 138, 168, 128, 311, 117, 143, 296, 221, 106, 146, 244,\n",
       "       253, 120, 122, 141, 124, 169, 197, 160, 257, 142, 236, 261, 173,\n",
       "       180, 212, 134, 247, 208, 205, 171], dtype=int64)"
      ]
     },
     "execution_count": 124,
     "metadata": {},
     "output_type": "execute_result"
    }
   ],
   "source": [
    "dfNew['count_1'].unique()"
   ]
  },
  {
   "cell_type": "code",
   "execution_count": 125,
   "metadata": {},
   "outputs": [
    {
     "data": {
      "text/html": [
       "<div>\n",
       "<style scoped>\n",
       "    .dataframe tbody tr th:only-of-type {\n",
       "        vertical-align: middle;\n",
       "    }\n",
       "\n",
       "    .dataframe tbody tr th {\n",
       "        vertical-align: top;\n",
       "    }\n",
       "\n",
       "    .dataframe thead th {\n",
       "        text-align: right;\n",
       "    }\n",
       "</style>\n",
       "<table border=\"1\" class=\"dataframe\">\n",
       "  <thead>\n",
       "    <tr style=\"text-align: right;\">\n",
       "      <th></th>\n",
       "      <th>user_id</th>\n",
       "      <th>item_id</th>\n",
       "      <th>rating</th>\n",
       "      <th>count_1</th>\n",
       "    </tr>\n",
       "  </thead>\n",
       "  <tbody>\n",
       "    <tr>\n",
       "      <th>10199</th>\n",
       "      <td>A5JLAU2ARJ0BO</td>\n",
       "      <td>B00068E1ME</td>\n",
       "      <td>1.0</td>\n",
       "      <td>520</td>\n",
       "    </tr>\n",
       "    <tr>\n",
       "      <th>9924</th>\n",
       "      <td>A5JLAU2ARJ0BO</td>\n",
       "      <td>B0000659UN</td>\n",
       "      <td>5.0</td>\n",
       "      <td>520</td>\n",
       "    </tr>\n",
       "    <tr>\n",
       "      <th>10229</th>\n",
       "      <td>A5JLAU2ARJ0BO</td>\n",
       "      <td>B0007YN3F8</td>\n",
       "      <td>3.0</td>\n",
       "      <td>520</td>\n",
       "    </tr>\n",
       "    <tr>\n",
       "      <th>10228</th>\n",
       "      <td>A5JLAU2ARJ0BO</td>\n",
       "      <td>B0007XXU2K</td>\n",
       "      <td>4.0</td>\n",
       "      <td>520</td>\n",
       "    </tr>\n",
       "    <tr>\n",
       "      <th>10227</th>\n",
       "      <td>A5JLAU2ARJ0BO</td>\n",
       "      <td>B0007XO7AE</td>\n",
       "      <td>4.0</td>\n",
       "      <td>520</td>\n",
       "    </tr>\n",
       "    <tr>\n",
       "      <th>10226</th>\n",
       "      <td>A5JLAU2ARJ0BO</td>\n",
       "      <td>B0007XO79U</td>\n",
       "      <td>4.0</td>\n",
       "      <td>520</td>\n",
       "    </tr>\n",
       "    <tr>\n",
       "      <th>10225</th>\n",
       "      <td>A5JLAU2ARJ0BO</td>\n",
       "      <td>B0007WZMW2</td>\n",
       "      <td>5.0</td>\n",
       "      <td>520</td>\n",
       "    </tr>\n",
       "    <tr>\n",
       "      <th>10224</th>\n",
       "      <td>A5JLAU2ARJ0BO</td>\n",
       "      <td>B0007UVYO4</td>\n",
       "      <td>5.0</td>\n",
       "      <td>520</td>\n",
       "    </tr>\n",
       "    <tr>\n",
       "      <th>10223</th>\n",
       "      <td>A5JLAU2ARJ0BO</td>\n",
       "      <td>B0007UVYLC</td>\n",
       "      <td>5.0</td>\n",
       "      <td>520</td>\n",
       "    </tr>\n",
       "    <tr>\n",
       "      <th>10222</th>\n",
       "      <td>A5JLAU2ARJ0BO</td>\n",
       "      <td>B0007TZNA6</td>\n",
       "      <td>2.0</td>\n",
       "      <td>520</td>\n",
       "    </tr>\n",
       "    <tr>\n",
       "      <th>10221</th>\n",
       "      <td>A5JLAU2ARJ0BO</td>\n",
       "      <td>B0007QKMQY</td>\n",
       "      <td>5.0</td>\n",
       "      <td>520</td>\n",
       "    </tr>\n",
       "    <tr>\n",
       "      <th>10220</th>\n",
       "      <td>A5JLAU2ARJ0BO</td>\n",
       "      <td>B0007P4G58</td>\n",
       "      <td>5.0</td>\n",
       "      <td>520</td>\n",
       "    </tr>\n",
       "    <tr>\n",
       "      <th>10219</th>\n",
       "      <td>A5JLAU2ARJ0BO</td>\n",
       "      <td>B0007P4G4Y</td>\n",
       "      <td>5.0</td>\n",
       "      <td>520</td>\n",
       "    </tr>\n",
       "    <tr>\n",
       "      <th>10218</th>\n",
       "      <td>A5JLAU2ARJ0BO</td>\n",
       "      <td>B0007N55MS</td>\n",
       "      <td>5.0</td>\n",
       "      <td>520</td>\n",
       "    </tr>\n",
       "    <tr>\n",
       "      <th>10217</th>\n",
       "      <td>A5JLAU2ARJ0BO</td>\n",
       "      <td>B0007MU1J6</td>\n",
       "      <td>4.0</td>\n",
       "      <td>520</td>\n",
       "    </tr>\n",
       "    <tr>\n",
       "      <th>10216</th>\n",
       "      <td>A5JLAU2ARJ0BO</td>\n",
       "      <td>B0007KQWF0</td>\n",
       "      <td>5.0</td>\n",
       "      <td>520</td>\n",
       "    </tr>\n",
       "    <tr>\n",
       "      <th>10215</th>\n",
       "      <td>A5JLAU2ARJ0BO</td>\n",
       "      <td>B0007KQWD2</td>\n",
       "      <td>5.0</td>\n",
       "      <td>520</td>\n",
       "    </tr>\n",
       "    <tr>\n",
       "      <th>10214</th>\n",
       "      <td>A5JLAU2ARJ0BO</td>\n",
       "      <td>B0007IOYU2</td>\n",
       "      <td>5.0</td>\n",
       "      <td>520</td>\n",
       "    </tr>\n",
       "    <tr>\n",
       "      <th>10213</th>\n",
       "      <td>A5JLAU2ARJ0BO</td>\n",
       "      <td>B0007GIXQU</td>\n",
       "      <td>5.0</td>\n",
       "      <td>520</td>\n",
       "    </tr>\n",
       "    <tr>\n",
       "      <th>10212</th>\n",
       "      <td>A5JLAU2ARJ0BO</td>\n",
       "      <td>B00078NIOA</td>\n",
       "      <td>5.0</td>\n",
       "      <td>520</td>\n",
       "    </tr>\n",
       "    <tr>\n",
       "      <th>10211</th>\n",
       "      <td>A5JLAU2ARJ0BO</td>\n",
       "      <td>B0006ZBHWY</td>\n",
       "      <td>5.0</td>\n",
       "      <td>520</td>\n",
       "    </tr>\n",
       "    <tr>\n",
       "      <th>10210</th>\n",
       "      <td>A5JLAU2ARJ0BO</td>\n",
       "      <td>B0006VHV64</td>\n",
       "      <td>1.0</td>\n",
       "      <td>520</td>\n",
       "    </tr>\n",
       "    <tr>\n",
       "      <th>10209</th>\n",
       "      <td>A5JLAU2ARJ0BO</td>\n",
       "      <td>B0006O4VMS</td>\n",
       "      <td>4.0</td>\n",
       "      <td>520</td>\n",
       "    </tr>\n",
       "    <tr>\n",
       "      <th>10208</th>\n",
       "      <td>A5JLAU2ARJ0BO</td>\n",
       "      <td>B0006O4VMI</td>\n",
       "      <td>4.0</td>\n",
       "      <td>520</td>\n",
       "    </tr>\n",
       "    <tr>\n",
       "      <th>10207</th>\n",
       "      <td>A5JLAU2ARJ0BO</td>\n",
       "      <td>B0006MWHMG</td>\n",
       "      <td>5.0</td>\n",
       "      <td>520</td>\n",
       "    </tr>\n",
       "    <tr>\n",
       "      <th>10206</th>\n",
       "      <td>A5JLAU2ARJ0BO</td>\n",
       "      <td>B0006J321O</td>\n",
       "      <td>3.0</td>\n",
       "      <td>520</td>\n",
       "    </tr>\n",
       "    <tr>\n",
       "      <th>10205</th>\n",
       "      <td>A5JLAU2ARJ0BO</td>\n",
       "      <td>B0006IEV7E</td>\n",
       "      <td>5.0</td>\n",
       "      <td>520</td>\n",
       "    </tr>\n",
       "    <tr>\n",
       "      <th>10204</th>\n",
       "      <td>A5JLAU2ARJ0BO</td>\n",
       "      <td>B0006I5I7G</td>\n",
       "      <td>1.0</td>\n",
       "      <td>520</td>\n",
       "    </tr>\n",
       "    <tr>\n",
       "      <th>10203</th>\n",
       "      <td>A5JLAU2ARJ0BO</td>\n",
       "      <td>B0006H5I3Q</td>\n",
       "      <td>4.0</td>\n",
       "      <td>520</td>\n",
       "    </tr>\n",
       "    <tr>\n",
       "      <th>10202</th>\n",
       "      <td>A5JLAU2ARJ0BO</td>\n",
       "      <td>B0006FRXI6</td>\n",
       "      <td>5.0</td>\n",
       "      <td>520</td>\n",
       "    </tr>\n",
       "    <tr>\n",
       "      <th>...</th>\n",
       "      <td>...</td>\n",
       "      <td>...</td>\n",
       "      <td>...</td>\n",
       "      <td>...</td>\n",
       "    </tr>\n",
       "    <tr>\n",
       "      <th>76527</th>\n",
       "      <td>A2THQCHKR89E16</td>\n",
       "      <td>B0039HHK22</td>\n",
       "      <td>4.0</td>\n",
       "      <td>51</td>\n",
       "    </tr>\n",
       "    <tr>\n",
       "      <th>76526</th>\n",
       "      <td>A2THQCHKR89E16</td>\n",
       "      <td>B0036PWZN6</td>\n",
       "      <td>4.0</td>\n",
       "      <td>51</td>\n",
       "    </tr>\n",
       "    <tr>\n",
       "      <th>1640192</th>\n",
       "      <td>A2NPN06SYI5VL3</td>\n",
       "      <td>B000EUGX70</td>\n",
       "      <td>5.0</td>\n",
       "      <td>51</td>\n",
       "    </tr>\n",
       "    <tr>\n",
       "      <th>1640191</th>\n",
       "      <td>A2NPN06SYI5VL3</td>\n",
       "      <td>B000BBF43Q</td>\n",
       "      <td>5.0</td>\n",
       "      <td>51</td>\n",
       "    </tr>\n",
       "    <tr>\n",
       "      <th>185640</th>\n",
       "      <td>A3AGQAXTX6VRJ3</td>\n",
       "      <td>B0002Y5WZM</td>\n",
       "      <td>4.0</td>\n",
       "      <td>51</td>\n",
       "    </tr>\n",
       "    <tr>\n",
       "      <th>42170</th>\n",
       "      <td>ASHJAZC9OA9NS</td>\n",
       "      <td>B004GUS5DO</td>\n",
       "      <td>5.0</td>\n",
       "      <td>51</td>\n",
       "    </tr>\n",
       "    <tr>\n",
       "      <th>42169</th>\n",
       "      <td>ASHJAZC9OA9NS</td>\n",
       "      <td>B004E0ZLZQ</td>\n",
       "      <td>3.0</td>\n",
       "      <td>51</td>\n",
       "    </tr>\n",
       "    <tr>\n",
       "      <th>185639</th>\n",
       "      <td>A3AGQAXTX6VRJ3</td>\n",
       "      <td>B0001CNMFM</td>\n",
       "      <td>5.0</td>\n",
       "      <td>51</td>\n",
       "    </tr>\n",
       "    <tr>\n",
       "      <th>185638</th>\n",
       "      <td>A3AGQAXTX6VRJ3</td>\n",
       "      <td>B00005ATMB</td>\n",
       "      <td>4.0</td>\n",
       "      <td>51</td>\n",
       "    </tr>\n",
       "    <tr>\n",
       "      <th>76519</th>\n",
       "      <td>A2THQCHKR89E16</td>\n",
       "      <td>B002GEA4U4</td>\n",
       "      <td>4.0</td>\n",
       "      <td>51</td>\n",
       "    </tr>\n",
       "    <tr>\n",
       "      <th>76518</th>\n",
       "      <td>A2THQCHKR89E16</td>\n",
       "      <td>B002C59TKI</td>\n",
       "      <td>5.0</td>\n",
       "      <td>51</td>\n",
       "    </tr>\n",
       "    <tr>\n",
       "      <th>76517</th>\n",
       "      <td>A2THQCHKR89E16</td>\n",
       "      <td>B001GTT0VO</td>\n",
       "      <td>5.0</td>\n",
       "      <td>51</td>\n",
       "    </tr>\n",
       "    <tr>\n",
       "      <th>185647</th>\n",
       "      <td>A3AGQAXTX6VRJ3</td>\n",
       "      <td>B0007WK8LC</td>\n",
       "      <td>5.0</td>\n",
       "      <td>51</td>\n",
       "    </tr>\n",
       "    <tr>\n",
       "      <th>185646</th>\n",
       "      <td>A3AGQAXTX6VRJ3</td>\n",
       "      <td>B0007QQJWA</td>\n",
       "      <td>5.0</td>\n",
       "      <td>51</td>\n",
       "    </tr>\n",
       "    <tr>\n",
       "      <th>185645</th>\n",
       "      <td>A3AGQAXTX6VRJ3</td>\n",
       "      <td>B0007QKMQY</td>\n",
       "      <td>5.0</td>\n",
       "      <td>51</td>\n",
       "    </tr>\n",
       "    <tr>\n",
       "      <th>76528</th>\n",
       "      <td>A2THQCHKR89E16</td>\n",
       "      <td>B003LMPYDW</td>\n",
       "      <td>5.0</td>\n",
       "      <td>51</td>\n",
       "    </tr>\n",
       "    <tr>\n",
       "      <th>42171</th>\n",
       "      <td>ASHJAZC9OA9NS</td>\n",
       "      <td>B004S4CSHM</td>\n",
       "      <td>5.0</td>\n",
       "      <td>51</td>\n",
       "    </tr>\n",
       "    <tr>\n",
       "      <th>42172</th>\n",
       "      <td>ASHJAZC9OA9NS</td>\n",
       "      <td>B0055P4WJ0</td>\n",
       "      <td>4.0</td>\n",
       "      <td>51</td>\n",
       "    </tr>\n",
       "    <tr>\n",
       "      <th>76522</th>\n",
       "      <td>A2THQCHKR89E16</td>\n",
       "      <td>B002QEBMAK</td>\n",
       "      <td>5.0</td>\n",
       "      <td>51</td>\n",
       "    </tr>\n",
       "    <tr>\n",
       "      <th>76524</th>\n",
       "      <td>A2THQCHKR89E16</td>\n",
       "      <td>B002WV8F6Q</td>\n",
       "      <td>5.0</td>\n",
       "      <td>51</td>\n",
       "    </tr>\n",
       "    <tr>\n",
       "      <th>76523</th>\n",
       "      <td>A2THQCHKR89E16</td>\n",
       "      <td>B002V88HFE</td>\n",
       "      <td>5.0</td>\n",
       "      <td>51</td>\n",
       "    </tr>\n",
       "    <tr>\n",
       "      <th>76525</th>\n",
       "      <td>A2THQCHKR89E16</td>\n",
       "      <td>B002XJG71M</td>\n",
       "      <td>5.0</td>\n",
       "      <td>51</td>\n",
       "    </tr>\n",
       "    <tr>\n",
       "      <th>1123146</th>\n",
       "      <td>A2XRIU3SOYZ0ZC</td>\n",
       "      <td>B0000CFYM9</td>\n",
       "      <td>4.0</td>\n",
       "      <td>51</td>\n",
       "    </tr>\n",
       "    <tr>\n",
       "      <th>1123145</th>\n",
       "      <td>A2XRIU3SOYZ0ZC</td>\n",
       "      <td>B0000A98AC</td>\n",
       "      <td>2.0</td>\n",
       "      <td>51</td>\n",
       "    </tr>\n",
       "    <tr>\n",
       "      <th>76530</th>\n",
       "      <td>A2THQCHKR89E16</td>\n",
       "      <td>B003VAM32E</td>\n",
       "      <td>5.0</td>\n",
       "      <td>51</td>\n",
       "    </tr>\n",
       "    <tr>\n",
       "      <th>76516</th>\n",
       "      <td>A2THQCHKR89E16</td>\n",
       "      <td>B0019DKOVW</td>\n",
       "      <td>3.0</td>\n",
       "      <td>51</td>\n",
       "    </tr>\n",
       "    <tr>\n",
       "      <th>76531</th>\n",
       "      <td>A2THQCHKR89E16</td>\n",
       "      <td>B00425S1H8</td>\n",
       "      <td>4.0</td>\n",
       "      <td>51</td>\n",
       "    </tr>\n",
       "    <tr>\n",
       "      <th>76532</th>\n",
       "      <td>A2THQCHKR89E16</td>\n",
       "      <td>B0049UQYNE</td>\n",
       "      <td>5.0</td>\n",
       "      <td>51</td>\n",
       "    </tr>\n",
       "    <tr>\n",
       "      <th>76520</th>\n",
       "      <td>A2THQCHKR89E16</td>\n",
       "      <td>B002M3SHXA</td>\n",
       "      <td>4.0</td>\n",
       "      <td>51</td>\n",
       "    </tr>\n",
       "    <tr>\n",
       "      <th>76521</th>\n",
       "      <td>A2THQCHKR89E16</td>\n",
       "      <td>B002PJ7FVG</td>\n",
       "      <td>5.0</td>\n",
       "      <td>51</td>\n",
       "    </tr>\n",
       "  </tbody>\n",
       "</table>\n",
       "<p>122171 rows × 4 columns</p>\n",
       "</div>"
      ],
      "text/plain": [
       "                user_id     item_id  rating  count_1\n",
       "10199     A5JLAU2ARJ0BO  B00068E1ME     1.0      520\n",
       "9924      A5JLAU2ARJ0BO  B0000659UN     5.0      520\n",
       "10229     A5JLAU2ARJ0BO  B0007YN3F8     3.0      520\n",
       "10228     A5JLAU2ARJ0BO  B0007XXU2K     4.0      520\n",
       "10227     A5JLAU2ARJ0BO  B0007XO7AE     4.0      520\n",
       "10226     A5JLAU2ARJ0BO  B0007XO79U     4.0      520\n",
       "10225     A5JLAU2ARJ0BO  B0007WZMW2     5.0      520\n",
       "10224     A5JLAU2ARJ0BO  B0007UVYO4     5.0      520\n",
       "10223     A5JLAU2ARJ0BO  B0007UVYLC     5.0      520\n",
       "10222     A5JLAU2ARJ0BO  B0007TZNA6     2.0      520\n",
       "10221     A5JLAU2ARJ0BO  B0007QKMQY     5.0      520\n",
       "10220     A5JLAU2ARJ0BO  B0007P4G58     5.0      520\n",
       "10219     A5JLAU2ARJ0BO  B0007P4G4Y     5.0      520\n",
       "10218     A5JLAU2ARJ0BO  B0007N55MS     5.0      520\n",
       "10217     A5JLAU2ARJ0BO  B0007MU1J6     4.0      520\n",
       "10216     A5JLAU2ARJ0BO  B0007KQWF0     5.0      520\n",
       "10215     A5JLAU2ARJ0BO  B0007KQWD2     5.0      520\n",
       "10214     A5JLAU2ARJ0BO  B0007IOYU2     5.0      520\n",
       "10213     A5JLAU2ARJ0BO  B0007GIXQU     5.0      520\n",
       "10212     A5JLAU2ARJ0BO  B00078NIOA     5.0      520\n",
       "10211     A5JLAU2ARJ0BO  B0006ZBHWY     5.0      520\n",
       "10210     A5JLAU2ARJ0BO  B0006VHV64     1.0      520\n",
       "10209     A5JLAU2ARJ0BO  B0006O4VMS     4.0      520\n",
       "10208     A5JLAU2ARJ0BO  B0006O4VMI     4.0      520\n",
       "10207     A5JLAU2ARJ0BO  B0006MWHMG     5.0      520\n",
       "10206     A5JLAU2ARJ0BO  B0006J321O     3.0      520\n",
       "10205     A5JLAU2ARJ0BO  B0006IEV7E     5.0      520\n",
       "10204     A5JLAU2ARJ0BO  B0006I5I7G     1.0      520\n",
       "10203     A5JLAU2ARJ0BO  B0006H5I3Q     4.0      520\n",
       "10202     A5JLAU2ARJ0BO  B0006FRXI6     5.0      520\n",
       "...                 ...         ...     ...      ...\n",
       "76527    A2THQCHKR89E16  B0039HHK22     4.0       51\n",
       "76526    A2THQCHKR89E16  B0036PWZN6     4.0       51\n",
       "1640192  A2NPN06SYI5VL3  B000EUGX70     5.0       51\n",
       "1640191  A2NPN06SYI5VL3  B000BBF43Q     5.0       51\n",
       "185640   A3AGQAXTX6VRJ3  B0002Y5WZM     4.0       51\n",
       "42170     ASHJAZC9OA9NS  B004GUS5DO     5.0       51\n",
       "42169     ASHJAZC9OA9NS  B004E0ZLZQ     3.0       51\n",
       "185639   A3AGQAXTX6VRJ3  B0001CNMFM     5.0       51\n",
       "185638   A3AGQAXTX6VRJ3  B00005ATMB     4.0       51\n",
       "76519    A2THQCHKR89E16  B002GEA4U4     4.0       51\n",
       "76518    A2THQCHKR89E16  B002C59TKI     5.0       51\n",
       "76517    A2THQCHKR89E16  B001GTT0VO     5.0       51\n",
       "185647   A3AGQAXTX6VRJ3  B0007WK8LC     5.0       51\n",
       "185646   A3AGQAXTX6VRJ3  B0007QQJWA     5.0       51\n",
       "185645   A3AGQAXTX6VRJ3  B0007QKMQY     5.0       51\n",
       "76528    A2THQCHKR89E16  B003LMPYDW     5.0       51\n",
       "42171     ASHJAZC9OA9NS  B004S4CSHM     5.0       51\n",
       "42172     ASHJAZC9OA9NS  B0055P4WJ0     4.0       51\n",
       "76522    A2THQCHKR89E16  B002QEBMAK     5.0       51\n",
       "76524    A2THQCHKR89E16  B002WV8F6Q     5.0       51\n",
       "76523    A2THQCHKR89E16  B002V88HFE     5.0       51\n",
       "76525    A2THQCHKR89E16  B002XJG71M     5.0       51\n",
       "1123146  A2XRIU3SOYZ0ZC  B0000CFYM9     4.0       51\n",
       "1123145  A2XRIU3SOYZ0ZC  B0000A98AC     2.0       51\n",
       "76530    A2THQCHKR89E16  B003VAM32E     5.0       51\n",
       "76516    A2THQCHKR89E16  B0019DKOVW     3.0       51\n",
       "76531    A2THQCHKR89E16  B00425S1H8     4.0       51\n",
       "76532    A2THQCHKR89E16  B0049UQYNE     5.0       51\n",
       "76520    A2THQCHKR89E16  B002M3SHXA     4.0       51\n",
       "76521    A2THQCHKR89E16  B002PJ7FVG     5.0       51\n",
       "\n",
       "[122171 rows x 4 columns]"
      ]
     },
     "execution_count": 125,
     "metadata": {},
     "output_type": "execute_result"
    }
   ],
   "source": [
    "dfNew = dfNew.sort_values(by='count_1', ascending=False)\n",
    "dfCount = dfNew[dfNew.count_1 > 50]\n",
    "dfCount"
   ]
  },
  {
   "cell_type": "code",
   "execution_count": 126,
   "metadata": {},
   "outputs": [],
   "source": [
    "# Now we have the users only who has given 50 or more number of ratings"
   ]
  },
  {
   "cell_type": "code",
   "execution_count": 127,
   "metadata": {},
   "outputs": [
    {
     "data": {
      "text/plain": [
       "(122171, 4)"
      ]
     },
     "execution_count": 127,
     "metadata": {},
     "output_type": "execute_result"
    }
   ],
   "source": [
    "dfCount.shape"
   ]
  },
  {
   "cell_type": "code",
   "execution_count": 128,
   "metadata": {},
   "outputs": [],
   "source": [
    "# We can drop the count_1 column as we are not using it further.\n",
    "new_dfCount = dfCount.drop('count_1', axis=1)"
   ]
  },
  {
   "cell_type": "code",
   "execution_count": 129,
   "metadata": {},
   "outputs": [],
   "source": [
    "# Due to memory error we are taking only 90000 users data."
   ]
  },
  {
   "cell_type": "code",
   "execution_count": 219,
   "metadata": {},
   "outputs": [],
   "source": [
    "new_dfCount = new_dfCount.head(90000)"
   ]
  },
  {
   "cell_type": "code",
   "execution_count": 297,
   "metadata": {},
   "outputs": [],
   "source": [
    "ratings_mean_user_count = pd.DataFrame(new_dfCount.groupby('user_id')['rating'].mean()) \n",
    "ratings_mean_user_count['rating'] = pd.DataFrame(new_dfCount.groupby('user_id')['rating'].count())"
   ]
  },
  {
   "cell_type": "code",
   "execution_count": 298,
   "metadata": {},
   "outputs": [
    {
     "data": {
      "text/plain": [
       "<Figure size 576x432 with 0 Axes>"
      ]
     },
     "execution_count": 298,
     "metadata": {},
     "output_type": "execute_result"
    },
    {
     "data": {
      "text/plain": [
       "<matplotlib.axes._subplots.AxesSubplot at 0x1f3b54bbda0>"
      ]
     },
     "execution_count": 298,
     "metadata": {},
     "output_type": "execute_result"
    },
    {
     "data": {
      "image/png": "[encoded data removed]",
      "text/plain": [
       "<Figure size 576x432 with 1 Axes>"
      ]
     },
     "metadata": {
      "needs_background": "light"
     },
     "output_type": "display_data"
    }
   ],
   "source": [
    "import matplotlib.pyplot as plt  \n",
    "import seaborn as sns  \n",
    "sns.set_style('dark')  \n",
    "%matplotlib inline\n",
    "\n",
    "plt.figure(figsize=(8,6))  \n",
    "plt.rcParams['patch.force_edgecolor'] = True  \n",
    "ratings_mean_user_count['rating'].hist(bins=50) "
   ]
  },
  {
   "cell_type": "code",
   "execution_count": null,
   "metadata": {},
   "outputs": [],
   "source": [
    "# "
   ]
  },
  {
   "cell_type": "code",
   "execution_count": 299,
   "metadata": {},
   "outputs": [],
   "source": [
    "ratings_mean_item_count = pd.DataFrame(new_dfCount.groupby('item_id')['rating'].mean()) \n",
    "ratings_mean_item_count['rating'] = pd.DataFrame(new_dfCount.groupby('item_id')['rating'].count())"
   ]
  },
  {
   "cell_type": "code",
   "execution_count": 300,
   "metadata": {},
   "outputs": [
    {
     "data": {
      "text/plain": [
       "<Figure size 576x432 with 0 Axes>"
      ]
     },
     "execution_count": 300,
     "metadata": {},
     "output_type": "execute_result"
    },
    {
     "data": {
      "text/plain": [
       "<matplotlib.axes._subplots.AxesSubplot at 0x1f3b6e77588>"
      ]
     },
     "execution_count": 300,
     "metadata": {},
     "output_type": "execute_result"
    },
    {
     "data": {
      "image/png": "[encoded data removed]",
      "text/plain": [
       "<Figure size 576x432 with 1 Axes>"
      ]
     },
     "metadata": {
      "needs_background": "light"
     },
     "output_type": "display_data"
    }
   ],
   "source": [
    "plt.figure(figsize=(8,6))  \n",
    "plt.rcParams['patch.force_edgecolor'] = True  \n",
    "ratings_mean_item_count['rating'].hist(bins=50)  "
   ]
  },
  {
   "cell_type": "code",
   "execution_count": null,
   "metadata": {},
   "outputs": [],
   "source": []
  },
  {
   "cell_type": "code",
   "execution_count": 220,
   "metadata": {},
   "outputs": [],
   "source": [
    "# Split data to train and test\n",
    "from sklearn.model_selection import train_test_split\n",
    "import Recommenders as Recommenders"
   ]
  },
  {
   "cell_type": "code",
   "execution_count": 221,
   "metadata": {},
   "outputs": [
    {
     "data": {
      "text/html": [
       "<div>\n",
       "<style scoped>\n",
       "    .dataframe tbody tr th:only-of-type {\n",
       "        vertical-align: middle;\n",
       "    }\n",
       "\n",
       "    .dataframe tbody tr th {\n",
       "        vertical-align: top;\n",
       "    }\n",
       "\n",
       "    .dataframe thead th {\n",
       "        text-align: right;\n",
       "    }\n",
       "</style>\n",
       "<table border=\"1\" class=\"dataframe\">\n",
       "  <thead>\n",
       "    <tr style=\"text-align: right;\">\n",
       "      <th></th>\n",
       "      <th>user_id</th>\n",
       "      <th>item_id</th>\n",
       "      <th>rating</th>\n",
       "    </tr>\n",
       "  </thead>\n",
       "  <tbody>\n",
       "    <tr>\n",
       "      <th>1221878</th>\n",
       "      <td>A1UQBFCERIP7VJ</td>\n",
       "      <td>B0096239G0</td>\n",
       "      <td>4.0</td>\n",
       "    </tr>\n",
       "    <tr>\n",
       "      <th>151945</th>\n",
       "      <td>A31N0XY2UTB25C</td>\n",
       "      <td>B0002WYJSU</td>\n",
       "      <td>5.0</td>\n",
       "    </tr>\n",
       "    <tr>\n",
       "      <th>304448</th>\n",
       "      <td>ARBKYIVNYWK3C</td>\n",
       "      <td>B001GS8G24</td>\n",
       "      <td>5.0</td>\n",
       "    </tr>\n",
       "    <tr>\n",
       "      <th>10289</th>\n",
       "      <td>A5JLAU2ARJ0BO</td>\n",
       "      <td>B000LXVM7G</td>\n",
       "      <td>2.0</td>\n",
       "    </tr>\n",
       "    <tr>\n",
       "      <th>177851</th>\n",
       "      <td>A2NOW4U7W3F7RI</td>\n",
       "      <td>B007P4VOWC</td>\n",
       "      <td>4.0</td>\n",
       "    </tr>\n",
       "  </tbody>\n",
       "</table>\n",
       "</div>"
      ],
      "text/plain": [
       "                user_id     item_id  rating\n",
       "1221878  A1UQBFCERIP7VJ  B0096239G0     4.0\n",
       "151945   A31N0XY2UTB25C  B0002WYJSU     5.0\n",
       "304448    ARBKYIVNYWK3C  B001GS8G24     5.0\n",
       "10289     A5JLAU2ARJ0BO  B000LXVM7G     2.0\n",
       "177851   A2NOW4U7W3F7RI  B007P4VOWC     4.0"
      ]
     },
     "execution_count": 221,
     "metadata": {},
     "output_type": "execute_result"
    }
   ],
   "source": [
    "train_data, test_data = train_test_split(new_dfCount, test_size = 0.30, random_state=0)\n",
    "train_data.head()"
   ]
  },
  {
   "cell_type": "code",
   "execution_count": 222,
   "metadata": {},
   "outputs": [],
   "source": [
    "# Splited data into train and test dataset in 70/30 ratio."
   ]
  },
  {
   "cell_type": "markdown",
   "metadata": {},
   "source": [
    "# Build Popularity Recommender model."
   ]
  },
  {
   "cell_type": "code",
   "execution_count": 223,
   "metadata": {},
   "outputs": [],
   "source": [
    "users = new_dfCount['user_id'].unique()"
   ]
  },
  {
   "cell_type": "code",
   "execution_count": 224,
   "metadata": {},
   "outputs": [
    {
     "data": {
      "text/plain": [
       "34"
      ]
     },
     "execution_count": 224,
     "metadata": {},
     "output_type": "execute_result"
    }
   ],
   "source": [
    "len(users)"
   ]
  },
  {
   "cell_type": "code",
   "execution_count": 225,
   "metadata": {},
   "outputs": [],
   "source": [
    "# So in 90000 users data we have 34 unique users."
   ]
  },
  {
   "cell_type": "code",
   "execution_count": 226,
   "metadata": {},
   "outputs": [],
   "source": [
    "pm = Recommenders.popularity_recommender_py()\n",
    "pm.create(train_data, 'user_id', 'item_id')"
   ]
  },
  {
   "cell_type": "code",
   "execution_count": 227,
   "metadata": {},
   "outputs": [],
   "source": [
    "# Create an instance of popularity based recommender class\n",
    "pm = Recommenders.popularity_recommender_py()\n",
    "# pm.create() calculates co-occurance matrix for userid and song\n",
    "pm.create(train_data, 'user_id', 'item_id')"
   ]
  },
  {
   "cell_type": "code",
   "execution_count": 228,
   "metadata": {},
   "outputs": [
    {
     "data": {
      "text/html": [
       "<div>\n",
       "<style scoped>\n",
       "    .dataframe tbody tr th:only-of-type {\n",
       "        vertical-align: middle;\n",
       "    }\n",
       "\n",
       "    .dataframe tbody tr th {\n",
       "        vertical-align: top;\n",
       "    }\n",
       "\n",
       "    .dataframe thead th {\n",
       "        text-align: right;\n",
       "    }\n",
       "</style>\n",
       "<table border=\"1\" class=\"dataframe\">\n",
       "  <thead>\n",
       "    <tr style=\"text-align: right;\">\n",
       "      <th></th>\n",
       "      <th>user_id</th>\n",
       "      <th>item_id</th>\n",
       "      <th>score</th>\n",
       "      <th>Rank</th>\n",
       "    </tr>\n",
       "  </thead>\n",
       "  <tbody>\n",
       "    <tr>\n",
       "      <th>3677</th>\n",
       "      <td>A3LGT6UZL99IW1</td>\n",
       "      <td>B0053R0WWG</td>\n",
       "      <td>10</td>\n",
       "      <td>1.0</td>\n",
       "    </tr>\n",
       "    <tr>\n",
       "      <th>5151</th>\n",
       "      <td>A3LGT6UZL99IW1</td>\n",
       "      <td>B00G4UQ6U8</td>\n",
       "      <td>10</td>\n",
       "      <td>2.0</td>\n",
       "    </tr>\n",
       "    <tr>\n",
       "      <th>4160</th>\n",
       "      <td>A3LGT6UZL99IW1</td>\n",
       "      <td>B007OY5V68</td>\n",
       "      <td>9</td>\n",
       "      <td>3.0</td>\n",
       "    </tr>\n",
       "    <tr>\n",
       "      <th>4225</th>\n",
       "      <td>A3LGT6UZL99IW1</td>\n",
       "      <td>B0082E9K7U</td>\n",
       "      <td>9</td>\n",
       "      <td>4.0</td>\n",
       "    </tr>\n",
       "    <tr>\n",
       "      <th>5250</th>\n",
       "      <td>A3LGT6UZL99IW1</td>\n",
       "      <td>B00HFFDDLG</td>\n",
       "      <td>9</td>\n",
       "      <td>5.0</td>\n",
       "    </tr>\n",
       "    <tr>\n",
       "      <th>3182</th>\n",
       "      <td>A3LGT6UZL99IW1</td>\n",
       "      <td>B003XE3X8Q</td>\n",
       "      <td>8</td>\n",
       "      <td>6.0</td>\n",
       "    </tr>\n",
       "    <tr>\n",
       "      <th>4219</th>\n",
       "      <td>A3LGT6UZL99IW1</td>\n",
       "      <td>B00829THK0</td>\n",
       "      <td>8</td>\n",
       "      <td>7.0</td>\n",
       "    </tr>\n",
       "    <tr>\n",
       "      <th>4756</th>\n",
       "      <td>A3LGT6UZL99IW1</td>\n",
       "      <td>B00BUACE8K</td>\n",
       "      <td>8</td>\n",
       "      <td>8.0</td>\n",
       "    </tr>\n",
       "    <tr>\n",
       "      <th>4837</th>\n",
       "      <td>A3LGT6UZL99IW1</td>\n",
       "      <td>B00CMJZAOI</td>\n",
       "      <td>8</td>\n",
       "      <td>9.0</td>\n",
       "    </tr>\n",
       "    <tr>\n",
       "      <th>1883</th>\n",
       "      <td>A3LGT6UZL99IW1</td>\n",
       "      <td>B0015DYMVO</td>\n",
       "      <td>7</td>\n",
       "      <td>10.0</td>\n",
       "    </tr>\n",
       "  </tbody>\n",
       "</table>\n",
       "</div>"
      ],
      "text/plain": [
       "             user_id     item_id  score  Rank\n",
       "3677  A3LGT6UZL99IW1  B0053R0WWG     10   1.0\n",
       "5151  A3LGT6UZL99IW1  B00G4UQ6U8     10   2.0\n",
       "4160  A3LGT6UZL99IW1  B007OY5V68      9   3.0\n",
       "4225  A3LGT6UZL99IW1  B0082E9K7U      9   4.0\n",
       "5250  A3LGT6UZL99IW1  B00HFFDDLG      9   5.0\n",
       "3182  A3LGT6UZL99IW1  B003XE3X8Q      8   6.0\n",
       "4219  A3LGT6UZL99IW1  B00829THK0      8   7.0\n",
       "4756  A3LGT6UZL99IW1  B00BUACE8K      8   8.0\n",
       "4837  A3LGT6UZL99IW1  B00CMJZAOI      8   9.0\n",
       "1883  A3LGT6UZL99IW1  B0015DYMVO      7  10.0"
      ]
     },
     "execution_count": 228,
     "metadata": {},
     "output_type": "execute_result"
    }
   ],
   "source": [
    "user_id = users[14]\n",
    "pm.recommend(user_id)"
   ]
  },
  {
   "cell_type": "code",
   "execution_count": 229,
   "metadata": {},
   "outputs": [],
   "source": [
    "# Here, for user 'A3LGT6UZL99IW1' we have recomnded 10 popular items."
   ]
  },
  {
   "cell_type": "code",
   "execution_count": 230,
   "metadata": {},
   "outputs": [
    {
     "data": {
      "text/html": [
       "<div>\n",
       "<style scoped>\n",
       "    .dataframe tbody tr th:only-of-type {\n",
       "        vertical-align: middle;\n",
       "    }\n",
       "\n",
       "    .dataframe tbody tr th {\n",
       "        vertical-align: top;\n",
       "    }\n",
       "\n",
       "    .dataframe thead th {\n",
       "        text-align: right;\n",
       "    }\n",
       "</style>\n",
       "<table border=\"1\" class=\"dataframe\">\n",
       "  <thead>\n",
       "    <tr style=\"text-align: right;\">\n",
       "      <th></th>\n",
       "      <th>user_id</th>\n",
       "      <th>item_id</th>\n",
       "      <th>score</th>\n",
       "      <th>Rank</th>\n",
       "    </tr>\n",
       "  </thead>\n",
       "  <tbody>\n",
       "    <tr>\n",
       "      <th>3677</th>\n",
       "      <td>A250AXLRBVYKB4</td>\n",
       "      <td>B0053R0WWG</td>\n",
       "      <td>10</td>\n",
       "      <td>1.0</td>\n",
       "    </tr>\n",
       "    <tr>\n",
       "      <th>5151</th>\n",
       "      <td>A250AXLRBVYKB4</td>\n",
       "      <td>B00G4UQ6U8</td>\n",
       "      <td>10</td>\n",
       "      <td>2.0</td>\n",
       "    </tr>\n",
       "    <tr>\n",
       "      <th>4160</th>\n",
       "      <td>A250AXLRBVYKB4</td>\n",
       "      <td>B007OY5V68</td>\n",
       "      <td>9</td>\n",
       "      <td>3.0</td>\n",
       "    </tr>\n",
       "    <tr>\n",
       "      <th>4225</th>\n",
       "      <td>A250AXLRBVYKB4</td>\n",
       "      <td>B0082E9K7U</td>\n",
       "      <td>9</td>\n",
       "      <td>4.0</td>\n",
       "    </tr>\n",
       "    <tr>\n",
       "      <th>5250</th>\n",
       "      <td>A250AXLRBVYKB4</td>\n",
       "      <td>B00HFFDDLG</td>\n",
       "      <td>9</td>\n",
       "      <td>5.0</td>\n",
       "    </tr>\n",
       "    <tr>\n",
       "      <th>3182</th>\n",
       "      <td>A250AXLRBVYKB4</td>\n",
       "      <td>B003XE3X8Q</td>\n",
       "      <td>8</td>\n",
       "      <td>6.0</td>\n",
       "    </tr>\n",
       "    <tr>\n",
       "      <th>4219</th>\n",
       "      <td>A250AXLRBVYKB4</td>\n",
       "      <td>B00829THK0</td>\n",
       "      <td>8</td>\n",
       "      <td>7.0</td>\n",
       "    </tr>\n",
       "    <tr>\n",
       "      <th>4756</th>\n",
       "      <td>A250AXLRBVYKB4</td>\n",
       "      <td>B00BUACE8K</td>\n",
       "      <td>8</td>\n",
       "      <td>8.0</td>\n",
       "    </tr>\n",
       "    <tr>\n",
       "      <th>4837</th>\n",
       "      <td>A250AXLRBVYKB4</td>\n",
       "      <td>B00CMJZAOI</td>\n",
       "      <td>8</td>\n",
       "      <td>9.0</td>\n",
       "    </tr>\n",
       "    <tr>\n",
       "      <th>1883</th>\n",
       "      <td>A250AXLRBVYKB4</td>\n",
       "      <td>B0015DYMVO</td>\n",
       "      <td>7</td>\n",
       "      <td>10.0</td>\n",
       "    </tr>\n",
       "  </tbody>\n",
       "</table>\n",
       "</div>"
      ],
      "text/plain": [
       "             user_id     item_id  score  Rank\n",
       "3677  A250AXLRBVYKB4  B0053R0WWG     10   1.0\n",
       "5151  A250AXLRBVYKB4  B00G4UQ6U8     10   2.0\n",
       "4160  A250AXLRBVYKB4  B007OY5V68      9   3.0\n",
       "4225  A250AXLRBVYKB4  B0082E9K7U      9   4.0\n",
       "5250  A250AXLRBVYKB4  B00HFFDDLG      9   5.0\n",
       "3182  A250AXLRBVYKB4  B003XE3X8Q      8   6.0\n",
       "4219  A250AXLRBVYKB4  B00829THK0      8   7.0\n",
       "4756  A250AXLRBVYKB4  B00BUACE8K      8   8.0\n",
       "4837  A250AXLRBVYKB4  B00CMJZAOI      8   9.0\n",
       "1883  A250AXLRBVYKB4  B0015DYMVO      7  10.0"
      ]
     },
     "execution_count": 230,
     "metadata": {},
     "output_type": "execute_result"
    }
   ],
   "source": [
    "user_id = users[33]\n",
    "pm.recommend(user_id)"
   ]
  },
  {
   "cell_type": "code",
   "execution_count": 231,
   "metadata": {},
   "outputs": [],
   "source": [
    "# SImillarely for user 'A250AXLRBVYKB4' we have recomnded 10 popular items."
   ]
  },
  {
   "cell_type": "markdown",
   "metadata": {},
   "source": [
    "# Build Collaborative Filtering model."
   ]
  },
  {
   "cell_type": "code",
   "execution_count": 232,
   "metadata": {},
   "outputs": [],
   "source": [
    "from IPython.core.interactiveshell import InteractiveShell\n",
    "InteractiveShell.ast_node_interactivity = \"all\""
   ]
  },
  {
   "cell_type": "code",
   "execution_count": 233,
   "metadata": {},
   "outputs": [],
   "source": [
    "# Transforming data to surprise format\n",
    "from surprise import Dataset,Reader"
   ]
  },
  {
   "cell_type": "code",
   "execution_count": 234,
   "metadata": {},
   "outputs": [],
   "source": [
    "reader = Reader(rating_scale=(1, 5))"
   ]
  },
  {
   "cell_type": "code",
   "execution_count": 235,
   "metadata": {},
   "outputs": [],
   "source": [
    "data = Dataset.load_from_df(new_dfCount[['user_id', 'item_id', 'rating']], reader)"
   ]
  },
  {
   "cell_type": "code",
   "execution_count": 236,
   "metadata": {},
   "outputs": [
    {
     "data": {
      "text/plain": [
       "<surprise.dataset.DatasetAutoFolds at 0x1f381aaea90>"
      ]
     },
     "execution_count": 236,
     "metadata": {},
     "output_type": "execute_result"
    }
   ],
   "source": [
    "data"
   ]
  },
  {
   "cell_type": "code",
   "execution_count": 237,
   "metadata": {},
   "outputs": [],
   "source": [
    "# Split data to train and test\n",
    "from surprise.model_selection import train_test_split\n",
    "trainset, testset = train_test_split(data, test_size=.30,random_state=123)"
   ]
  },
  {
   "cell_type": "code",
   "execution_count": 238,
   "metadata": {},
   "outputs": [
    {
     "data": {
      "text/plain": [
       "surprise.trainset.Trainset"
      ]
     },
     "execution_count": 238,
     "metadata": {},
     "output_type": "execute_result"
    }
   ],
   "source": [
    "type(trainset)"
   ]
  },
  {
   "cell_type": "code",
   "execution_count": 239,
   "metadata": {},
   "outputs": [
    {
     "data": {
      "text/plain": [
       "collections.defaultdict"
      ]
     },
     "execution_count": 239,
     "metadata": {},
     "output_type": "execute_result"
    }
   ],
   "source": [
    "# user item rating data can be obtained as follows\n",
    "user_records = trainset.ur\n",
    "type(user_records)"
   ]
  },
  {
   "cell_type": "code",
   "execution_count": 240,
   "metadata": {},
   "outputs": [
    {
     "name": "stdout",
     "output_type": "stream",
     "text": [
      "A1ODOGXEYECQQ8\n",
      "B004ABO7QI\n"
     ]
    }
   ],
   "source": [
    "# However the ids are the inner ids and not the raw ids\n",
    "# raw ids can be obatined as follows\n",
    "\n",
    "print(trainset.to_raw_uid(0))\n",
    "print(trainset.to_raw_iid(1066))"
   ]
  },
  {
   "cell_type": "code",
   "execution_count": 241,
   "metadata": {},
   "outputs": [
    {
     "name": "stdout",
     "output_type": "stream",
     "text": [
      "0\n",
      "1\n",
      "2\n",
      "3\n",
      "4\n",
      "5\n",
      "6\n",
      "7\n",
      "8\n",
      "9\n",
      "10\n",
      "11\n",
      "12\n",
      "13\n",
      "14\n",
      "15\n",
      "16\n",
      "17\n",
      "18\n",
      "19\n",
      "20\n",
      "21\n",
      "22\n",
      "23\n",
      "24\n",
      "25\n",
      "26\n",
      "27\n",
      "28\n",
      "29\n",
      "30\n",
      "31\n",
      "32\n",
      "33\n"
     ]
    }
   ],
   "source": [
    "for keys in user_records.keys():\n",
    "    print(keys)"
   ]
  },
  {
   "cell_type": "code",
   "execution_count": 242,
   "metadata": {},
   "outputs": [],
   "source": [
    "#user_records[0]"
   ]
  },
  {
   "cell_type": "code",
   "execution_count": 243,
   "metadata": {},
   "outputs": [
    {
     "name": "stdout",
     "output_type": "stream",
     "text": [
      "A1ODOGXEYECQQ8\n",
      "B004ABO7QI\n"
     ]
    }
   ],
   "source": [
    "print(trainset.to_raw_uid(0))\n",
    "print(trainset.to_raw_iid(1066))"
   ]
  },
  {
   "cell_type": "code",
   "execution_count": 244,
   "metadata": {},
   "outputs": [],
   "source": [
    "#user_records[0]"
   ]
  },
  {
   "cell_type": "code",
   "execution_count": 245,
   "metadata": {},
   "outputs": [],
   "source": [
    "from surprise import KNNWithMeans\n",
    "from surprise import accuracy"
   ]
  },
  {
   "cell_type": "code",
   "execution_count": 265,
   "metadata": {},
   "outputs": [
    {
     "name": "stdout",
     "output_type": "stream",
     "text": [
      "Computing the pearson similarity matrix...\n",
      "Done computing similarity matrix.\n"
     ]
    },
    {
     "data": {
      "text/plain": [
       "<surprise.prediction_algorithms.knns.KNNWithMeans at 0x1f381a80550>"
      ]
     },
     "execution_count": 265,
     "metadata": {},
     "output_type": "execute_result"
    }
   ],
   "source": [
    "algo = KNNWithMeans(k=30, sim_options={'name': 'pearson', 'user_based': False})\n",
    "algo.fit(trainset)"
   ]
  },
  {
   "cell_type": "code",
   "execution_count": 266,
   "metadata": {},
   "outputs": [
    {
     "data": {
      "text/plain": [
       "3000"
      ]
     },
     "execution_count": 266,
     "metadata": {},
     "output_type": "execute_result"
    }
   ],
   "source": [
    "len(testset)"
   ]
  },
  {
   "cell_type": "code",
   "execution_count": 267,
   "metadata": {},
   "outputs": [
    {
     "data": {
      "text/plain": [
       "[('ARBKYIVNYWK3C', 'B004OZ59JY', 5.0),\n",
       " ('A3EXWV8FNSSFL6', 'B003M5IQLU', 5.0),\n",
       " ('AGVWTYW0ULXHT', 'B00007FWP2', 4.0),\n",
       " ('A2XRMQA6PJ5ZJ8', 'B004V4IWHY', 5.0),\n",
       " ('A3OXHLG6DIBRW8', 'B000031WDA', 3.0)]"
      ]
     },
     "execution_count": 267,
     "metadata": {},
     "output_type": "execute_result"
    }
   ],
   "source": [
    "testset[0:5]"
   ]
  },
  {
   "cell_type": "code",
   "execution_count": 268,
   "metadata": {},
   "outputs": [
    {
     "name": "stdout",
     "output_type": "stream",
     "text": [
      "RMSE: 0.9875\n"
     ]
    },
    {
     "data": {
      "text/plain": [
       "0.9875381070389182"
      ]
     },
     "execution_count": 268,
     "metadata": {},
     "output_type": "execute_result"
    }
   ],
   "source": [
    "# Evalute on test set\n",
    "test_pred = algo.test(testset)\n",
    "\n",
    "# compute RMSE\n",
    "accuracy.rmse(test_pred)"
   ]
  },
  {
   "cell_type": "code",
   "execution_count": 269,
   "metadata": {},
   "outputs": [],
   "source": [
    "# The high value of RMSE signifies more error while predicting values compare to actual values. "
   ]
  },
  {
   "cell_type": "code",
   "execution_count": 270,
   "metadata": {},
   "outputs": [
    {
     "data": {
      "text/plain": [
       "Prediction(uid='A5JLAU2ARJ0BO', iid='B000083DY0', r_ui=1.0, est=4.357285714285714, details={'was_impossible': True, 'reason': 'User and/or item is unkown.'})"
      ]
     },
     "execution_count": 270,
     "metadata": {},
     "output_type": "execute_result"
    }
   ],
   "source": [
    "# View a particular prediction\n",
    "test_pred[12]"
   ]
  },
  {
   "cell_type": "code",
   "execution_count": 271,
   "metadata": {},
   "outputs": [],
   "source": [
    "# convert results to dataframe\n",
    "test_pred_df = pd.DataFrame(test_pred)\n",
    "test_pred_df[\"was_impossible\"] = [x[\"was_impossible\"] for x in test_pred_df[\"details\"]]"
   ]
  },
  {
   "cell_type": "code",
   "execution_count": 272,
   "metadata": {},
   "outputs": [
    {
     "data": {
      "text/html": [
       "<div>\n",
       "<style scoped>\n",
       "    .dataframe tbody tr th:only-of-type {\n",
       "        vertical-align: middle;\n",
       "    }\n",
       "\n",
       "    .dataframe tbody tr th {\n",
       "        vertical-align: top;\n",
       "    }\n",
       "\n",
       "    .dataframe thead th {\n",
       "        text-align: right;\n",
       "    }\n",
       "</style>\n",
       "<table border=\"1\" class=\"dataframe\">\n",
       "  <thead>\n",
       "    <tr style=\"text-align: right;\">\n",
       "      <th></th>\n",
       "      <th>uid</th>\n",
       "      <th>iid</th>\n",
       "      <th>r_ui</th>\n",
       "      <th>est</th>\n",
       "      <th>details</th>\n",
       "      <th>was_impossible</th>\n",
       "    </tr>\n",
       "  </thead>\n",
       "  <tbody>\n",
       "    <tr>\n",
       "      <th>0</th>\n",
       "      <td>ARBKYIVNYWK3C</td>\n",
       "      <td>B004OZ59JY</td>\n",
       "      <td>5.0</td>\n",
       "      <td>4.357286</td>\n",
       "      <td>{'was_impossible': True, 'reason': 'User and/o...</td>\n",
       "      <td>True</td>\n",
       "    </tr>\n",
       "    <tr>\n",
       "      <th>2</th>\n",
       "      <td>AGVWTYW0ULXHT</td>\n",
       "      <td>B00007FWP2</td>\n",
       "      <td>4.0</td>\n",
       "      <td>4.357286</td>\n",
       "      <td>{'was_impossible': True, 'reason': 'User and/o...</td>\n",
       "      <td>True</td>\n",
       "    </tr>\n",
       "    <tr>\n",
       "      <th>3</th>\n",
       "      <td>A2XRMQA6PJ5ZJ8</td>\n",
       "      <td>B004V4IWHY</td>\n",
       "      <td>5.0</td>\n",
       "      <td>4.357286</td>\n",
       "      <td>{'was_impossible': True, 'reason': 'User and/o...</td>\n",
       "      <td>True</td>\n",
       "    </tr>\n",
       "    <tr>\n",
       "      <th>4</th>\n",
       "      <td>A3OXHLG6DIBRW8</td>\n",
       "      <td>B000031WDA</td>\n",
       "      <td>3.0</td>\n",
       "      <td>4.357286</td>\n",
       "      <td>{'was_impossible': True, 'reason': 'User and/o...</td>\n",
       "      <td>True</td>\n",
       "    </tr>\n",
       "    <tr>\n",
       "      <th>5</th>\n",
       "      <td>ARBKYIVNYWK3C</td>\n",
       "      <td>B001MS0OKU</td>\n",
       "      <td>5.0</td>\n",
       "      <td>4.357286</td>\n",
       "      <td>{'was_impossible': True, 'reason': 'User and/o...</td>\n",
       "      <td>True</td>\n",
       "    </tr>\n",
       "  </tbody>\n",
       "</table>\n",
       "</div>"
      ],
      "text/plain": [
       "              uid         iid  r_ui       est  \\\n",
       "0   ARBKYIVNYWK3C  B004OZ59JY   5.0  4.357286   \n",
       "2   AGVWTYW0ULXHT  B00007FWP2   4.0  4.357286   \n",
       "3  A2XRMQA6PJ5ZJ8  B004V4IWHY   5.0  4.357286   \n",
       "4  A3OXHLG6DIBRW8  B000031WDA   3.0  4.357286   \n",
       "5   ARBKYIVNYWK3C  B001MS0OKU   5.0  4.357286   \n",
       "\n",
       "                                             details  was_impossible  \n",
       "0  {'was_impossible': True, 'reason': 'User and/o...            True  \n",
       "2  {'was_impossible': True, 'reason': 'User and/o...            True  \n",
       "3  {'was_impossible': True, 'reason': 'User and/o...            True  \n",
       "4  {'was_impossible': True, 'reason': 'User and/o...            True  \n",
       "5  {'was_impossible': True, 'reason': 'User and/o...            True  "
      ]
     },
     "execution_count": 272,
     "metadata": {},
     "output_type": "execute_result"
    }
   ],
   "source": [
    "test_pred_df.loc[test_pred_df.was_impossible].head(5)"
   ]
  },
  {
   "cell_type": "markdown",
   "metadata": {},
   "source": [
    "# Predictions"
   ]
  },
  {
   "cell_type": "code",
   "execution_count": 273,
   "metadata": {},
   "outputs": [
    {
     "data": {
      "text/plain": [
       "Prediction(uid='A3CW0ZLUO5X2B1', iid='B00DW374W4', r_ui=None, est=4.666666666666667, details={'actual_k': 0, 'was_impossible': False})"
      ]
     },
     "execution_count": 273,
     "metadata": {},
     "output_type": "execute_result"
    }
   ],
   "source": [
    "# Mkae prediction for a single user\n",
    "algo.predict(uid=\"A3CW0ZLUO5X2B1\",iid=\"B00DW374W4\")"
   ]
  },
  {
   "cell_type": "code",
   "execution_count": 274,
   "metadata": {},
   "outputs": [
    {
     "data": {
      "text/plain": [
       "Prediction(uid='A3CW0ZLUO5X2B1', iid='B0002OIWZE', r_ui=None, est=4.357285714285714, details={'was_impossible': True, 'reason': 'User and/or item is unkown.'})"
      ]
     },
     "execution_count": 274,
     "metadata": {},
     "output_type": "execute_result"
    }
   ],
   "source": [
    "algo.predict(uid=\"A3CW0ZLUO5X2B1\",iid=\"B0002OIWZE\")"
   ]
  },
  {
   "cell_type": "markdown",
   "metadata": {},
   "source": [
    "# Generating top 5 recommendations"
   ]
  },
  {
   "cell_type": "code",
   "execution_count": 275,
   "metadata": {},
   "outputs": [],
   "source": [
    "testset_new = trainset.build_anti_testset()"
   ]
  },
  {
   "cell_type": "code",
   "execution_count": 284,
   "metadata": {},
   "outputs": [
    {
     "ename": "AttributeError",
     "evalue": "'list' object has no attribute 'head'",
     "output_type": "error",
     "traceback": [
      "\u001b[1;31m---------------------------------------------------------------------------\u001b[0m",
      "\u001b[1;31mAttributeError\u001b[0m                            Traceback (most recent call last)",
      "\u001b[1;32m<ipython-input-284-443277304783>\u001b[0m in \u001b[0;36m<module>\u001b[1;34m\u001b[0m\n\u001b[1;32m----> 1\u001b[1;33m \u001b[0mtestset_new\u001b[0m\u001b[1;33m.\u001b[0m\u001b[0mhead\u001b[0m\u001b[1;33m(\u001b[0m\u001b[1;33m)\u001b[0m\u001b[1;33m\u001b[0m\u001b[1;33m\u001b[0m\u001b[0m\n\u001b[0m",
      "\u001b[1;31mAttributeError\u001b[0m: 'list' object has no attribute 'head'"
     ]
    }
   ],
   "source": [
    "testset_new.head()"
   ]
  },
  {
   "cell_type": "code",
   "execution_count": 276,
   "metadata": {},
   "outputs": [
    {
     "data": {
      "text/plain": [
       "177994"
      ]
     },
     "execution_count": 276,
     "metadata": {},
     "output_type": "execute_result"
    }
   ],
   "source": [
    "len(testset_new)"
   ]
  },
  {
   "cell_type": "code",
   "execution_count": 277,
   "metadata": {},
   "outputs": [
    {
     "data": {
      "text/plain": [
       "[('A1ODOGXEYECQQ8', 'B0001FV364', 4.357285714285714),\n",
       " ('A1ODOGXEYECQQ8', 'B0000BZ2WA', 4.357285714285714),\n",
       " ('A1ODOGXEYECQQ8', 'B00006HCCS', 4.357285714285714),\n",
       " ('A1ODOGXEYECQQ8', 'B005IMFX2K', 4.357285714285714),\n",
       " ('A1ODOGXEYECQQ8', 'B0043VE26U', 4.357285714285714)]"
      ]
     },
     "execution_count": 277,
     "metadata": {},
     "output_type": "execute_result"
    }
   ],
   "source": [
    "testset_new[0:5]"
   ]
  },
  {
   "cell_type": "code",
   "execution_count": 278,
   "metadata": {},
   "outputs": [],
   "source": [
    "predictions = algo.test(testset_new[0:10000])"
   ]
  },
  {
   "cell_type": "code",
   "execution_count": 279,
   "metadata": {},
   "outputs": [],
   "source": [
    "predictions_df = pd.DataFrame([[x.uid,x.est] for x in predictions])"
   ]
  },
  {
   "cell_type": "code",
   "execution_count": 287,
   "metadata": {},
   "outputs": [],
   "source": [
    "#predictions_df.columns = [\"userId\",\"iid\",\"est_rating\"]\n",
    "#predictions_df.sort_values(by = [\"userId\",\"iid\", \"est_rating\"],ascending=False,inplace=True)\n",
    "predictions_df.columns = [\"userId\",\"iid\"]\n",
    "predictions_df.sort_values(by = [\"userId\",\"iid\"],ascending=False,inplace=True)"
   ]
  },
  {
   "cell_type": "code",
   "execution_count": 288,
   "metadata": {},
   "outputs": [
    {
     "data": {
      "text/html": [
       "<div>\n",
       "<style scoped>\n",
       "    .dataframe tbody tr th:only-of-type {\n",
       "        vertical-align: middle;\n",
       "    }\n",
       "\n",
       "    .dataframe tbody tr th {\n",
       "        vertical-align: top;\n",
       "    }\n",
       "\n",
       "    .dataframe thead th {\n",
       "        text-align: right;\n",
       "    }\n",
       "</style>\n",
       "<table border=\"1\" class=\"dataframe\">\n",
       "  <thead>\n",
       "    <tr style=\"text-align: right;\">\n",
       "      <th></th>\n",
       "      <th>userId</th>\n",
       "      <th>iid</th>\n",
       "    </tr>\n",
       "  </thead>\n",
       "  <tbody>\n",
       "    <tr>\n",
       "      <th>5168</th>\n",
       "      <td>A5JLAU2ARJ0BO</td>\n",
       "      <td>5.0</td>\n",
       "    </tr>\n",
       "    <tr>\n",
       "      <th>5171</th>\n",
       "      <td>A5JLAU2ARJ0BO</td>\n",
       "      <td>5.0</td>\n",
       "    </tr>\n",
       "    <tr>\n",
       "      <th>5177</th>\n",
       "      <td>A5JLAU2ARJ0BO</td>\n",
       "      <td>5.0</td>\n",
       "    </tr>\n",
       "    <tr>\n",
       "      <th>5179</th>\n",
       "      <td>A5JLAU2ARJ0BO</td>\n",
       "      <td>5.0</td>\n",
       "    </tr>\n",
       "    <tr>\n",
       "      <th>5185</th>\n",
       "      <td>A5JLAU2ARJ0BO</td>\n",
       "      <td>5.0</td>\n",
       "    </tr>\n",
       "  </tbody>\n",
       "</table>\n",
       "</div>"
      ],
      "text/plain": [
       "             userId  iid\n",
       "5168  A5JLAU2ARJ0BO  5.0\n",
       "5171  A5JLAU2ARJ0BO  5.0\n",
       "5177  A5JLAU2ARJ0BO  5.0\n",
       "5179  A5JLAU2ARJ0BO  5.0\n",
       "5185  A5JLAU2ARJ0BO  5.0"
      ]
     },
     "execution_count": 288,
     "metadata": {},
     "output_type": "execute_result"
    }
   ],
   "source": [
    "predictions_df.head()"
   ]
  },
  {
   "cell_type": "code",
   "execution_count": 289,
   "metadata": {},
   "outputs": [],
   "source": [
    "top_5_recos = predictions_df.groupby(\"userId\").head(5).reset_index(drop=True)"
   ]
  },
  {
   "cell_type": "code",
   "execution_count": 290,
   "metadata": {},
   "outputs": [
    {
     "data": {
      "text/html": [
       "<div>\n",
       "<style scoped>\n",
       "    .dataframe tbody tr th:only-of-type {\n",
       "        vertical-align: middle;\n",
       "    }\n",
       "\n",
       "    .dataframe tbody tr th {\n",
       "        vertical-align: top;\n",
       "    }\n",
       "\n",
       "    .dataframe thead th {\n",
       "        text-align: right;\n",
       "    }\n",
       "</style>\n",
       "<table border=\"1\" class=\"dataframe\">\n",
       "  <thead>\n",
       "    <tr style=\"text-align: right;\">\n",
       "      <th></th>\n",
       "      <th>userId</th>\n",
       "      <th>iid</th>\n",
       "    </tr>\n",
       "  </thead>\n",
       "  <tbody>\n",
       "    <tr>\n",
       "      <th>0</th>\n",
       "      <td>A5JLAU2ARJ0BO</td>\n",
       "      <td>5.0</td>\n",
       "    </tr>\n",
       "    <tr>\n",
       "      <th>1</th>\n",
       "      <td>A5JLAU2ARJ0BO</td>\n",
       "      <td>5.0</td>\n",
       "    </tr>\n",
       "    <tr>\n",
       "      <th>2</th>\n",
       "      <td>A5JLAU2ARJ0BO</td>\n",
       "      <td>5.0</td>\n",
       "    </tr>\n",
       "    <tr>\n",
       "      <th>3</th>\n",
       "      <td>A5JLAU2ARJ0BO</td>\n",
       "      <td>5.0</td>\n",
       "    </tr>\n",
       "    <tr>\n",
       "      <th>4</th>\n",
       "      <td>A5JLAU2ARJ0BO</td>\n",
       "      <td>5.0</td>\n",
       "    </tr>\n",
       "    <tr>\n",
       "      <th>5</th>\n",
       "      <td>A1ODOGXEYECQQ8</td>\n",
       "      <td>5.0</td>\n",
       "    </tr>\n",
       "    <tr>\n",
       "      <th>6</th>\n",
       "      <td>A1ODOGXEYECQQ8</td>\n",
       "      <td>5.0</td>\n",
       "    </tr>\n",
       "    <tr>\n",
       "      <th>7</th>\n",
       "      <td>A1ODOGXEYECQQ8</td>\n",
       "      <td>5.0</td>\n",
       "    </tr>\n",
       "    <tr>\n",
       "      <th>8</th>\n",
       "      <td>A1ODOGXEYECQQ8</td>\n",
       "      <td>5.0</td>\n",
       "    </tr>\n",
       "    <tr>\n",
       "      <th>9</th>\n",
       "      <td>A1ODOGXEYECQQ8</td>\n",
       "      <td>5.0</td>\n",
       "    </tr>\n",
       "  </tbody>\n",
       "</table>\n",
       "</div>"
      ],
      "text/plain": [
       "           userId  iid\n",
       "0   A5JLAU2ARJ0BO  5.0\n",
       "1   A5JLAU2ARJ0BO  5.0\n",
       "2   A5JLAU2ARJ0BO  5.0\n",
       "3   A5JLAU2ARJ0BO  5.0\n",
       "4   A5JLAU2ARJ0BO  5.0\n",
       "5  A1ODOGXEYECQQ8  5.0\n",
       "6  A1ODOGXEYECQQ8  5.0\n",
       "7  A1ODOGXEYECQQ8  5.0\n",
       "8  A1ODOGXEYECQQ8  5.0\n",
       "9  A1ODOGXEYECQQ8  5.0"
      ]
     },
     "execution_count": 290,
     "metadata": {},
     "output_type": "execute_result"
    }
   ],
   "source": [
    "top_5_recos"
   ]
  },
  {
   "cell_type": "code",
   "execution_count": null,
   "metadata": {},
   "outputs": [],
   "source": []
  },
  {
   "cell_type": "code",
   "execution_count": null,
   "metadata": {},
   "outputs": [],
   "source": []
  }
 ],
 "metadata": {
  "kernelspec": {
   "display_name": "Python 3",
   "language": "python",
   "name": "python3"
  },
  "language_info": {
   "codemirror_mode": {
    "name": "ipython",
    "version": 3
   },
   "file_extension": ".py",
   "mimetype": "text/x-python",
   "name": "python",
   "nbconvert_exporter": "python",
   "pygments_lexer": "ipython3",
   "version": "3.7.1"
  }
 },
 "nbformat": 4,
 "nbformat_minor": 2
}
