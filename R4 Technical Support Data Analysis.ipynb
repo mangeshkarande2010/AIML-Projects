{
 "cells": [
  {
   "cell_type": "markdown",
   "metadata": {},
   "source": [
    " #  <p style=\"text-align: center;\">Technical Support Data Analysis"
   ]
  },
  {
   "cell_type": "markdown",
   "metadata": {},
   "source": [
    "Technical support data can often be a rich source of information on opportunities for improving customer experience. The lesser the trouble customers have with the product the better. Even better when the customers are able to overcome\n",
    "technical challenge quickly with minimal effort. Let us analyze the tech support data and do some basic analysis on problem types, time to resolve the problem and channel of suppor that is most suitable"
   ]
  },
  {
   "cell_type": "markdown",
   "metadata": {},
   "source": [
    "## Loading the Dataset"
   ]
  },
  {
   "cell_type": "code",
   "execution_count": 51,
   "metadata": {},
   "outputs": [],
   "source": [
    "import pandas as pd\n",
    "import numpy as np\n",
    "from sklearn.cluster import KMeans"
   ]
  },
  {
   "cell_type": "code",
   "execution_count": 52,
   "metadata": {},
   "outputs": [],
   "source": [
    "import matplotlib.pylab as plt\n",
    "%matplotlib inline"
   ]
  },
  {
   "cell_type": "code",
   "execution_count": 53,
   "metadata": {},
   "outputs": [],
   "source": [
    "tech_supp_df = pd.read_csv(\"technical_support_data.csv\")"
   ]
  },
  {
   "cell_type": "code",
   "execution_count": 54,
   "metadata": {},
   "outputs": [
    {
     "name": "stdout",
     "output_type": "stream",
     "text": [
      "<class 'pandas.core.frame.DataFrame'>\n",
      "RangeIndex: 23 entries, 0 to 22\n",
      "Data columns (total 8 columns):\n",
      "PROBLEM_TYPE             23 non-null object\n",
      "no_of_cases              23 non-null int64\n",
      "Avg_pending_calls        23 non-null float64\n",
      "Avg_resol_time           23 non-null int64\n",
      "recurrence_freq          23 non-null float64\n",
      "Replace_percent          23 non-null float64\n",
      "In_warranty_percent      23 non-null int64\n",
      "Post_warranty_percent    23 non-null int64\n",
      "dtypes: float64(3), int64(4), object(1)\n",
      "memory usage: 1.5+ KB\n"
     ]
    }
   ],
   "source": [
    "tech_supp_df.info()"
   ]
  },
  {
   "cell_type": "markdown",
   "metadata": {},
   "source": [
    "The dataset contains one record for each unique problem type. It has metrics for each type like count, average calls to resolve, average resolution time etc."
   ]
  },
  {
   "cell_type": "code",
   "execution_count": 55,
   "metadata": {},
   "outputs": [
    {
     "data": {
      "text/html": [
       "<div>\n",
       "<style scoped>\n",
       "    .dataframe tbody tr th:only-of-type {\n",
       "        vertical-align: middle;\n",
       "    }\n",
       "\n",
       "    .dataframe tbody tr th {\n",
       "        vertical-align: top;\n",
       "    }\n",
       "\n",
       "    .dataframe thead th {\n",
       "        text-align: right;\n",
       "    }\n",
       "</style>\n",
       "<table border=\"1\" class=\"dataframe\">\n",
       "  <thead>\n",
       "    <tr style=\"text-align: right;\">\n",
       "      <th></th>\n",
       "      <th>0</th>\n",
       "      <th>1</th>\n",
       "      <th>2</th>\n",
       "      <th>3</th>\n",
       "      <th>4</th>\n",
       "    </tr>\n",
       "  </thead>\n",
       "  <tbody>\n",
       "    <tr>\n",
       "      <th>PROBLEM_TYPE</th>\n",
       "      <td>Temperature control not working</td>\n",
       "      <td>power chord does not tightly fit</td>\n",
       "      <td>Fan swing not working</td>\n",
       "      <td>Main switch does not on</td>\n",
       "      <td>Forgot mobile app password</td>\n",
       "    </tr>\n",
       "    <tr>\n",
       "      <th>no_of_cases</th>\n",
       "      <td>170</td>\n",
       "      <td>12</td>\n",
       "      <td>5</td>\n",
       "      <td>3</td>\n",
       "      <td>45</td>\n",
       "    </tr>\n",
       "    <tr>\n",
       "      <th>Avg_pending_calls</th>\n",
       "      <td>1.3</td>\n",
       "      <td>2</td>\n",
       "      <td>1</td>\n",
       "      <td>2</td>\n",
       "      <td>2.3</td>\n",
       "    </tr>\n",
       "    <tr>\n",
       "      <th>Avg_resol_time</th>\n",
       "      <td>32</td>\n",
       "      <td>150</td>\n",
       "      <td>35</td>\n",
       "      <td>8</td>\n",
       "      <td>54</td>\n",
       "    </tr>\n",
       "    <tr>\n",
       "      <th>recurrence_freq</th>\n",
       "      <td>0.04</td>\n",
       "      <td>0.01</td>\n",
       "      <td>0.02</td>\n",
       "      <td>0.01</td>\n",
       "      <td>0.15</td>\n",
       "    </tr>\n",
       "    <tr>\n",
       "      <th>Replace_percent</th>\n",
       "      <td>0</td>\n",
       "      <td>0.5</td>\n",
       "      <td>0.2</td>\n",
       "      <td>0.7</td>\n",
       "      <td>0</td>\n",
       "    </tr>\n",
       "    <tr>\n",
       "      <th>In_warranty_percent</th>\n",
       "      <td>75</td>\n",
       "      <td>5</td>\n",
       "      <td>90</td>\n",
       "      <td>5</td>\n",
       "      <td>99</td>\n",
       "    </tr>\n",
       "    <tr>\n",
       "      <th>Post_warranty_percent</th>\n",
       "      <td>25</td>\n",
       "      <td>95</td>\n",
       "      <td>10</td>\n",
       "      <td>95</td>\n",
       "      <td>1</td>\n",
       "    </tr>\n",
       "  </tbody>\n",
       "</table>\n",
       "</div>"
      ],
      "text/plain": [
       "                                                     0  \\\n",
       "PROBLEM_TYPE           Temperature control not working   \n",
       "no_of_cases                                        170   \n",
       "Avg_pending_calls                                  1.3   \n",
       "Avg_resol_time                                      32   \n",
       "recurrence_freq                                   0.04   \n",
       "Replace_percent                                      0   \n",
       "In_warranty_percent                                 75   \n",
       "Post_warranty_percent                               25   \n",
       "\n",
       "                                                      1  \\\n",
       "PROBLEM_TYPE           power chord does not tightly fit   \n",
       "no_of_cases                                          12   \n",
       "Avg_pending_calls                                     2   \n",
       "Avg_resol_time                                      150   \n",
       "recurrence_freq                                    0.01   \n",
       "Replace_percent                                     0.5   \n",
       "In_warranty_percent                                   5   \n",
       "Post_warranty_percent                                95   \n",
       "\n",
       "                                           2                        3  \\\n",
       "PROBLEM_TYPE           Fan swing not working  Main switch does not on   \n",
       "no_of_cases                                5                        3   \n",
       "Avg_pending_calls                          1                        2   \n",
       "Avg_resol_time                            35                        8   \n",
       "recurrence_freq                         0.02                     0.01   \n",
       "Replace_percent                          0.2                      0.7   \n",
       "In_warranty_percent                       90                        5   \n",
       "Post_warranty_percent                     10                       95   \n",
       "\n",
       "                                                4  \n",
       "PROBLEM_TYPE           Forgot mobile app password  \n",
       "no_of_cases                                    45  \n",
       "Avg_pending_calls                             2.3  \n",
       "Avg_resol_time                                 54  \n",
       "recurrence_freq                              0.15  \n",
       "Replace_percent                                 0  \n",
       "In_warranty_percent                            99  \n",
       "Post_warranty_percent                           1  "
      ]
     },
     "execution_count": 55,
     "metadata": {},
     "output_type": "execute_result"
    }
   ],
   "source": [
    "tech_supp_df.head().T"
   ]
  },
  {
   "cell_type": "code",
   "execution_count": 56,
   "metadata": {},
   "outputs": [],
   "source": [
    "from scipy.stats import zscore"
   ]
  },
  {
   "cell_type": "code",
   "execution_count": 57,
   "metadata": {},
   "outputs": [],
   "source": [
    "numeric_cols = tech_supp_df.drop('PROBLEM_TYPE', axis=1)"
   ]
  },
  {
   "cell_type": "code",
   "execution_count": 58,
   "metadata": {},
   "outputs": [],
   "source": [
    "Prob_type  = tech_supp_df.pop(\"PROBLEM_TYPE\")"
   ]
  },
  {
   "cell_type": "code",
   "execution_count": 59,
   "metadata": {},
   "outputs": [],
   "source": [
    "numeric_cols = numeric_cols.apply(zscore)"
   ]
  },
  {
   "cell_type": "code",
   "execution_count": 60,
   "metadata": {},
   "outputs": [],
   "source": [
    "tech_supp_df = numeric_cols.join(Prob_type)"
   ]
  },
  {
   "cell_type": "code",
   "execution_count": 61,
   "metadata": {},
   "outputs": [
    {
     "data": {
      "text/html": [
       "<div>\n",
       "<style scoped>\n",
       "    .dataframe tbody tr th:only-of-type {\n",
       "        vertical-align: middle;\n",
       "    }\n",
       "\n",
       "    .dataframe tbody tr th {\n",
       "        vertical-align: top;\n",
       "    }\n",
       "\n",
       "    .dataframe thead th {\n",
       "        text-align: right;\n",
       "    }\n",
       "</style>\n",
       "<table border=\"1\" class=\"dataframe\">\n",
       "  <thead>\n",
       "    <tr style=\"text-align: right;\">\n",
       "      <th></th>\n",
       "      <th>0</th>\n",
       "      <th>1</th>\n",
       "      <th>2</th>\n",
       "      <th>3</th>\n",
       "      <th>4</th>\n",
       "    </tr>\n",
       "  </thead>\n",
       "  <tbody>\n",
       "    <tr>\n",
       "      <th>no_of_cases</th>\n",
       "      <td>0.179429</td>\n",
       "      <td>-0.862176</td>\n",
       "      <td>-0.908323</td>\n",
       "      <td>-0.921508</td>\n",
       "      <td>-0.644625</td>\n",
       "    </tr>\n",
       "    <tr>\n",
       "      <th>Avg_pending_calls</th>\n",
       "      <td>-0.701207</td>\n",
       "      <td>0.0271435</td>\n",
       "      <td>-1.01336</td>\n",
       "      <td>0.0271435</td>\n",
       "      <td>0.339294</td>\n",
       "    </tr>\n",
       "    <tr>\n",
       "      <th>Avg_resol_time</th>\n",
       "      <td>-0.538351</td>\n",
       "      <td>1.51086</td>\n",
       "      <td>-0.486253</td>\n",
       "      <td>-0.95514</td>\n",
       "      <td>-0.156296</td>\n",
       "    </tr>\n",
       "    <tr>\n",
       "      <th>recurrence_freq</th>\n",
       "      <td>-0.843188</td>\n",
       "      <td>-1.10177</td>\n",
       "      <td>-1.01557</td>\n",
       "      <td>-1.10177</td>\n",
       "      <td>0.10493</td>\n",
       "    </tr>\n",
       "    <tr>\n",
       "      <th>Replace_percent</th>\n",
       "      <td>-0.561463</td>\n",
       "      <td>2.24585</td>\n",
       "      <td>0.561463</td>\n",
       "      <td>3.36878</td>\n",
       "      <td>-0.561463</td>\n",
       "    </tr>\n",
       "    <tr>\n",
       "      <th>In_warranty_percent</th>\n",
       "      <td>0.138067</td>\n",
       "      <td>-1.7782</td>\n",
       "      <td>0.548696</td>\n",
       "      <td>-1.7782</td>\n",
       "      <td>0.795074</td>\n",
       "    </tr>\n",
       "    <tr>\n",
       "      <th>Post_warranty_percent</th>\n",
       "      <td>-0.138067</td>\n",
       "      <td>1.7782</td>\n",
       "      <td>-0.548696</td>\n",
       "      <td>1.7782</td>\n",
       "      <td>-0.795074</td>\n",
       "    </tr>\n",
       "    <tr>\n",
       "      <th>PROBLEM_TYPE</th>\n",
       "      <td>Temperature control not working</td>\n",
       "      <td>power chord does not tightly fit</td>\n",
       "      <td>Fan swing not working</td>\n",
       "      <td>Main switch does not on</td>\n",
       "      <td>Forgot mobile app password</td>\n",
       "    </tr>\n",
       "  </tbody>\n",
       "</table>\n",
       "</div>"
      ],
      "text/plain": [
       "                                                     0  \\\n",
       "no_of_cases                                   0.179429   \n",
       "Avg_pending_calls                            -0.701207   \n",
       "Avg_resol_time                               -0.538351   \n",
       "recurrence_freq                              -0.843188   \n",
       "Replace_percent                              -0.561463   \n",
       "In_warranty_percent                           0.138067   \n",
       "Post_warranty_percent                        -0.138067   \n",
       "PROBLEM_TYPE           Temperature control not working   \n",
       "\n",
       "                                                      1  \\\n",
       "no_of_cases                                   -0.862176   \n",
       "Avg_pending_calls                             0.0271435   \n",
       "Avg_resol_time                                  1.51086   \n",
       "recurrence_freq                                -1.10177   \n",
       "Replace_percent                                 2.24585   \n",
       "In_warranty_percent                             -1.7782   \n",
       "Post_warranty_percent                            1.7782   \n",
       "PROBLEM_TYPE           power chord does not tightly fit   \n",
       "\n",
       "                                           2                        3  \\\n",
       "no_of_cases                        -0.908323                -0.921508   \n",
       "Avg_pending_calls                   -1.01336                0.0271435   \n",
       "Avg_resol_time                     -0.486253                 -0.95514   \n",
       "recurrence_freq                     -1.01557                 -1.10177   \n",
       "Replace_percent                     0.561463                  3.36878   \n",
       "In_warranty_percent                 0.548696                  -1.7782   \n",
       "Post_warranty_percent              -0.548696                   1.7782   \n",
       "PROBLEM_TYPE           Fan swing not working  Main switch does not on   \n",
       "\n",
       "                                                4  \n",
       "no_of_cases                             -0.644625  \n",
       "Avg_pending_calls                        0.339294  \n",
       "Avg_resol_time                          -0.156296  \n",
       "recurrence_freq                           0.10493  \n",
       "Replace_percent                         -0.561463  \n",
       "In_warranty_percent                      0.795074  \n",
       "Post_warranty_percent                   -0.795074  \n",
       "PROBLEM_TYPE           Forgot mobile app password  "
      ]
     },
     "execution_count": 61,
     "metadata": {},
     "output_type": "execute_result"
    }
   ],
   "source": [
    "tech_supp_df.head().T"
   ]
  },
  {
   "cell_type": "markdown",
   "metadata": {},
   "source": [
    "## Group Data into similar clusters\n",
    "\n",
    "Now, we will use K-Means clustering to group data based on their attribute. First, we need to determine the optimal number of groups. For that we conduct the knee test to see where the knee happens."
   ]
  },
  {
   "cell_type": "code",
   "execution_count": 62,
   "metadata": {
    "scrolled": true
   },
   "outputs": [],
   "source": [
    "tech_supp_attributes = tech_supp_df.drop(\"PROBLEM_TYPE\",axis=1)"
   ]
  },
  {
   "cell_type": "code",
   "execution_count": 63,
   "metadata": {},
   "outputs": [],
   "source": [
    "#Finding optimal no. of clusters\n",
    "from scipy.spatial.distance import cdist\n",
    "clusters=range(1,10)\n",
    "meanDistortions=[]"
   ]
  },
  {
   "cell_type": "markdown",
   "metadata": {},
   "source": [
    "Sample calculation for two clusters"
   ]
  },
  {
   "cell_type": "code",
   "execution_count": 64,
   "metadata": {},
   "outputs": [],
   "source": [
    "k = 2"
   ]
  },
  {
   "cell_type": "code",
   "execution_count": 65,
   "metadata": {},
   "outputs": [],
   "source": [
    "model=KMeans(n_clusters=k)"
   ]
  },
  {
   "cell_type": "code",
   "execution_count": 66,
   "metadata": {},
   "outputs": [
    {
     "data": {
      "text/plain": [
       "KMeans(algorithm='auto', copy_x=True, init='k-means++', max_iter=300,\n",
       "    n_clusters=2, n_init=10, n_jobs=None, precompute_distances='auto',\n",
       "    random_state=None, tol=0.0001, verbose=0)"
      ]
     },
     "execution_count": 66,
     "metadata": {},
     "output_type": "execute_result"
    }
   ],
   "source": [
    "# Calculate centrode C0 and C1 of clusters\n",
    "model.fit(tech_supp_attributes)"
   ]
  },
  {
   "cell_type": "code",
   "execution_count": 67,
   "metadata": {},
   "outputs": [],
   "source": [
    "# Give labels \n",
    "prediction=model.predict(tech_supp_attributes)"
   ]
  },
  {
   "cell_type": "code",
   "execution_count": 68,
   "metadata": {},
   "outputs": [
    {
     "data": {
      "text/plain": [
       "array([0, 0, 0, 0, 1, 1, 1, 0, 0, 1, 1, 0, 0, 1, 0, 0, 0, 0, 1, 0, 0, 0,\n",
       "       0])"
      ]
     },
     "execution_count": 68,
     "metadata": {},
     "output_type": "execute_result"
    }
   ],
   "source": [
    "prediction"
   ]
  },
  {
   "cell_type": "code",
   "execution_count": 69,
   "metadata": {},
   "outputs": [
    {
     "data": {
      "text/plain": [
       "array([[ 0.31086554, -0.53862856, -0.5285829 ,  0.04567266,  0.19300307,\n",
       "        -0.34955565,  0.34955565],\n",
       "       [-0.7105498 ,  1.23115099,  1.20818948, -0.10439466, -0.44114987,\n",
       "         0.79898435, -0.79898435]])"
      ]
     },
     "execution_count": 69,
     "metadata": {},
     "output_type": "execute_result"
    }
   ],
   "source": [
    "model.cluster_centers_"
   ]
  },
  {
   "cell_type": "code",
   "execution_count": 70,
   "metadata": {},
   "outputs": [
    {
     "data": {
      "text/plain": [
       "array([[1.37063712, 3.00173086],\n",
       "       [3.93297837, 4.80237067],\n",
       "       [2.14226418, 3.14782968],\n",
       "       [4.18390245, 5.91339532],\n",
       "       [2.239507  , 1.64921128],\n",
       "       [3.42258151, 1.50663569],\n",
       "       [4.11421511, 1.33703788],\n",
       "       [1.93936615, 2.94153696],\n",
       "       [1.45407592, 4.0422121 ],\n",
       "       [3.31941834, 0.30180372],\n",
       "       [4.11077246, 1.42439209],\n",
       "       [2.27080843, 4.66501095],\n",
       "       [2.08295294, 2.98632206],\n",
       "       [3.71669637, 1.17607233],\n",
       "       [2.74073447, 4.28554457],\n",
       "       [3.14090515, 4.66906717],\n",
       "       [2.82479686, 5.47402416],\n",
       "       [1.06638915, 3.0218959 ],\n",
       "       [2.89738482, 1.31073158],\n",
       "       [1.82612807, 3.55879936],\n",
       "       [2.29329738, 3.45050927],\n",
       "       [2.07409042, 3.14770762],\n",
       "       [2.20539395, 4.09589037]])"
      ]
     },
     "execution_count": 70,
     "metadata": {},
     "output_type": "execute_result"
    }
   ],
   "source": [
    "# calculate distance of 23 data point between and C0 and C1\n",
    "cdist(tech_supp_attributes, model.cluster_centers_, 'euclidean')"
   ]
  },
  {
   "cell_type": "code",
   "execution_count": 71,
   "metadata": {},
   "outputs": [
    {
     "data": {
      "text/plain": [
       "array([1.37063712, 3.93297837, 2.14226418, 4.18390245, 1.64921128,\n",
       "       1.50663569, 1.33703788, 1.93936615, 1.45407592, 0.30180372,\n",
       "       1.42439209, 2.27080843, 2.08295294, 1.17607233, 2.74073447,\n",
       "       3.14090515, 2.82479686, 1.06638915, 1.31073158, 1.82612807,\n",
       "       2.29329738, 2.07409042, 2.20539395])"
      ]
     },
     "execution_count": 71,
     "metadata": {},
     "output_type": "execute_result"
    }
   ],
   "source": [
    "# Calculate min distance \n",
    "np.min(cdist(tech_supp_attributes, model.cluster_centers_, 'euclidean'), axis=1)"
   ]
  },
  {
   "cell_type": "code",
   "execution_count": 72,
   "metadata": {},
   "outputs": [],
   "source": [
    "# Sum of all above distances \n",
    "distortions = sum(np.min(cdist(tech_supp_attributes, model.cluster_centers_, 'euclidean'), axis=1))"
   ]
  },
  {
   "cell_type": "code",
   "execution_count": 73,
   "metadata": {},
   "outputs": [
    {
     "data": {
      "text/plain": [
       "46.254605582818904"
      ]
     },
     "execution_count": 73,
     "metadata": {},
     "output_type": "execute_result"
    }
   ],
   "source": [
    "distortions"
   ]
  },
  {
   "cell_type": "code",
   "execution_count": 74,
   "metadata": {},
   "outputs": [
    {
     "data": {
      "text/plain": [
       "2.011069807948648"
      ]
     },
     "execution_count": 74,
     "metadata": {},
     "output_type": "execute_result"
    }
   ],
   "source": [
    "distortions / tech_supp_attributes.shape[0]"
   ]
  },
  {
   "cell_type": "markdown",
   "metadata": {},
   "source": [
    "Now calculate distortions for 1 to 10 clusters"
   ]
  },
  {
   "cell_type": "code",
   "execution_count": 75,
   "metadata": {},
   "outputs": [],
   "source": [
    "for k in clusters:\n",
    "    model=KMeans(n_clusters=k)\n",
    "    model.fit(tech_supp_attributes)\n",
    "    prediction=model.predict(tech_supp_attributes)\n",
    "    distortions = sum(np.min(cdist(tech_supp_attributes, model.cluster_centers_, 'euclidean'), axis=1))\n",
    "    meanDistortions.append( distortions / tech_supp_attributes.shape[0])"
   ]
  },
  {
   "cell_type": "code",
   "execution_count": 76,
   "metadata": {},
   "outputs": [
    {
     "data": {
      "text/plain": [
       "Text(0.5, 1.0, 'Selecting k with the Elbow Method')"
      ]
     },
     "execution_count": 76,
     "metadata": {},
     "output_type": "execute_result"
    },
    {
     "data": {
      "image/png": "[encoded data removed]",
      "text/plain": [
       "<Figure size 432x288 with 1 Axes>"
      ]
     },
     "metadata": {
      "needs_background": "light"
     },
     "output_type": "display_data"
    }
   ],
   "source": [
    "plt.plot(clusters, meanDistortions, 'bx-')\n",
    "plt.xlabel('k')\n",
    "plt.ylabel('Average distortion')\n",
    "plt.title('Selecting k with the Elbow Method')"
   ]
  },
  {
   "cell_type": "markdown",
   "metadata": {},
   "source": [
    "Though the bend is not coming out clearly as there are many bends, let us look at 2 clusters and 3 clusters"
   ]
  },
  {
   "cell_type": "code",
   "execution_count": 77,
   "metadata": {},
   "outputs": [],
   "source": [
    "# Let us first start with K = 2\n",
    "final_model=KMeans(2)\n",
    "final_model.fit(tech_supp_attributes)\n",
    "prediction=final_model.predict(tech_supp_attributes)"
   ]
  },
  {
   "cell_type": "code",
   "execution_count": 78,
   "metadata": {},
   "outputs": [
    {
     "name": "stdout",
     "output_type": "stream",
     "text": [
      "Groups Assigned : \n",
      "\n"
     ]
    },
    {
     "data": {
      "text/html": [
       "<div>\n",
       "<style scoped>\n",
       "    .dataframe tbody tr th:only-of-type {\n",
       "        vertical-align: middle;\n",
       "    }\n",
       "\n",
       "    .dataframe tbody tr th {\n",
       "        vertical-align: top;\n",
       "    }\n",
       "\n",
       "    .dataframe thead th {\n",
       "        text-align: right;\n",
       "    }\n",
       "</style>\n",
       "<table border=\"1\" class=\"dataframe\">\n",
       "  <thead>\n",
       "    <tr style=\"text-align: right;\">\n",
       "      <th></th>\n",
       "      <th>PROBLEM_TYPE</th>\n",
       "      <th>GROUP</th>\n",
       "    </tr>\n",
       "  </thead>\n",
       "  <tbody>\n",
       "    <tr>\n",
       "      <th>0</th>\n",
       "      <td>Temperature control not working</td>\n",
       "      <td>0</td>\n",
       "    </tr>\n",
       "    <tr>\n",
       "      <th>1</th>\n",
       "      <td>power chord does not tightly fit</td>\n",
       "      <td>0</td>\n",
       "    </tr>\n",
       "    <tr>\n",
       "      <th>2</th>\n",
       "      <td>Fan swing not working</td>\n",
       "      <td>0</td>\n",
       "    </tr>\n",
       "    <tr>\n",
       "      <th>3</th>\n",
       "      <td>Main switch does not on</td>\n",
       "      <td>0</td>\n",
       "    </tr>\n",
       "    <tr>\n",
       "      <th>4</th>\n",
       "      <td>Forgot mobile app password</td>\n",
       "      <td>1</td>\n",
       "    </tr>\n",
       "    <tr>\n",
       "      <th>5</th>\n",
       "      <td>AC stops abruptly</td>\n",
       "      <td>1</td>\n",
       "    </tr>\n",
       "    <tr>\n",
       "      <th>6</th>\n",
       "      <td>App hangs while entring commands</td>\n",
       "      <td>1</td>\n",
       "    </tr>\n",
       "    <tr>\n",
       "      <th>7</th>\n",
       "      <td>App takes a long time to initialize</td>\n",
       "      <td>0</td>\n",
       "    </tr>\n",
       "    <tr>\n",
       "      <th>8</th>\n",
       "      <td>Unable to connect the App to the device</td>\n",
       "      <td>0</td>\n",
       "    </tr>\n",
       "    <tr>\n",
       "      <th>9</th>\n",
       "      <td>Reinstalling the app hangs the phone</td>\n",
       "      <td>1</td>\n",
       "    </tr>\n",
       "    <tr>\n",
       "      <th>10</th>\n",
       "      <td>Mobile screen blanks on use of phone</td>\n",
       "      <td>1</td>\n",
       "    </tr>\n",
       "    <tr>\n",
       "      <th>11</th>\n",
       "      <td>Cluttered with popup messages</td>\n",
       "      <td>0</td>\n",
       "    </tr>\n",
       "    <tr>\n",
       "      <th>12</th>\n",
       "      <td>AC controller sofware missing</td>\n",
       "      <td>0</td>\n",
       "    </tr>\n",
       "    <tr>\n",
       "      <th>13</th>\n",
       "      <td>AC remote does not  work</td>\n",
       "      <td>1</td>\n",
       "    </tr>\n",
       "    <tr>\n",
       "      <th>14</th>\n",
       "      <td>Remote Keys get stuck</td>\n",
       "      <td>0</td>\n",
       "    </tr>\n",
       "    <tr>\n",
       "      <th>15</th>\n",
       "      <td>Unable to operate menu from remote</td>\n",
       "      <td>0</td>\n",
       "    </tr>\n",
       "    <tr>\n",
       "      <th>16</th>\n",
       "      <td>Motor noise from the system</td>\n",
       "      <td>0</td>\n",
       "    </tr>\n",
       "    <tr>\n",
       "      <th>17</th>\n",
       "      <td>Freshner holder stuck</td>\n",
       "      <td>0</td>\n",
       "    </tr>\n",
       "    <tr>\n",
       "      <th>18</th>\n",
       "      <td>Factory settings not working</td>\n",
       "      <td>1</td>\n",
       "    </tr>\n",
       "    <tr>\n",
       "      <th>19</th>\n",
       "      <td>WIFI connectivity breaks</td>\n",
       "      <td>0</td>\n",
       "    </tr>\n",
       "    <tr>\n",
       "      <th>20</th>\n",
       "      <td>Battery backup does not get fully charged</td>\n",
       "      <td>0</td>\n",
       "    </tr>\n",
       "    <tr>\n",
       "      <th>21</th>\n",
       "      <td>Battery does not last full 8 hrs</td>\n",
       "      <td>0</td>\n",
       "    </tr>\n",
       "    <tr>\n",
       "      <th>22</th>\n",
       "      <td>Fan speed varies at on its own</td>\n",
       "      <td>0</td>\n",
       "    </tr>\n",
       "  </tbody>\n",
       "</table>\n",
       "</div>"
      ],
      "text/plain": [
       "                                 PROBLEM_TYPE  GROUP\n",
       "0             Temperature control not working      0\n",
       "1            power chord does not tightly fit      0\n",
       "2                       Fan swing not working      0\n",
       "3                     Main switch does not on      0\n",
       "4                  Forgot mobile app password      1\n",
       "5                           AC stops abruptly      1\n",
       "6            App hangs while entring commands      1\n",
       "7         App takes a long time to initialize      0\n",
       "8     Unable to connect the App to the device      0\n",
       "9        Reinstalling the app hangs the phone      1\n",
       "10       Mobile screen blanks on use of phone      1\n",
       "11              Cluttered with popup messages      0\n",
       "12              AC controller sofware missing      0\n",
       "13                   AC remote does not  work      1\n",
       "14                     Remote Keys get stuck       0\n",
       "15         Unable to operate menu from remote      0\n",
       "16               Motor noise from the system       0\n",
       "17                     Freshner holder stuck       0\n",
       "18               Factory settings not working      1\n",
       "19                  WIFI connectivity breaks       0\n",
       "20  Battery backup does not get fully charged      0\n",
       "21           Battery does not last full 8 hrs      0\n",
       "22             Fan speed varies at on its own      0"
      ]
     },
     "execution_count": 78,
     "metadata": {},
     "output_type": "execute_result"
    }
   ],
   "source": [
    "#Append the prediction \n",
    "tech_supp_df[\"GROUP\"] = prediction\n",
    "print(\"Groups Assigned : \\n\")\n",
    "tech_supp_df[[\"PROBLEM_TYPE\", \"GROUP\"]]"
   ]
  },
  {
   "cell_type": "markdown",
   "metadata": {},
   "source": [
    "Analyze the distribution of the data among the two groups (K = 2). One of the most informative visual tool is boxplot.\n"
   ]
  },
  {
   "cell_type": "code",
   "execution_count": 79,
   "metadata": {},
   "outputs": [
    {
     "data": {
      "text/plain": [
       "array([[<matplotlib.axes._subplots.AxesSubplot object at 0x000001E36C1270F0>,\n",
       "        <matplotlib.axes._subplots.AxesSubplot object at 0x000001E36C1D2C18>,\n",
       "        <matplotlib.axes._subplots.AxesSubplot object at 0x000001E36C1F9BA8>,\n",
       "        <matplotlib.axes._subplots.AxesSubplot object at 0x000001E36C633B70>],\n",
       "       [<matplotlib.axes._subplots.AxesSubplot object at 0x000001E36C65FAC8>,\n",
       "        <matplotlib.axes._subplots.AxesSubplot object at 0x000001E36C686D68>,\n",
       "        <matplotlib.axes._subplots.AxesSubplot object at 0x000001E36C6B9080>,\n",
       "        <matplotlib.axes._subplots.AxesSubplot object at 0x000001E36C6E0390>]],\n",
       "      dtype=object)"
      ]
     },
     "execution_count": 79,
     "metadata": {},
     "output_type": "execute_result"
    },
    {
     "data": {
      "image/png": "[encoded data removed]",
      "text/plain": [
       "<Figure size 1080x720 with 8 Axes>"
      ]
     },
     "metadata": {
      "needs_background": "light"
     },
     "output_type": "display_data"
    }
   ],
   "source": [
    "tech_supp_df.boxplot(by = 'GROUP',  layout=(2,4), figsize=(15, 10))"
   ]
  },
  {
   "cell_type": "code",
   "execution_count": null,
   "metadata": {},
   "outputs": [],
   "source": [
    "# with k=2 we are able to put 23 problems in 2 clusters/bucket and able to explain the analysis\n",
    "# the Replace_percent has long tail means the within cluster varience is more and need one more cluster\n",
    "# Unable to distinguwish groups in last graph for reference_freq"
   ]
  },
  {
   "cell_type": "code",
   "execution_count": 33,
   "metadata": {},
   "outputs": [],
   "source": [
    "# The K = 2 boxplot clearly shows outliers in group 1. Indicating that the group 1 is stretched\n",
    "# indicating probability of another cluster. Let us try with K = 3, the next elbow point"
   ]
  },
  {
   "cell_type": "code",
   "execution_count": 80,
   "metadata": {},
   "outputs": [],
   "source": [
    "# Let us first start with K = 3\n",
    "final_model=KMeans(3)\n",
    "final_model.fit(tech_supp_attributes)\n",
    "prediction=final_model.predict(tech_supp_attributes)"
   ]
  },
  {
   "cell_type": "code",
   "execution_count": 81,
   "metadata": {},
   "outputs": [
    {
     "name": "stdout",
     "output_type": "stream",
     "text": [
      "Groups Assigned : \n",
      "\n"
     ]
    },
    {
     "data": {
      "text/html": [
       "<div>\n",
       "<style scoped>\n",
       "    .dataframe tbody tr th:only-of-type {\n",
       "        vertical-align: middle;\n",
       "    }\n",
       "\n",
       "    .dataframe tbody tr th {\n",
       "        vertical-align: top;\n",
       "    }\n",
       "\n",
       "    .dataframe thead th {\n",
       "        text-align: right;\n",
       "    }\n",
       "</style>\n",
       "<table border=\"1\" class=\"dataframe\">\n",
       "  <thead>\n",
       "    <tr style=\"text-align: right;\">\n",
       "      <th></th>\n",
       "      <th>PROBLEM_TYPE</th>\n",
       "      <th>GROUP</th>\n",
       "    </tr>\n",
       "  </thead>\n",
       "  <tbody>\n",
       "    <tr>\n",
       "      <th>0</th>\n",
       "      <td>Temperature control not working</td>\n",
       "      <td>0</td>\n",
       "    </tr>\n",
       "    <tr>\n",
       "      <th>1</th>\n",
       "      <td>power chord does not tightly fit</td>\n",
       "      <td>1</td>\n",
       "    </tr>\n",
       "    <tr>\n",
       "      <th>2</th>\n",
       "      <td>Fan swing not working</td>\n",
       "      <td>0</td>\n",
       "    </tr>\n",
       "    <tr>\n",
       "      <th>3</th>\n",
       "      <td>Main switch does not on</td>\n",
       "      <td>1</td>\n",
       "    </tr>\n",
       "    <tr>\n",
       "      <th>4</th>\n",
       "      <td>Forgot mobile app password</td>\n",
       "      <td>2</td>\n",
       "    </tr>\n",
       "    <tr>\n",
       "      <th>5</th>\n",
       "      <td>AC stops abruptly</td>\n",
       "      <td>2</td>\n",
       "    </tr>\n",
       "    <tr>\n",
       "      <th>6</th>\n",
       "      <td>App hangs while entring commands</td>\n",
       "      <td>2</td>\n",
       "    </tr>\n",
       "    <tr>\n",
       "      <th>7</th>\n",
       "      <td>App takes a long time to initialize</td>\n",
       "      <td>0</td>\n",
       "    </tr>\n",
       "    <tr>\n",
       "      <th>8</th>\n",
       "      <td>Unable to connect the App to the device</td>\n",
       "      <td>0</td>\n",
       "    </tr>\n",
       "    <tr>\n",
       "      <th>9</th>\n",
       "      <td>Reinstalling the app hangs the phone</td>\n",
       "      <td>2</td>\n",
       "    </tr>\n",
       "    <tr>\n",
       "      <th>10</th>\n",
       "      <td>Mobile screen blanks on use of phone</td>\n",
       "      <td>2</td>\n",
       "    </tr>\n",
       "    <tr>\n",
       "      <th>11</th>\n",
       "      <td>Cluttered with popup messages</td>\n",
       "      <td>1</td>\n",
       "    </tr>\n",
       "    <tr>\n",
       "      <th>12</th>\n",
       "      <td>AC controller sofware missing</td>\n",
       "      <td>0</td>\n",
       "    </tr>\n",
       "    <tr>\n",
       "      <th>13</th>\n",
       "      <td>AC remote does not  work</td>\n",
       "      <td>2</td>\n",
       "    </tr>\n",
       "    <tr>\n",
       "      <th>14</th>\n",
       "      <td>Remote Keys get stuck</td>\n",
       "      <td>0</td>\n",
       "    </tr>\n",
       "    <tr>\n",
       "      <th>15</th>\n",
       "      <td>Unable to operate menu from remote</td>\n",
       "      <td>0</td>\n",
       "    </tr>\n",
       "    <tr>\n",
       "      <th>16</th>\n",
       "      <td>Motor noise from the system</td>\n",
       "      <td>1</td>\n",
       "    </tr>\n",
       "    <tr>\n",
       "      <th>17</th>\n",
       "      <td>Freshner holder stuck</td>\n",
       "      <td>0</td>\n",
       "    </tr>\n",
       "    <tr>\n",
       "      <th>18</th>\n",
       "      <td>Factory settings not working</td>\n",
       "      <td>2</td>\n",
       "    </tr>\n",
       "    <tr>\n",
       "      <th>19</th>\n",
       "      <td>WIFI connectivity breaks</td>\n",
       "      <td>0</td>\n",
       "    </tr>\n",
       "    <tr>\n",
       "      <th>20</th>\n",
       "      <td>Battery backup does not get fully charged</td>\n",
       "      <td>1</td>\n",
       "    </tr>\n",
       "    <tr>\n",
       "      <th>21</th>\n",
       "      <td>Battery does not last full 8 hrs</td>\n",
       "      <td>1</td>\n",
       "    </tr>\n",
       "    <tr>\n",
       "      <th>22</th>\n",
       "      <td>Fan speed varies at on its own</td>\n",
       "      <td>1</td>\n",
       "    </tr>\n",
       "  </tbody>\n",
       "</table>\n",
       "</div>"
      ],
      "text/plain": [
       "                                 PROBLEM_TYPE  GROUP\n",
       "0             Temperature control not working      0\n",
       "1            power chord does not tightly fit      1\n",
       "2                       Fan swing not working      0\n",
       "3                     Main switch does not on      1\n",
       "4                  Forgot mobile app password      2\n",
       "5                           AC stops abruptly      2\n",
       "6            App hangs while entring commands      2\n",
       "7         App takes a long time to initialize      0\n",
       "8     Unable to connect the App to the device      0\n",
       "9        Reinstalling the app hangs the phone      2\n",
       "10       Mobile screen blanks on use of phone      2\n",
       "11              Cluttered with popup messages      1\n",
       "12              AC controller sofware missing      0\n",
       "13                   AC remote does not  work      2\n",
       "14                     Remote Keys get stuck       0\n",
       "15         Unable to operate menu from remote      0\n",
       "16               Motor noise from the system       1\n",
       "17                     Freshner holder stuck       0\n",
       "18               Factory settings not working      2\n",
       "19                  WIFI connectivity breaks       0\n",
       "20  Battery backup does not get fully charged      1\n",
       "21           Battery does not last full 8 hrs      1\n",
       "22             Fan speed varies at on its own      1"
      ]
     },
     "execution_count": 81,
     "metadata": {},
     "output_type": "execute_result"
    }
   ],
   "source": [
    "#Append the prediction \n",
    "tech_supp_df[\"GROUP\"] = prediction\n",
    "print(\"Groups Assigned : \\n\")\n",
    "tech_supp_df[[\"PROBLEM_TYPE\", \"GROUP\"]]"
   ]
  },
  {
   "cell_type": "code",
   "execution_count": 82,
   "metadata": {},
   "outputs": [
    {
     "data": {
      "text/plain": [
       "array([[<matplotlib.axes._subplots.AxesSubplot object at 0x000001E36CBCA9E8>,\n",
       "        <matplotlib.axes._subplots.AxesSubplot object at 0x000001E36CCF44E0>,\n",
       "        <matplotlib.axes._subplots.AxesSubplot object at 0x000001E36CD176D8>,\n",
       "        <matplotlib.axes._subplots.AxesSubplot object at 0x000001E36C8AF9B0>],\n",
       "       [<matplotlib.axes._subplots.AxesSubplot object at 0x000001E36C8D7C88>,\n",
       "        <matplotlib.axes._subplots.AxesSubplot object at 0x000001E36C900F60>,\n",
       "        <matplotlib.axes._subplots.AxesSubplot object at 0x000001E36C931278>,\n",
       "        <matplotlib.axes._subplots.AxesSubplot object at 0x000001E36C95A588>]],\n",
       "      dtype=object)"
      ]
     },
     "execution_count": 82,
     "metadata": {},
     "output_type": "execute_result"
    },
    {
     "data": {
      "image/png": "[encoded data removed]",
      "text/plain": [
       "<Figure size 1080x720 with 8 Axes>"
      ]
     },
     "metadata": {
      "needs_background": "light"
     },
     "output_type": "display_data"
    }
   ],
   "source": [
    "tech_supp_df.boxplot(by = 'GROUP',  layout=(2,4), figsize=(15, 10))"
   ]
  },
  {
   "cell_type": "code",
   "execution_count": 37,
   "metadata": {},
   "outputs": [],
   "source": [
    "# Number of cases in Group 0 is high but resolution time is very low and pending calls too is low.... (teething problem)\n",
    "# Number of cases in group 1 is second highest, pending calls is also second highest, resolution time is slightly higher\n",
    "# Replacement_percent is very high.... (Design problem)\n",
    "\n",
    "# What does this indicate?"
   ]
  },
  {
   "cell_type": "code",
   "execution_count": null,
   "metadata": {
    "collapsed": true
   },
   "outputs": [],
   "source": [
    "# "
   ]
  },
  {
   "cell_type": "code",
   "execution_count": null,
   "metadata": {
    "collapsed": true
   },
   "outputs": [],
   "source": []
  }
 ],
 "metadata": {
  "anaconda-cloud": {},
  "kernelspec": {
   "display_name": "Python 3",
   "language": "python",
   "name": "python3"
  },
  "language_info": {
   "codemirror_mode": {
    "name": "ipython",
    "version": 3
   },
   "file_extension": ".py",
   "mimetype": "text/x-python",
   "name": "python",
   "nbconvert_exporter": "python",
   "pygments_lexer": "ipython3",
   "version": "3.7.1"
  }
 },
 "nbformat": 4,
 "nbformat_minor": 1
}
