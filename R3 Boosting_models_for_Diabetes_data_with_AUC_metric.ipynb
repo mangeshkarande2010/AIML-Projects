{
 "cells": [
  {
   "cell_type": "code",
   "execution_count": 1,
   "metadata": {},
   "outputs": [],
   "source": [
    "%matplotlib inline\n",
    "import numpy as np\n",
    "import pandas as pd\n",
    "from sklearn.utils import resample\n",
    "from sklearn.tree import DecisionTreeClassifier\n",
    "from sklearn.ensemble import RandomForestClassifier\n",
    "from sklearn.linear_model import LogisticRegression\n",
    "from sklearn.naive_bayes import GaussianNB\n",
    "from sklearn.preprocessing import StandardScaler\n",
    "from sklearn.neighbors import KNeighborsClassifier\n",
    "from sklearn import model_selection\n",
    "from sklearn import metrics\n",
    "from sklearn.decomposition import PCA\n",
    "from scipy.stats import zscore\n",
    "import matplotlib.pyplot as plt "
   ]
  },
  {
   "cell_type": "code",
   "execution_count": 2,
   "metadata": {},
   "outputs": [],
   "source": [
    "colnames = ['preg', 'glu', 'bp', 'sft', 'ins', 'bmi', 'dpf', 'age', 'outcome']\n",
    "prima_df = pd.read_csv(\"pima-indians-diabetes.data\",names=colnames)"
   ]
  },
  {
   "cell_type": "code",
   "execution_count": 3,
   "metadata": {},
   "outputs": [],
   "source": [
    "X=prima_df[['preg', 'glu', 'bp', 'sft', 'ins', 'bmi', 'dpf', 'age']]\n",
    "Y=prima_df['outcome']"
   ]
  },
  {
   "cell_type": "code",
   "execution_count": 4,
   "metadata": {},
   "outputs": [
    {
     "name": "stderr",
     "output_type": "stream",
     "text": [
      "C:\\Users\\Mangesh Karande\\Anaconda3\\lib\\site-packages\\sklearn\\preprocessing\\data.py:625: DataConversionWarning: Data with input dtype int64, float64 were all converted to float64 by StandardScaler.\n",
      "  return self.partial_fit(X, y)\n",
      "C:\\Users\\Mangesh Karande\\Anaconda3\\lib\\site-packages\\sklearn\\base.py:462: DataConversionWarning: Data with input dtype int64, float64 were all converted to float64 by StandardScaler.\n",
      "  return self.fit(X, **fit_params).transform(X)\n"
     ]
    }
   ],
   "source": [
    "sc=StandardScaler()\n",
    "X=sc.fit_transform(X)"
   ]
  },
  {
   "cell_type": "code",
   "execution_count": 5,
   "metadata": {},
   "outputs": [],
   "source": [
    "from sklearn.ensemble import AdaBoostClassifier\n",
    "from sklearn.ensemble import BaggingClassifier\n",
    "from sklearn.ensemble import GradientBoostingClassifier\n",
    "from sklearn.ensemble import VotingClassifier\n",
    "base_knn=KNeighborsClassifier(n_neighbors=7,weights='distance')\n",
    "base_nb=GaussianNB()\n",
    "base_LR=LogisticRegression(random_state=2)\n",
    "base_rf=RandomForestClassifier(n_estimators=101,random_state=2)\n",
    "gb_model=GradientBoostingClassifier(n_estimators=50,random_state=2)"
   ]
  },
  {
   "cell_type": "code",
   "execution_count": 6,
   "metadata": {},
   "outputs": [],
   "source": [
    "bag_knn=BaggingClassifier(base_estimator=base_knn,n_estimators=17,random_state=2)"
   ]
  },
  {
   "cell_type": "code",
   "execution_count": 7,
   "metadata": {},
   "outputs": [],
   "source": [
    "bag_LR=BaggingClassifier(base_estimator=base_LR,n_estimators=15,random_state=2)\n",
    "boost_LR = AdaBoostClassifier(base_estimator=base_LR,n_estimators=50,random_state=2)"
   ]
  },
  {
   "cell_type": "code",
   "execution_count": 8,
   "metadata": {},
   "outputs": [],
   "source": [
    "bag_nb=BaggingClassifier(base_estimator=base_nb,n_estimators=15,random_state=2)\n",
    "boost_nb = AdaBoostClassifier(base_estimator=base_nb,n_estimators=51,random_state=2)"
   ]
  },
  {
   "cell_type": "code",
   "execution_count": 9,
   "metadata": {},
   "outputs": [],
   "source": [
    "boost_rf=AdaBoostClassifier(base_estimator=base_rf,n_estimators=50,random_state=2)"
   ]
  },
  {
   "cell_type": "code",
   "execution_count": 10,
   "metadata": {},
   "outputs": [],
   "source": [
    "bag_dt=BaggingClassifier(n_estimators=15,random_state=2)\n",
    "boost_dt = AdaBoostClassifier(n_estimators=50,random_state=2)"
   ]
  },
  {
   "cell_type": "code",
   "execution_count": 11,
   "metadata": {},
   "outputs": [],
   "source": [
    "stacked = VotingClassifier(estimators = [('Boosted_LR',boost_LR),('RF', base_rf), ('Boosted_DT', boost_dt)],voting='soft')"
   ]
  },
  {
   "cell_type": "code",
   "execution_count": 12,
   "metadata": {},
   "outputs": [],
   "source": [
    "import warnings\n",
    "warnings.filterwarnings(\"ignore\", category=FutureWarning)"
   ]
  },
  {
   "cell_type": "code",
   "execution_count": 13,
   "metadata": {},
   "outputs": [
    {
     "name": "stdout",
     "output_type": "stream",
     "text": [
      "f1_weighted for Healthy: 0.83 (+/- 0.00048) [BoostLR]\n",
      "f1_weighted for Diabetic: 0.62 (+/- 0.00222) [BoostLR]\n",
      "f1_weighted for Healthy: 0.81 (+/- 0.00029) [RF]\n",
      "f1_weighted for Diabetic: 0.62 (+/- 0.00171) [RF]\n",
      "f1_weighted for Healthy: 0.81 (+/- 0.00028) [BoostedDT]\n",
      "f1_weighted for Diabetic: 0.60 (+/- 0.00683) [BoostedDT]\n",
      "f1_weighted for Healthy: 0.82 (+/- 0.00037) [GradientBoost]\n",
      "f1_weighted for Diabetic: 0.62 (+/- 0.00248) [GradientBoost]\n",
      "f1_weighted for Healthy: 0.81 (+/- 0.00020) [stacked]\n",
      "f1_weighted for Diabetic: 0.62 (+/- 0.00166) [stacked]\n"
     ]
    }
   ],
   "source": [
    "from sklearn.model_selection import KFold\n",
    "kf=KFold(n_splits=5,shuffle=True,random_state=2)\n",
    "for model, name in zip([boost_LR,base_rf,boost_dt,gb_model,stacked], ['BoostLR','RF','BoostedDT','GradientBoost','stacked']):\n",
    "    k=0\n",
    "    recall=np.zeros((2,5))\n",
    "    prec=np.zeros((2,5))\n",
    "    fscore=np.zeros((2,5))\n",
    "    for train,test in kf.split(X,Y):\n",
    "        Xtrain,Xtest=X[train,:],X[test,:]\n",
    "        Ytrain,Ytest=Y[train],Y[test]\n",
    "        model.fit(Xtrain,Ytrain)\n",
    "        Y_predict=model.predict(Xtest)\n",
    "        cm=metrics.confusion_matrix(Ytest,Y_predict)\n",
    "        for i in np.arange(0,2):\n",
    "            recall[i,k]=cm[i,i]/cm[i,:].sum()\n",
    "        for i in np.arange(0,2):\n",
    "            prec[i,k]=cm[i,i]/cm[:,i].sum()\n",
    "        k=k+1\n",
    "    for row in np.arange(0,2):\n",
    "        for col in np.arange(0,5):\n",
    "            fscore[row,col]=2*(recall[row,col]*prec[row,col])/(recall[row,col]+prec[row,col])\n",
    "    print(\"f1_weighted for Healthy: %0.02f (+/- %0.5f) [%s]\" % (np.mean(fscore[0,:]), np.var(fscore[0,:],ddof=1), name ))   \n",
    "    print(\"f1_weighted for Diabetic: %0.02f (+/- %0.5f) [%s]\" % (np.mean(fscore[1,:]), np.var(fscore[1,:],ddof=1), name ))   \n",
    "    "
   ]
  },
  {
   "cell_type": "code",
   "execution_count": 14,
   "metadata": {},
   "outputs": [
    {
     "name": "stdout",
     "output_type": "stream",
     "text": [
      "AUC scores: 0.72 (+/- 0.00086) [BoostLR]\n",
      "AUC scores: 0.71 (+/- 0.00047) [RF]\n",
      "AUC scores: 0.70 (+/- 0.00229) [BoostedDT]\n",
      "AUC scores: 0.71 (+/- 0.00093) [GradientBoost]\n",
      "AUC scores: 0.71 (+/- 0.00042) [stacked]\n"
     ]
    }
   ],
   "source": [
    "from sklearn.model_selection import KFold\n",
    "from sklearn.metrics import roc_curve, auc\n",
    "kf=KFold(n_splits=5,shuffle=True,random_state=2)\n",
    "for model, name in zip([boost_LR,base_rf,boost_dt,gb_model,stacked], ['BoostLR','RF','BoostedDT','GradientBoost','stacked']):\n",
    "    roc_auc=[]\n",
    "    for train,test in kf.split(X,Y):\n",
    "        Xtrain,Xtest=X[train,:],X[test,:]\n",
    "        Ytrain,Ytest=Y[train],Y[test]\n",
    "        model.fit(Xtrain,Ytrain)\n",
    "        Y_predict=model.predict(Xtest)\n",
    "        cm=metrics.confusion_matrix(Ytest,Y_predict)\n",
    "        fpr,tpr, _ = roc_curve(Ytest,Y_predict)\n",
    "        roc_auc.append(auc(fpr, tpr))\n",
    "    print(\"AUC scores: %0.02f (+/- %0.5f) [%s]\" % (np.mean(roc_auc), np.var(roc_auc,ddof=1), name ))   \n",
    "    "
   ]
  },
  {
   "cell_type": "code",
   "execution_count": 15,
   "metadata": {},
   "outputs": [
    {
     "data": {
      "text/plain": [
       "0.027777777777777804"
      ]
     },
     "execution_count": 15,
     "metadata": {},
     "output_type": "execute_result"
    }
   ],
   "source": [
    "(0.00046-0.00040)/0.00046\n",
    "(0.72-0.7)/0.72\n"
   ]
  },
  {
   "cell_type": "code",
   "execution_count": null,
   "metadata": {},
   "outputs": [],
   "source": [
    "# Conclusion"
   ]
  },
  {
   "cell_type": "code",
   "execution_count": 19,
   "metadata": {},
   "outputs": [],
   "source": [
    "# In case of Biased error >> AUC scores: 0.72 (+/- 0.00086) [BoostLR] model gives best result\n",
    "# In case of varience error >> AUC scores: 0.71 (+/- 0.00042) [stacked] model gives better result\n",
    "\n",
    "# Best model with overall result will be :\n",
    "# 1) AUC scores: 0.72 (+/- 0.00086) [BoostLR]\n",
    "# 2) AUC scores: 0.71 (+/- 0.00042) [stacked]\n",
    "# 3) AUC scores: 0.71 (+/- 0.00047) [RF]\n",
    "\n",
    "# BoostedLR has highest avarage value of 0.00086 out of above 3 models, so seleted BoostedLR first.\n",
    "# Out of Stacked and RF , Stacked has less varience error of 0.00042 so it is selected\n",
    "# The weighted result difference between BoostedLR and Stacked is (0.72-0.71)/0.72 & (0.00086-0.00042)/0.00086\n",
    "\n",
    "# Stacked model is better in varience error by 51% by weighted avg value so it is the best model out of above 3.\n"
   ]
  },
  {
   "cell_type": "code",
   "execution_count": 20,
   "metadata": {},
   "outputs": [
    {
     "data": {
      "text/plain": [
       "0.013888888888888902"
      ]
     },
     "execution_count": 20,
     "metadata": {},
     "output_type": "execute_result"
    }
   ],
   "source": [
    "(0.72-0.71)/0.72"
   ]
  },
  {
   "cell_type": "code",
   "execution_count": 21,
   "metadata": {},
   "outputs": [
    {
     "data": {
      "text/plain": [
       "0.5116279069767442"
      ]
     },
     "execution_count": 21,
     "metadata": {},
     "output_type": "execute_result"
    }
   ],
   "source": [
    "(0.00086-0.00042)/0.00086"
   ]
  },
  {
   "cell_type": "code",
   "execution_count": null,
   "metadata": {},
   "outputs": [],
   "source": []
  }
 ],
 "metadata": {
  "kernelspec": {
   "display_name": "Python 3",
   "language": "python",
   "name": "python3"
  },
  "language_info": {
   "codemirror_mode": {
    "name": "ipython",
    "version": 3
   },
   "file_extension": ".py",
   "mimetype": "text/x-python",
   "name": "python",
   "nbconvert_exporter": "python",
   "pygments_lexer": "ipython3",
   "version": "3.7.1"
  }
 },
 "nbformat": 4,
 "nbformat_minor": 2
}
