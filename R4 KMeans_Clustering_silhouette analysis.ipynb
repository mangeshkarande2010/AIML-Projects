{
 "cells": [
  {
   "cell_type": "markdown",
   "metadata": {},
   "source": [
    "### The data set has information about features of silhouette extracted from the images of different cars\n",
    "\n",
    "Four \"Corgie\" model vehicles were used for the experiment: a double decker bus, Cheverolet van, Saab 9000 and an Opel Manta 400 cars. This particular combination of vehicles was chosen with the expectation that the bus, van and either one of the cars would be readily distinguishable, but it would be more difficult to distinguish between the cars.\n",
    "\n"
   ]
  },
  {
   "cell_type": "markdown",
   "metadata": {},
   "source": [
    "### 1. Read the dataset using function .dropna() - to avoid dealing with NAs as of now"
   ]
  },
  {
   "cell_type": "code",
   "execution_count": 100,
   "metadata": {},
   "outputs": [],
   "source": [
    "import pandas as pd\n",
    "import numpy as np\n",
    "from sklearn.cluster import KMeans\n",
    "import matplotlib.pylab as plt\n",
    "import seaborn as sns; sns.set() \n",
    "%matplotlib inline"
   ]
  },
  {
   "cell_type": "code",
   "execution_count": 101,
   "metadata": {},
   "outputs": [
    {
     "name": "stdout",
     "output_type": "stream",
     "text": [
      "<class 'pandas.core.frame.DataFrame'>\n",
      "RangeIndex: 846 entries, 0 to 845\n",
      "Data columns (total 19 columns):\n",
      "compactness                    846 non-null int64\n",
      "circularity                    841 non-null float64\n",
      "distance_circularity           842 non-null float64\n",
      "radius_ratio                   840 non-null float64\n",
      "pr.axis_aspect_ratio           844 non-null float64\n",
      "max.length_aspect_ratio        846 non-null int64\n",
      "scatter_ratio                  845 non-null float64\n",
      "elongatedness                  845 non-null float64\n",
      "pr.axis_rectangularity         843 non-null float64\n",
      "max.length_rectangularity      846 non-null int64\n",
      "scaled_variance                843 non-null float64\n",
      "scaled_variance.1              844 non-null float64\n",
      "scaled_radius_of_gyration      844 non-null float64\n",
      "scaled_radius_of_gyration.1    842 non-null float64\n",
      "skewness_about                 840 non-null float64\n",
      "skewness_about.1               845 non-null float64\n",
      "skewness_about.2               845 non-null float64\n",
      "hollows_ratio                  846 non-null int64\n",
      "class                          846 non-null object\n",
      "dtypes: float64(14), int64(4), object(1)\n",
      "memory usage: 125.7+ KB\n"
     ]
    }
   ],
   "source": [
    "df = pd.read_csv('vehicle.csv')\n",
    "df.info()"
   ]
  },
  {
   "cell_type": "code",
   "execution_count": 102,
   "metadata": {},
   "outputs": [
    {
     "data": {
      "text/html": [
       "<div>\n",
       "<style scoped>\n",
       "    .dataframe tbody tr th:only-of-type {\n",
       "        vertical-align: middle;\n",
       "    }\n",
       "\n",
       "    .dataframe tbody tr th {\n",
       "        vertical-align: top;\n",
       "    }\n",
       "\n",
       "    .dataframe thead th {\n",
       "        text-align: right;\n",
       "    }\n",
       "</style>\n",
       "<table border=\"1\" class=\"dataframe\">\n",
       "  <thead>\n",
       "    <tr style=\"text-align: right;\">\n",
       "      <th></th>\n",
       "      <th>compactness</th>\n",
       "      <th>circularity</th>\n",
       "      <th>distance_circularity</th>\n",
       "      <th>radius_ratio</th>\n",
       "      <th>pr.axis_aspect_ratio</th>\n",
       "      <th>max.length_aspect_ratio</th>\n",
       "      <th>scatter_ratio</th>\n",
       "      <th>elongatedness</th>\n",
       "      <th>pr.axis_rectangularity</th>\n",
       "      <th>max.length_rectangularity</th>\n",
       "      <th>scaled_variance</th>\n",
       "      <th>scaled_variance.1</th>\n",
       "      <th>scaled_radius_of_gyration</th>\n",
       "      <th>scaled_radius_of_gyration.1</th>\n",
       "      <th>skewness_about</th>\n",
       "      <th>skewness_about.1</th>\n",
       "      <th>skewness_about.2</th>\n",
       "      <th>hollows_ratio</th>\n",
       "      <th>class</th>\n",
       "    </tr>\n",
       "  </thead>\n",
       "  <tbody>\n",
       "    <tr>\n",
       "      <th>0</th>\n",
       "      <td>95</td>\n",
       "      <td>48.0</td>\n",
       "      <td>83.0</td>\n",
       "      <td>178.0</td>\n",
       "      <td>72.0</td>\n",
       "      <td>10</td>\n",
       "      <td>162.0</td>\n",
       "      <td>42.0</td>\n",
       "      <td>20.0</td>\n",
       "      <td>159</td>\n",
       "      <td>176.0</td>\n",
       "      <td>379.0</td>\n",
       "      <td>184.0</td>\n",
       "      <td>70.0</td>\n",
       "      <td>6.0</td>\n",
       "      <td>16.0</td>\n",
       "      <td>187.0</td>\n",
       "      <td>197</td>\n",
       "      <td>van</td>\n",
       "    </tr>\n",
       "    <tr>\n",
       "      <th>1</th>\n",
       "      <td>91</td>\n",
       "      <td>41.0</td>\n",
       "      <td>84.0</td>\n",
       "      <td>141.0</td>\n",
       "      <td>57.0</td>\n",
       "      <td>9</td>\n",
       "      <td>149.0</td>\n",
       "      <td>45.0</td>\n",
       "      <td>19.0</td>\n",
       "      <td>143</td>\n",
       "      <td>170.0</td>\n",
       "      <td>330.0</td>\n",
       "      <td>158.0</td>\n",
       "      <td>72.0</td>\n",
       "      <td>9.0</td>\n",
       "      <td>14.0</td>\n",
       "      <td>189.0</td>\n",
       "      <td>199</td>\n",
       "      <td>van</td>\n",
       "    </tr>\n",
       "    <tr>\n",
       "      <th>2</th>\n",
       "      <td>104</td>\n",
       "      <td>50.0</td>\n",
       "      <td>106.0</td>\n",
       "      <td>209.0</td>\n",
       "      <td>66.0</td>\n",
       "      <td>10</td>\n",
       "      <td>207.0</td>\n",
       "      <td>32.0</td>\n",
       "      <td>23.0</td>\n",
       "      <td>158</td>\n",
       "      <td>223.0</td>\n",
       "      <td>635.0</td>\n",
       "      <td>220.0</td>\n",
       "      <td>73.0</td>\n",
       "      <td>14.0</td>\n",
       "      <td>9.0</td>\n",
       "      <td>188.0</td>\n",
       "      <td>196</td>\n",
       "      <td>car</td>\n",
       "    </tr>\n",
       "    <tr>\n",
       "      <th>3</th>\n",
       "      <td>93</td>\n",
       "      <td>41.0</td>\n",
       "      <td>82.0</td>\n",
       "      <td>159.0</td>\n",
       "      <td>63.0</td>\n",
       "      <td>9</td>\n",
       "      <td>144.0</td>\n",
       "      <td>46.0</td>\n",
       "      <td>19.0</td>\n",
       "      <td>143</td>\n",
       "      <td>160.0</td>\n",
       "      <td>309.0</td>\n",
       "      <td>127.0</td>\n",
       "      <td>63.0</td>\n",
       "      <td>6.0</td>\n",
       "      <td>10.0</td>\n",
       "      <td>199.0</td>\n",
       "      <td>207</td>\n",
       "      <td>van</td>\n",
       "    </tr>\n",
       "    <tr>\n",
       "      <th>4</th>\n",
       "      <td>85</td>\n",
       "      <td>44.0</td>\n",
       "      <td>70.0</td>\n",
       "      <td>205.0</td>\n",
       "      <td>103.0</td>\n",
       "      <td>52</td>\n",
       "      <td>149.0</td>\n",
       "      <td>45.0</td>\n",
       "      <td>19.0</td>\n",
       "      <td>144</td>\n",
       "      <td>241.0</td>\n",
       "      <td>325.0</td>\n",
       "      <td>188.0</td>\n",
       "      <td>127.0</td>\n",
       "      <td>9.0</td>\n",
       "      <td>11.0</td>\n",
       "      <td>180.0</td>\n",
       "      <td>183</td>\n",
       "      <td>bus</td>\n",
       "    </tr>\n",
       "  </tbody>\n",
       "</table>\n",
       "</div>"
      ],
      "text/plain": [
       "   compactness  circularity  distance_circularity  radius_ratio  \\\n",
       "0           95         48.0                  83.0         178.0   \n",
       "1           91         41.0                  84.0         141.0   \n",
       "2          104         50.0                 106.0         209.0   \n",
       "3           93         41.0                  82.0         159.0   \n",
       "4           85         44.0                  70.0         205.0   \n",
       "\n",
       "   pr.axis_aspect_ratio  max.length_aspect_ratio  scatter_ratio  \\\n",
       "0                  72.0                       10          162.0   \n",
       "1                  57.0                        9          149.0   \n",
       "2                  66.0                       10          207.0   \n",
       "3                  63.0                        9          144.0   \n",
       "4                 103.0                       52          149.0   \n",
       "\n",
       "   elongatedness  pr.axis_rectangularity  max.length_rectangularity  \\\n",
       "0           42.0                    20.0                        159   \n",
       "1           45.0                    19.0                        143   \n",
       "2           32.0                    23.0                        158   \n",
       "3           46.0                    19.0                        143   \n",
       "4           45.0                    19.0                        144   \n",
       "\n",
       "   scaled_variance  scaled_variance.1  scaled_radius_of_gyration  \\\n",
       "0            176.0              379.0                      184.0   \n",
       "1            170.0              330.0                      158.0   \n",
       "2            223.0              635.0                      220.0   \n",
       "3            160.0              309.0                      127.0   \n",
       "4            241.0              325.0                      188.0   \n",
       "\n",
       "   scaled_radius_of_gyration.1  skewness_about  skewness_about.1  \\\n",
       "0                         70.0             6.0              16.0   \n",
       "1                         72.0             9.0              14.0   \n",
       "2                         73.0            14.0               9.0   \n",
       "3                         63.0             6.0              10.0   \n",
       "4                        127.0             9.0              11.0   \n",
       "\n",
       "   skewness_about.2  hollows_ratio class  \n",
       "0             187.0            197   van  \n",
       "1             189.0            199   van  \n",
       "2             188.0            196   car  \n",
       "3             199.0            207   van  \n",
       "4             180.0            183   bus  "
      ]
     },
     "execution_count": 102,
     "metadata": {},
     "output_type": "execute_result"
    }
   ],
   "source": [
    "df.head(5)"
   ]
  },
  {
   "cell_type": "markdown",
   "metadata": {},
   "source": [
    "### 2. Print/ Plot the dependent (categorical variable) - Class column"
   ]
  },
  {
   "cell_type": "markdown",
   "metadata": {},
   "source": [
    "Since the variable is categorical, you can use value_counts function"
   ]
  },
  {
   "cell_type": "code",
   "execution_count": 103,
   "metadata": {},
   "outputs": [
    {
     "data": {
      "text/html": [
       "<div>\n",
       "<style scoped>\n",
       "    .dataframe tbody tr th:only-of-type {\n",
       "        vertical-align: middle;\n",
       "    }\n",
       "\n",
       "    .dataframe tbody tr th {\n",
       "        vertical-align: top;\n",
       "    }\n",
       "\n",
       "    .dataframe thead th {\n",
       "        text-align: right;\n",
       "    }\n",
       "</style>\n",
       "<table border=\"1\" class=\"dataframe\">\n",
       "  <thead>\n",
       "    <tr style=\"text-align: right;\">\n",
       "      <th></th>\n",
       "      <th>compactness</th>\n",
       "      <th>circularity</th>\n",
       "      <th>distance_circularity</th>\n",
       "      <th>radius_ratio</th>\n",
       "      <th>pr.axis_aspect_ratio</th>\n",
       "      <th>max.length_aspect_ratio</th>\n",
       "      <th>scatter_ratio</th>\n",
       "      <th>elongatedness</th>\n",
       "      <th>pr.axis_rectangularity</th>\n",
       "      <th>max.length_rectangularity</th>\n",
       "      <th>scaled_variance</th>\n",
       "      <th>scaled_variance.1</th>\n",
       "      <th>scaled_radius_of_gyration</th>\n",
       "      <th>scaled_radius_of_gyration.1</th>\n",
       "      <th>skewness_about</th>\n",
       "      <th>skewness_about.1</th>\n",
       "      <th>skewness_about.2</th>\n",
       "      <th>hollows_ratio</th>\n",
       "    </tr>\n",
       "    <tr>\n",
       "      <th>class</th>\n",
       "      <th></th>\n",
       "      <th></th>\n",
       "      <th></th>\n",
       "      <th></th>\n",
       "      <th></th>\n",
       "      <th></th>\n",
       "      <th></th>\n",
       "      <th></th>\n",
       "      <th></th>\n",
       "      <th></th>\n",
       "      <th></th>\n",
       "      <th></th>\n",
       "      <th></th>\n",
       "      <th></th>\n",
       "      <th></th>\n",
       "      <th></th>\n",
       "      <th></th>\n",
       "      <th></th>\n",
       "    </tr>\n",
       "  </thead>\n",
       "  <tbody>\n",
       "    <tr>\n",
       "      <th>bus</th>\n",
       "      <td>218</td>\n",
       "      <td>214</td>\n",
       "      <td>215</td>\n",
       "      <td>216</td>\n",
       "      <td>217</td>\n",
       "      <td>218</td>\n",
       "      <td>218</td>\n",
       "      <td>218</td>\n",
       "      <td>217</td>\n",
       "      <td>218</td>\n",
       "      <td>218</td>\n",
       "      <td>218</td>\n",
       "      <td>216</td>\n",
       "      <td>217</td>\n",
       "      <td>214</td>\n",
       "      <td>218</td>\n",
       "      <td>218</td>\n",
       "      <td>218</td>\n",
       "    </tr>\n",
       "    <tr>\n",
       "      <th>car</th>\n",
       "      <td>429</td>\n",
       "      <td>428</td>\n",
       "      <td>429</td>\n",
       "      <td>426</td>\n",
       "      <td>428</td>\n",
       "      <td>429</td>\n",
       "      <td>428</td>\n",
       "      <td>428</td>\n",
       "      <td>428</td>\n",
       "      <td>429</td>\n",
       "      <td>427</td>\n",
       "      <td>427</td>\n",
       "      <td>429</td>\n",
       "      <td>426</td>\n",
       "      <td>427</td>\n",
       "      <td>428</td>\n",
       "      <td>428</td>\n",
       "      <td>429</td>\n",
       "    </tr>\n",
       "    <tr>\n",
       "      <th>van</th>\n",
       "      <td>199</td>\n",
       "      <td>199</td>\n",
       "      <td>198</td>\n",
       "      <td>198</td>\n",
       "      <td>199</td>\n",
       "      <td>199</td>\n",
       "      <td>199</td>\n",
       "      <td>199</td>\n",
       "      <td>198</td>\n",
       "      <td>199</td>\n",
       "      <td>198</td>\n",
       "      <td>199</td>\n",
       "      <td>199</td>\n",
       "      <td>199</td>\n",
       "      <td>199</td>\n",
       "      <td>199</td>\n",
       "      <td>199</td>\n",
       "      <td>199</td>\n",
       "    </tr>\n",
       "  </tbody>\n",
       "</table>\n",
       "</div>"
      ],
      "text/plain": [
       "       compactness  circularity  distance_circularity  radius_ratio  \\\n",
       "class                                                                 \n",
       "bus            218          214                   215           216   \n",
       "car            429          428                   429           426   \n",
       "van            199          199                   198           198   \n",
       "\n",
       "       pr.axis_aspect_ratio  max.length_aspect_ratio  scatter_ratio  \\\n",
       "class                                                                 \n",
       "bus                     217                      218            218   \n",
       "car                     428                      429            428   \n",
       "van                     199                      199            199   \n",
       "\n",
       "       elongatedness  pr.axis_rectangularity  max.length_rectangularity  \\\n",
       "class                                                                     \n",
       "bus              218                     217                        218   \n",
       "car              428                     428                        429   \n",
       "van              199                     198                        199   \n",
       "\n",
       "       scaled_variance  scaled_variance.1  scaled_radius_of_gyration  \\\n",
       "class                                                                  \n",
       "bus                218                218                        216   \n",
       "car                427                427                        429   \n",
       "van                198                199                        199   \n",
       "\n",
       "       scaled_radius_of_gyration.1  skewness_about  skewness_about.1  \\\n",
       "class                                                                  \n",
       "bus                            217             214               218   \n",
       "car                            426             427               428   \n",
       "van                            199             199               199   \n",
       "\n",
       "       skewness_about.2  hollows_ratio  \n",
       "class                                   \n",
       "bus                 218            218  \n",
       "car                 428            429  \n",
       "van                 199            199  "
      ]
     },
     "execution_count": 103,
     "metadata": {},
     "output_type": "execute_result"
    }
   ],
   "source": [
    "df.groupby([\"class\"]).count()"
   ]
  },
  {
   "cell_type": "code",
   "execution_count": 104,
   "metadata": {},
   "outputs": [
    {
     "data": {
      "text/plain": [
       "<matplotlib.axes._subplots.AxesSubplot at 0x2604e256080>"
      ]
     },
     "execution_count": 104,
     "metadata": {},
     "output_type": "execute_result"
    },
    {
     "data": {
      "image/png": "[encoded data removed]",
      "text/plain": [
       "<Figure size 842.4x595.44 with 1 Axes>"
      ]
     },
     "metadata": {},
     "output_type": "display_data"
    }
   ],
   "source": [
    "sns.set(rc={'figure.figsize':(11.7,8.27)})\n",
    "sns.countplot(y='class', data=df)"
   ]
  },
  {
   "cell_type": "markdown",
   "metadata": {},
   "source": [
    "### Check for any missing values in the data "
   ]
  },
  {
   "cell_type": "code",
   "execution_count": 105,
   "metadata": {},
   "outputs": [
    {
     "data": {
      "text/plain": [
       "compactness                    0\n",
       "circularity                    5\n",
       "distance_circularity           4\n",
       "radius_ratio                   6\n",
       "pr.axis_aspect_ratio           2\n",
       "max.length_aspect_ratio        0\n",
       "scatter_ratio                  1\n",
       "elongatedness                  1\n",
       "pr.axis_rectangularity         3\n",
       "max.length_rectangularity      0\n",
       "scaled_variance                3\n",
       "scaled_variance.1              2\n",
       "scaled_radius_of_gyration      2\n",
       "scaled_radius_of_gyration.1    4\n",
       "skewness_about                 6\n",
       "skewness_about.1               1\n",
       "skewness_about.2               1\n",
       "hollows_ratio                  0\n",
       "class                          0\n",
       "dtype: int64"
      ]
     },
     "execution_count": 105,
     "metadata": {},
     "output_type": "execute_result"
    }
   ],
   "source": [
    "df.isnull().sum()"
   ]
  },
  {
   "cell_type": "code",
   "execution_count": 106,
   "metadata": {},
   "outputs": [],
   "source": [
    "df = df.dropna()"
   ]
  },
  {
   "cell_type": "code",
   "execution_count": 107,
   "metadata": {},
   "outputs": [
    {
     "data": {
      "text/plain": [
       "(813, 19)"
      ]
     },
     "execution_count": 107,
     "metadata": {},
     "output_type": "execute_result"
    }
   ],
   "source": [
    "df.shape"
   ]
  },
  {
   "cell_type": "markdown",
   "metadata": {},
   "source": [
    "### 3. Standardize the data "
   ]
  },
  {
   "cell_type": "markdown",
   "metadata": {},
   "source": [
    "Since the dimensions of the data are not really known to us, it would be wise to standardize the data using z scores before we go for any clustering methods.\n",
    "You can use zscore function to do this"
   ]
  },
  {
   "cell_type": "code",
   "execution_count": 108,
   "metadata": {},
   "outputs": [],
   "source": [
    "from scipy.stats import zscore"
   ]
  },
  {
   "cell_type": "code",
   "execution_count": 109,
   "metadata": {},
   "outputs": [],
   "source": [
    "numeric_cols = df.drop('class', axis=1)"
   ]
  },
  {
   "cell_type": "code",
   "execution_count": 110,
   "metadata": {},
   "outputs": [],
   "source": [
    "class_type  = df.pop(\"class\")"
   ]
  },
  {
   "cell_type": "code",
   "execution_count": 111,
   "metadata": {},
   "outputs": [],
   "source": [
    "numeric_cols = numeric_cols.apply(zscore)"
   ]
  },
  {
   "cell_type": "code",
   "execution_count": 112,
   "metadata": {},
   "outputs": [],
   "source": [
    "df = numeric_cols.join(class_type)"
   ]
  },
  {
   "cell_type": "code",
   "execution_count": 113,
   "metadata": {},
   "outputs": [
    {
     "data": {
      "text/html": [
       "<div>\n",
       "<style scoped>\n",
       "    .dataframe tbody tr th:only-of-type {\n",
       "        vertical-align: middle;\n",
       "    }\n",
       "\n",
       "    .dataframe tbody tr th {\n",
       "        vertical-align: top;\n",
       "    }\n",
       "\n",
       "    .dataframe thead th {\n",
       "        text-align: right;\n",
       "    }\n",
       "</style>\n",
       "<table border=\"1\" class=\"dataframe\">\n",
       "  <thead>\n",
       "    <tr style=\"text-align: right;\">\n",
       "      <th></th>\n",
       "      <th>0</th>\n",
       "      <th>1</th>\n",
       "      <th>2</th>\n",
       "      <th>3</th>\n",
       "      <th>4</th>\n",
       "    </tr>\n",
       "  </thead>\n",
       "  <tbody>\n",
       "    <tr>\n",
       "      <th>compactness</th>\n",
       "      <td>0.163231</td>\n",
       "      <td>-0.322874</td>\n",
       "      <td>1.25697</td>\n",
       "      <td>-0.0798216</td>\n",
       "      <td>-1.05203</td>\n",
       "    </tr>\n",
       "    <tr>\n",
       "      <th>circularity</th>\n",
       "      <td>0.520408</td>\n",
       "      <td>-0.619123</td>\n",
       "      <td>0.845988</td>\n",
       "      <td>-0.619123</td>\n",
       "      <td>-0.130753</td>\n",
       "    </tr>\n",
       "    <tr>\n",
       "      <th>distance_circularity</th>\n",
       "      <td>0.0606687</td>\n",
       "      <td>0.124067</td>\n",
       "      <td>1.51882</td>\n",
       "      <td>-0.00272931</td>\n",
       "      <td>-0.763506</td>\n",
       "    </tr>\n",
       "    <tr>\n",
       "      <th>radius_ratio</th>\n",
       "      <td>0.26497</td>\n",
       "      <td>-0.836393</td>\n",
       "      <td>1.18773</td>\n",
       "      <td>-0.300595</td>\n",
       "      <td>1.06867</td>\n",
       "    </tr>\n",
       "    <tr>\n",
       "      <th>pr.axis_aspect_ratio</th>\n",
       "      <td>1.28325</td>\n",
       "      <td>-0.599253</td>\n",
       "      <td>0.530251</td>\n",
       "      <td>0.15375</td>\n",
       "      <td>5.17377</td>\n",
       "    </tr>\n",
       "    <tr>\n",
       "      <th>max.length_aspect_ratio</th>\n",
       "      <td>0.299721</td>\n",
       "      <td>0.0857849</td>\n",
       "      <td>0.299721</td>\n",
       "      <td>0.0857849</td>\n",
       "      <td>9.28503</td>\n",
       "    </tr>\n",
       "    <tr>\n",
       "      <th>scatter_ratio</th>\n",
       "      <td>-0.198517</td>\n",
       "      <td>-0.59172</td>\n",
       "      <td>1.16257</td>\n",
       "      <td>-0.742952</td>\n",
       "      <td>-0.59172</td>\n",
       "    </tr>\n",
       "    <tr>\n",
       "      <th>elongatedness</th>\n",
       "      <td>0.129648</td>\n",
       "      <td>0.514333</td>\n",
       "      <td>-1.15264</td>\n",
       "      <td>0.642562</td>\n",
       "      <td>0.514333</td>\n",
       "    </tr>\n",
       "    <tr>\n",
       "      <th>pr.axis_rectangularity</th>\n",
       "      <td>-0.217151</td>\n",
       "      <td>-0.606014</td>\n",
       "      <td>0.949438</td>\n",
       "      <td>-0.606014</td>\n",
       "      <td>-0.606014</td>\n",
       "    </tr>\n",
       "    <tr>\n",
       "      <th>max.length_rectangularity</th>\n",
       "      <td>0.766312</td>\n",
       "      <td>-0.337462</td>\n",
       "      <td>0.697326</td>\n",
       "      <td>-0.337462</td>\n",
       "      <td>-0.268476</td>\n",
       "    </tr>\n",
       "    <tr>\n",
       "      <th>scaled_variance</th>\n",
       "      <td>-0.397397</td>\n",
       "      <td>-0.590034</td>\n",
       "      <td>1.11159</td>\n",
       "      <td>-0.911095</td>\n",
       "      <td>1.6895</td>\n",
       "    </tr>\n",
       "    <tr>\n",
       "      <th>scaled_variance.1</th>\n",
       "      <td>-0.339014</td>\n",
       "      <td>-0.618754</td>\n",
       "      <td>1.12249</td>\n",
       "      <td>-0.738643</td>\n",
       "      <td>-0.647299</td>\n",
       "    </tr>\n",
       "    <tr>\n",
       "      <th>scaled_radius_of_gyration</th>\n",
       "      <td>0.301676</td>\n",
       "      <td>-0.502972</td>\n",
       "      <td>1.4158</td>\n",
       "      <td>-1.46236</td>\n",
       "      <td>0.425468</td>\n",
       "    </tr>\n",
       "    <tr>\n",
       "      <th>scaled_radius_of_gyration.1</th>\n",
       "      <td>-0.321192</td>\n",
       "      <td>-0.0535046</td>\n",
       "      <td>0.0803392</td>\n",
       "      <td>-1.2581</td>\n",
       "      <td>7.3079</td>\n",
       "    </tr>\n",
       "    <tr>\n",
       "      <th>skewness_about</th>\n",
       "      <td>-0.0715233</td>\n",
       "      <td>0.538425</td>\n",
       "      <td>1.55501</td>\n",
       "      <td>-0.0715233</td>\n",
       "      <td>0.538425</td>\n",
       "    </tr>\n",
       "    <tr>\n",
       "      <th>skewness_about.1</th>\n",
       "      <td>0.371287</td>\n",
       "      <td>0.147109</td>\n",
       "      <td>-0.413338</td>\n",
       "      <td>-0.301249</td>\n",
       "      <td>-0.189159</td>\n",
       "    </tr>\n",
       "    <tr>\n",
       "      <th>skewness_about.2</th>\n",
       "      <td>-0.321809</td>\n",
       "      <td>0.00340009</td>\n",
       "      <td>-0.159204</td>\n",
       "      <td>1.62944</td>\n",
       "      <td>-1.46004</td>\n",
       "    </tr>\n",
       "    <tr>\n",
       "      <th>hollows_ratio</th>\n",
       "      <td>0.171837</td>\n",
       "      <td>0.442318</td>\n",
       "      <td>0.0365965</td>\n",
       "      <td>1.52424</td>\n",
       "      <td>-1.72153</td>\n",
       "    </tr>\n",
       "    <tr>\n",
       "      <th>class</th>\n",
       "      <td>van</td>\n",
       "      <td>van</td>\n",
       "      <td>car</td>\n",
       "      <td>van</td>\n",
       "      <td>bus</td>\n",
       "    </tr>\n",
       "  </tbody>\n",
       "</table>\n",
       "</div>"
      ],
      "text/plain": [
       "                                     0           1          2           3  \\\n",
       "compactness                   0.163231   -0.322874    1.25697  -0.0798216   \n",
       "circularity                   0.520408   -0.619123   0.845988   -0.619123   \n",
       "distance_circularity         0.0606687    0.124067    1.51882 -0.00272931   \n",
       "radius_ratio                   0.26497   -0.836393    1.18773   -0.300595   \n",
       "pr.axis_aspect_ratio           1.28325   -0.599253   0.530251     0.15375   \n",
       "max.length_aspect_ratio       0.299721   0.0857849   0.299721   0.0857849   \n",
       "scatter_ratio                -0.198517    -0.59172    1.16257   -0.742952   \n",
       "elongatedness                 0.129648    0.514333   -1.15264    0.642562   \n",
       "pr.axis_rectangularity       -0.217151   -0.606014   0.949438   -0.606014   \n",
       "max.length_rectangularity     0.766312   -0.337462   0.697326   -0.337462   \n",
       "scaled_variance              -0.397397   -0.590034    1.11159   -0.911095   \n",
       "scaled_variance.1            -0.339014   -0.618754    1.12249   -0.738643   \n",
       "scaled_radius_of_gyration     0.301676   -0.502972     1.4158    -1.46236   \n",
       "scaled_radius_of_gyration.1  -0.321192  -0.0535046  0.0803392     -1.2581   \n",
       "skewness_about              -0.0715233    0.538425    1.55501  -0.0715233   \n",
       "skewness_about.1              0.371287    0.147109  -0.413338   -0.301249   \n",
       "skewness_about.2             -0.321809  0.00340009  -0.159204     1.62944   \n",
       "hollows_ratio                 0.171837    0.442318  0.0365965     1.52424   \n",
       "class                              van         van        car         van   \n",
       "\n",
       "                                    4  \n",
       "compactness                  -1.05203  \n",
       "circularity                 -0.130753  \n",
       "distance_circularity        -0.763506  \n",
       "radius_ratio                  1.06867  \n",
       "pr.axis_aspect_ratio          5.17377  \n",
       "max.length_aspect_ratio       9.28503  \n",
       "scatter_ratio                -0.59172  \n",
       "elongatedness                0.514333  \n",
       "pr.axis_rectangularity      -0.606014  \n",
       "max.length_rectangularity   -0.268476  \n",
       "scaled_variance                1.6895  \n",
       "scaled_variance.1           -0.647299  \n",
       "scaled_radius_of_gyration    0.425468  \n",
       "scaled_radius_of_gyration.1    7.3079  \n",
       "skewness_about               0.538425  \n",
       "skewness_about.1            -0.189159  \n",
       "skewness_about.2             -1.46004  \n",
       "hollows_ratio                -1.72153  \n",
       "class                             bus  "
      ]
     },
     "execution_count": 113,
     "metadata": {},
     "output_type": "execute_result"
    }
   ],
   "source": [
    "df.head().T"
   ]
  },
  {
   "cell_type": "markdown",
   "metadata": {},
   "source": [
    "### K - Means Clustering"
   ]
  },
  {
   "cell_type": "markdown",
   "metadata": {},
   "source": [
    "### 4. Assign a dummy array called distortion"
   ]
  },
  {
   "cell_type": "code",
   "execution_count": 115,
   "metadata": {},
   "outputs": [],
   "source": [
    "Distortions=[]"
   ]
  },
  {
   "cell_type": "markdown",
   "metadata": {},
   "source": [
    "You can later use this array to plot the elbow plot"
   ]
  },
  {
   "cell_type": "markdown",
   "metadata": {},
   "source": [
    "### 5. Calculating distortion - C distance"
   ]
  },
  {
   "cell_type": "code",
   "execution_count": 116,
   "metadata": {},
   "outputs": [],
   "source": [
    "from scipy.spatial.distance import cdist"
   ]
  },
  {
   "cell_type": "markdown",
   "metadata": {},
   "source": [
    "Iterating values of k from 1 to 10 fit K means model\n",
    "Using c distance - Get the measure for Sum of squares error."
   ]
  },
  {
   "cell_type": "code",
   "execution_count": 117,
   "metadata": {},
   "outputs": [],
   "source": [
    "df_attributes = df.drop(\"class\",axis=1)"
   ]
  },
  {
   "cell_type": "code",
   "execution_count": 118,
   "metadata": {},
   "outputs": [],
   "source": [
    "clusters=range(1,10)"
   ]
  },
  {
   "cell_type": "code",
   "execution_count": 119,
   "metadata": {},
   "outputs": [],
   "source": [
    "for k in clusters:\n",
    "    model=KMeans(n_clusters=k)\n",
    "    model.fit(df_attributes)\n",
    "    prediction=model.predict(df_attributes)\n",
    "    distortions = sum(np.min(cdist(df_attributes, model.cluster_centers_, 'euclidean'), axis=1))\n",
    "    Distortions.append( distortions / df_attributes.shape[0])"
   ]
  },
  {
   "cell_type": "code",
   "execution_count": 124,
   "metadata": {},
   "outputs": [
    {
     "data": {
      "text/plain": [
       "[3.939299196727955,\n",
       " 2.966824380205441,\n",
       " 2.642794199692158,\n",
       " 2.548617081764424,\n",
       " 2.4293687789437053,\n",
       " 2.3155652731034917,\n",
       " 2.242937531389373,\n",
       " 2.170160090082195,\n",
       " 2.103240442279793]"
      ]
     },
     "execution_count": 124,
     "metadata": {},
     "output_type": "execute_result"
    }
   ],
   "source": [
    "Distortions"
   ]
  },
  {
   "cell_type": "markdown",
   "metadata": {},
   "source": [
    "### 6. Plotting Elbow/ Scree Plot"
   ]
  },
  {
   "cell_type": "code",
   "execution_count": 120,
   "metadata": {},
   "outputs": [
    {
     "data": {
      "text/plain": [
       "Text(0.5, 1.0, 'Selecting k with the Elbow Method')"
      ]
     },
     "execution_count": 120,
     "metadata": {},
     "output_type": "execute_result"
    },
    {
     "data": {
      "image/png": "[encoded data removed]",
      "text/plain": [
       "<Figure size 842.4x595.44 with 1 Axes>"
      ]
     },
     "metadata": {},
     "output_type": "display_data"
    }
   ],
   "source": [
    "plt.plot(clusters, Distortions, 'bx-')\n",
    "plt.xlabel('k')\n",
    "plt.ylabel('Average distortion')\n",
    "plt.title('Selecting k with the Elbow Method')"
   ]
  },
  {
   "cell_type": "markdown",
   "metadata": {},
   "source": [
    "Use Matplotlib to plot the scree plot - Note: Scree plot plots distortion vs the no of clusters"
   ]
  },
  {
   "cell_type": "code",
   "execution_count": 121,
   "metadata": {},
   "outputs": [],
   "source": [
    "# from above Elbow graph we can select k=3 "
   ]
  },
  {
   "cell_type": "markdown",
   "metadata": {},
   "source": [
    "### Find out the optimal value of K"
   ]
  },
  {
   "cell_type": "code",
   "execution_count": 122,
   "metadata": {},
   "outputs": [],
   "source": [
    "# From Eboe grapf the optimal value of K is 3."
   ]
  },
  {
   "cell_type": "markdown",
   "metadata": {},
   "source": [
    "### Using optimal value of K - Cluster the data. \n",
    "Note: Since the data has more than 2 dimension we cannot visualize the data. As an alternative, we can observe the centroids and note how they are distributed across different dimensions"
   ]
  },
  {
   "cell_type": "code",
   "execution_count": 125,
   "metadata": {},
   "outputs": [
    {
     "data": {
      "text/plain": [
       "array([1, 1, 0, 1, 2, 1, 1, 1, 1, 1, 1, 1, 1, 0, 2, 1, 0, 2, 2, 1, 1, 0,\n",
       "       1, 2, 0, 0, 2, 1, 1, 1, 0, 1, 2, 0, 0, 2, 0, 2, 2, 1, 0, 2, 2, 2,\n",
       "       2, 1, 2, 1, 0, 1, 0, 1, 1, 2, 0, 2, 0, 2, 2, 2, 1, 2, 0, 1, 0, 0,\n",
       "       1, 2, 1, 0, 1, 2, 2, 0, 1, 2, 1, 0, 1, 2, 1, 2, 0, 1, 0, 1, 2, 0,\n",
       "       2, 2, 0, 2, 2, 1, 1, 2, 0, 0, 2, 2, 0, 1, 1, 2, 2, 2, 1, 0, 0, 1,\n",
       "       2, 2, 1, 2, 2, 2, 2, 2, 1, 0, 0, 1, 1, 2, 0, 0, 2, 1, 2, 1, 1, 0,\n",
       "       2, 1, 0, 1, 1, 1, 1, 0, 1, 1, 0, 1, 0, 1, 2, 1, 2, 0, 1, 1, 0, 0,\n",
       "       1, 0, 2, 2, 0, 0, 1, 0, 1, 1, 1, 1, 2, 0, 2, 1, 2, 0, 1, 1, 1, 0,\n",
       "       1, 0, 1, 0, 1, 2, 0, 2, 2, 2, 1, 1, 0, 0, 1, 1, 1, 2, 0, 1, 1, 1,\n",
       "       0, 2, 2, 0, 2, 1, 0, 2, 2, 2, 1, 0, 1, 0, 2, 2, 2, 2, 0, 1, 2, 1,\n",
       "       0, 2, 1, 1, 2, 0, 2, 2, 1, 1, 0, 2, 0, 2, 1, 1, 0, 1, 1, 0, 0, 2,\n",
       "       1, 1, 1, 0, 2, 1, 1, 2, 2, 1, 1, 0, 1, 2, 2, 0, 1, 1, 2, 2, 0, 2,\n",
       "       1, 0, 2, 1, 0, 1, 1, 0, 1, 0, 2, 1, 1, 0, 1, 1, 1, 2, 1, 0, 0, 0,\n",
       "       0, 2, 1, 0, 2, 2, 2, 1, 2, 0, 0, 2, 0, 1, 2, 0, 1, 1, 1, 0, 0, 2,\n",
       "       0, 0, 2, 0, 1, 1, 1, 2, 2, 0, 0, 0, 1, 1, 1, 0, 2, 1, 2, 0, 1, 1,\n",
       "       0, 1, 0, 0, 0, 1, 2, 2, 0, 2, 2, 2, 1, 1, 1, 1, 2, 0, 0, 2, 2, 0,\n",
       "       2, 0, 2, 0, 1, 2, 1, 2, 0, 0, 2, 1, 1, 1, 0, 1, 1, 1, 1, 0, 1, 0,\n",
       "       1, 0, 1, 2, 2, 1, 1, 1, 2, 2, 1, 2, 0, 1, 1, 2, 2, 0, 1, 2, 1, 1,\n",
       "       0, 1, 0, 1, 0, 0, 2, 2, 0, 1, 2, 2, 1, 0, 0, 2, 1, 0, 0, 2, 0, 0,\n",
       "       0, 1, 1, 1, 1, 1, 0, 2, 2, 1, 0, 1, 1, 0, 1, 2, 0, 2, 2, 0, 1, 2,\n",
       "       0, 0, 0, 2, 0, 0, 2, 1, 2, 0, 0, 1, 1, 2, 2, 0, 1, 2, 0, 0, 1, 2,\n",
       "       0, 0, 1, 2, 2, 0, 0, 0, 2, 2, 0, 0, 0, 1, 1, 0, 2, 1, 0, 1, 2, 2,\n",
       "       1, 0, 2, 1, 1, 2, 1, 0, 1, 0, 0, 1, 2, 1, 0, 0, 2, 2, 1, 0, 1, 0,\n",
       "       0, 1, 1, 1, 1, 2, 2, 2, 1, 1, 0, 2, 2, 1, 2, 0, 1, 0, 2, 2, 0, 0,\n",
       "       1, 0, 1, 1, 1, 0, 1, 2, 1, 0, 1, 1, 2, 0, 0, 0, 0, 1, 2, 2, 2, 0,\n",
       "       0, 0, 1, 0, 2, 1, 0, 2, 2, 2, 1, 2, 0, 1, 1, 1, 1, 1, 1, 0, 1, 1,\n",
       "       0, 1, 1, 1, 2, 0, 2, 2, 1, 2, 1, 1, 2, 2, 0, 0, 2, 1, 0, 1, 0, 1,\n",
       "       1, 0, 1, 2, 0, 2, 0, 2, 2, 1, 2, 1, 0, 0, 2, 0, 1, 1, 2, 1, 2, 0,\n",
       "       1, 0, 2, 1, 1, 1, 2, 2, 2, 1, 0, 1, 0, 2, 1, 1, 1, 1, 0, 1, 2, 0,\n",
       "       1, 0, 1, 1, 0, 2, 0, 2, 1, 1, 1, 2, 0, 1, 2, 1, 0, 2, 0, 1, 1, 0,\n",
       "       2, 1, 2, 1, 1, 2, 1, 0, 0, 1, 1, 0, 0, 1, 1, 2, 1, 0, 0, 0, 0, 1,\n",
       "       0, 1, 1, 0, 0, 1, 0, 1, 0, 1, 2, 0, 1, 2, 0, 0, 0, 1, 0, 2, 2, 0,\n",
       "       0, 0, 1, 0, 1, 1, 0, 1, 2, 1, 2, 1, 0, 1, 2, 1, 1, 1, 2, 0, 2, 2,\n",
       "       2, 0, 0, 2, 0, 0, 2, 1, 1, 0, 1, 2, 0, 0, 2, 1, 1, 0, 0, 0, 2, 0,\n",
       "       1, 0, 0, 2, 2, 0, 2, 0, 1, 2, 1, 0, 0, 1, 2, 1, 0, 0, 1, 1, 2, 1,\n",
       "       1, 0, 2, 1, 0, 2, 2, 0, 2, 1, 2, 2, 2, 1, 0, 0, 1, 2, 0, 1, 0, 0,\n",
       "       2, 1, 0, 2, 2, 1, 1, 0, 2, 2, 0, 2, 1, 1, 1, 1, 1, 1, 0, 1, 2])"
      ]
     },
     "execution_count": 125,
     "metadata": {},
     "output_type": "execute_result"
    }
   ],
   "source": [
    "k =3\n",
    "model=KMeans(n_clusters=k)\n",
    "model.fit(df_attributes)\n",
    "prediction=model.predict(df_attributes)\n",
    "prediction"
   ]
  },
  {
   "cell_type": "markdown",
   "metadata": {},
   "source": [
    "You can use kmeans.cluster_centers_ function to pull the centroid information from the instance"
   ]
  },
  {
   "cell_type": "code",
   "execution_count": 126,
   "metadata": {},
   "outputs": [
    {
     "data": {
      "text/plain": [
       "array([[ 1.13076532,  1.17094237,  1.19500584,  1.01909505,  0.21505188,\n",
       "         0.34250798,  1.27180461, -1.19061224,  1.27548416,  1.09266768,\n",
       "         1.22038121,  1.28132727,  1.07954232, -0.02879497,  0.16229031,\n",
       "         0.26566456, -0.00535553,  0.18380067],\n",
       "       [-0.2339617 , -0.57387481, -0.30776905, -0.03041322,  0.2050726 ,\n",
       "        -0.11653151, -0.45904181,  0.32506329, -0.48798836, -0.53604446,\n",
       "        -0.41380935, -0.46366305, -0.60155031, -0.61924057, -0.06177969,\n",
       "         0.01066762,  0.81278556,  0.69897299],\n",
       "       [-0.91987072, -0.52009251, -0.89320752, -1.06435572, -0.50042171,\n",
       "        -0.2190738 , -0.7791213 ,  0.86589322, -0.74535635, -0.484632  ,\n",
       "        -0.78240328, -0.78341064, -0.38498232,  0.83878747, -0.09524349,\n",
       "        -0.30171562, -1.05420601, -1.11069466]])"
      ]
     },
     "execution_count": 126,
     "metadata": {},
     "output_type": "execute_result"
    }
   ],
   "source": [
    "model.cluster_centers_"
   ]
  },
  {
   "cell_type": "markdown",
   "metadata": {},
   "source": [
    "### 7. Store the centroids in a dataframe with column names from the original dataset given "
   ]
  },
  {
   "cell_type": "code",
   "execution_count": 127,
   "metadata": {},
   "outputs": [],
   "source": [
    "centroid_df = pd.DataFrame(model.cluster_centers_)"
   ]
  },
  {
   "cell_type": "markdown",
   "metadata": {},
   "source": [
    "Hint: Use pd.Dataframe function "
   ]
  },
  {
   "cell_type": "code",
   "execution_count": 128,
   "metadata": {},
   "outputs": [
    {
     "data": {
      "text/html": [
       "<div>\n",
       "<style scoped>\n",
       "    .dataframe tbody tr th:only-of-type {\n",
       "        vertical-align: middle;\n",
       "    }\n",
       "\n",
       "    .dataframe tbody tr th {\n",
       "        vertical-align: top;\n",
       "    }\n",
       "\n",
       "    .dataframe thead th {\n",
       "        text-align: right;\n",
       "    }\n",
       "</style>\n",
       "<table border=\"1\" class=\"dataframe\">\n",
       "  <thead>\n",
       "    <tr style=\"text-align: right;\">\n",
       "      <th></th>\n",
       "      <th>0</th>\n",
       "      <th>1</th>\n",
       "      <th>2</th>\n",
       "    </tr>\n",
       "  </thead>\n",
       "  <tbody>\n",
       "    <tr>\n",
       "      <th>0</th>\n",
       "      <td>1.130765</td>\n",
       "      <td>-0.233962</td>\n",
       "      <td>-0.919871</td>\n",
       "    </tr>\n",
       "    <tr>\n",
       "      <th>1</th>\n",
       "      <td>1.170942</td>\n",
       "      <td>-0.573875</td>\n",
       "      <td>-0.520093</td>\n",
       "    </tr>\n",
       "    <tr>\n",
       "      <th>2</th>\n",
       "      <td>1.195006</td>\n",
       "      <td>-0.307769</td>\n",
       "      <td>-0.893208</td>\n",
       "    </tr>\n",
       "    <tr>\n",
       "      <th>3</th>\n",
       "      <td>1.019095</td>\n",
       "      <td>-0.030413</td>\n",
       "      <td>-1.064356</td>\n",
       "    </tr>\n",
       "    <tr>\n",
       "      <th>4</th>\n",
       "      <td>0.215052</td>\n",
       "      <td>0.205073</td>\n",
       "      <td>-0.500422</td>\n",
       "    </tr>\n",
       "    <tr>\n",
       "      <th>5</th>\n",
       "      <td>0.342508</td>\n",
       "      <td>-0.116532</td>\n",
       "      <td>-0.219074</td>\n",
       "    </tr>\n",
       "    <tr>\n",
       "      <th>6</th>\n",
       "      <td>1.271805</td>\n",
       "      <td>-0.459042</td>\n",
       "      <td>-0.779121</td>\n",
       "    </tr>\n",
       "    <tr>\n",
       "      <th>7</th>\n",
       "      <td>-1.190612</td>\n",
       "      <td>0.325063</td>\n",
       "      <td>0.865893</td>\n",
       "    </tr>\n",
       "    <tr>\n",
       "      <th>8</th>\n",
       "      <td>1.275484</td>\n",
       "      <td>-0.487988</td>\n",
       "      <td>-0.745356</td>\n",
       "    </tr>\n",
       "    <tr>\n",
       "      <th>9</th>\n",
       "      <td>1.092668</td>\n",
       "      <td>-0.536044</td>\n",
       "      <td>-0.484632</td>\n",
       "    </tr>\n",
       "    <tr>\n",
       "      <th>10</th>\n",
       "      <td>1.220381</td>\n",
       "      <td>-0.413809</td>\n",
       "      <td>-0.782403</td>\n",
       "    </tr>\n",
       "    <tr>\n",
       "      <th>11</th>\n",
       "      <td>1.281327</td>\n",
       "      <td>-0.463663</td>\n",
       "      <td>-0.783411</td>\n",
       "    </tr>\n",
       "    <tr>\n",
       "      <th>12</th>\n",
       "      <td>1.079542</td>\n",
       "      <td>-0.601550</td>\n",
       "      <td>-0.384982</td>\n",
       "    </tr>\n",
       "    <tr>\n",
       "      <th>13</th>\n",
       "      <td>-0.028795</td>\n",
       "      <td>-0.619241</td>\n",
       "      <td>0.838787</td>\n",
       "    </tr>\n",
       "    <tr>\n",
       "      <th>14</th>\n",
       "      <td>0.162290</td>\n",
       "      <td>-0.061780</td>\n",
       "      <td>-0.095243</td>\n",
       "    </tr>\n",
       "    <tr>\n",
       "      <th>15</th>\n",
       "      <td>0.265665</td>\n",
       "      <td>0.010668</td>\n",
       "      <td>-0.301716</td>\n",
       "    </tr>\n",
       "    <tr>\n",
       "      <th>16</th>\n",
       "      <td>-0.005356</td>\n",
       "      <td>0.812786</td>\n",
       "      <td>-1.054206</td>\n",
       "    </tr>\n",
       "    <tr>\n",
       "      <th>17</th>\n",
       "      <td>0.183801</td>\n",
       "      <td>0.698973</td>\n",
       "      <td>-1.110695</td>\n",
       "    </tr>\n",
       "  </tbody>\n",
       "</table>\n",
       "</div>"
      ],
      "text/plain": [
       "           0         1         2\n",
       "0   1.130765 -0.233962 -0.919871\n",
       "1   1.170942 -0.573875 -0.520093\n",
       "2   1.195006 -0.307769 -0.893208\n",
       "3   1.019095 -0.030413 -1.064356\n",
       "4   0.215052  0.205073 -0.500422\n",
       "5   0.342508 -0.116532 -0.219074\n",
       "6   1.271805 -0.459042 -0.779121\n",
       "7  -1.190612  0.325063  0.865893\n",
       "8   1.275484 -0.487988 -0.745356\n",
       "9   1.092668 -0.536044 -0.484632\n",
       "10  1.220381 -0.413809 -0.782403\n",
       "11  1.281327 -0.463663 -0.783411\n",
       "12  1.079542 -0.601550 -0.384982\n",
       "13 -0.028795 -0.619241  0.838787\n",
       "14  0.162290 -0.061780 -0.095243\n",
       "15  0.265665  0.010668 -0.301716\n",
       "16 -0.005356  0.812786 -1.054206\n",
       "17  0.183801  0.698973 -1.110695"
      ]
     },
     "execution_count": 128,
     "metadata": {},
     "output_type": "execute_result"
    }
   ],
   "source": [
    "centroid_df.T"
   ]
  },
  {
   "cell_type": "markdown",
   "metadata": {},
   "source": [
    "### Use kmeans.labels_ function to print out the labels of the classes"
   ]
  },
  {
   "cell_type": "code",
   "execution_count": 129,
   "metadata": {},
   "outputs": [
    {
     "data": {
      "text/plain": [
       "array([1, 1, 0, 1, 2, 1, 1, 1, 1, 1, 1, 1, 1, 0, 2, 1, 0, 2, 2, 1, 1, 0,\n",
       "       1, 2, 0, 0, 2, 1, 1, 1, 0, 1, 2, 0, 0, 2, 0, 2, 2, 1, 0, 2, 2, 2,\n",
       "       2, 1, 2, 1, 0, 1, 0, 1, 1, 2, 0, 2, 0, 2, 2, 2, 1, 2, 0, 1, 0, 0,\n",
       "       1, 2, 1, 0, 1, 2, 2, 0, 1, 2, 1, 0, 1, 2, 1, 2, 0, 1, 0, 1, 2, 0,\n",
       "       2, 2, 0, 2, 2, 1, 1, 2, 0, 0, 2, 2, 0, 1, 1, 2, 2, 2, 1, 0, 0, 1,\n",
       "       2, 2, 1, 2, 2, 2, 2, 2, 1, 0, 0, 1, 1, 2, 0, 0, 2, 1, 2, 1, 1, 0,\n",
       "       2, 1, 0, 1, 1, 1, 1, 0, 1, 1, 0, 1, 0, 1, 2, 1, 2, 0, 1, 1, 0, 0,\n",
       "       1, 0, 2, 2, 0, 0, 1, 0, 1, 1, 1, 1, 2, 0, 2, 1, 2, 0, 1, 1, 1, 0,\n",
       "       1, 0, 1, 0, 1, 2, 0, 2, 2, 2, 1, 1, 0, 0, 1, 1, 1, 2, 0, 1, 1, 1,\n",
       "       0, 2, 2, 0, 2, 1, 0, 2, 2, 2, 1, 0, 1, 0, 2, 2, 2, 2, 0, 1, 2, 1,\n",
       "       0, 2, 1, 1, 2, 0, 2, 2, 1, 1, 0, 2, 0, 2, 1, 1, 0, 1, 1, 0, 0, 2,\n",
       "       1, 1, 1, 0, 2, 1, 1, 2, 2, 1, 1, 0, 1, 2, 2, 0, 1, 1, 2, 2, 0, 2,\n",
       "       1, 0, 2, 1, 0, 1, 1, 0, 1, 0, 2, 1, 1, 0, 1, 1, 1, 2, 1, 0, 0, 0,\n",
       "       0, 2, 1, 0, 2, 2, 2, 1, 2, 0, 0, 2, 0, 1, 2, 0, 1, 1, 1, 0, 0, 2,\n",
       "       0, 0, 2, 0, 1, 1, 1, 2, 2, 0, 0, 0, 1, 1, 1, 0, 2, 1, 2, 0, 1, 1,\n",
       "       0, 1, 0, 0, 0, 1, 2, 2, 0, 2, 2, 2, 1, 1, 1, 1, 2, 0, 0, 2, 2, 0,\n",
       "       2, 0, 2, 0, 1, 2, 1, 2, 0, 0, 2, 1, 1, 1, 0, 1, 1, 1, 1, 0, 1, 0,\n",
       "       1, 0, 1, 2, 2, 1, 1, 1, 2, 2, 1, 2, 0, 1, 1, 2, 2, 0, 1, 2, 1, 1,\n",
       "       0, 1, 0, 1, 0, 0, 2, 2, 0, 1, 2, 2, 1, 0, 0, 2, 1, 0, 0, 2, 0, 0,\n",
       "       0, 1, 1, 1, 1, 1, 0, 2, 2, 1, 0, 1, 1, 0, 1, 2, 0, 2, 2, 0, 1, 2,\n",
       "       0, 0, 0, 2, 0, 0, 2, 1, 2, 0, 0, 1, 1, 2, 2, 0, 1, 2, 0, 0, 1, 2,\n",
       "       0, 0, 1, 2, 2, 0, 0, 0, 2, 2, 0, 0, 0, 1, 1, 0, 2, 1, 0, 1, 2, 2,\n",
       "       1, 0, 2, 1, 1, 2, 1, 0, 1, 0, 0, 1, 2, 1, 0, 0, 2, 2, 1, 0, 1, 0,\n",
       "       0, 1, 1, 1, 1, 2, 2, 2, 1, 1, 0, 2, 2, 1, 2, 0, 1, 0, 2, 2, 0, 0,\n",
       "       1, 0, 1, 1, 1, 0, 1, 2, 1, 0, 1, 1, 2, 0, 0, 0, 0, 1, 2, 2, 2, 0,\n",
       "       0, 0, 1, 0, 2, 1, 0, 2, 2, 2, 1, 2, 0, 1, 1, 1, 1, 1, 1, 0, 1, 1,\n",
       "       0, 1, 1, 1, 2, 0, 2, 2, 1, 2, 1, 1, 2, 2, 0, 0, 2, 1, 0, 1, 0, 1,\n",
       "       1, 0, 1, 2, 0, 2, 0, 2, 2, 1, 2, 1, 0, 0, 2, 0, 1, 1, 2, 1, 2, 0,\n",
       "       1, 0, 2, 1, 1, 1, 2, 2, 2, 1, 0, 1, 0, 2, 1, 1, 1, 1, 0, 1, 2, 0,\n",
       "       1, 0, 1, 1, 0, 2, 0, 2, 1, 1, 1, 2, 0, 1, 2, 1, 0, 2, 0, 1, 1, 0,\n",
       "       2, 1, 2, 1, 1, 2, 1, 0, 0, 1, 1, 0, 0, 1, 1, 2, 1, 0, 0, 0, 0, 1,\n",
       "       0, 1, 1, 0, 0, 1, 0, 1, 0, 1, 2, 0, 1, 2, 0, 0, 0, 1, 0, 2, 2, 0,\n",
       "       0, 0, 1, 0, 1, 1, 0, 1, 2, 1, 2, 1, 0, 1, 2, 1, 1, 1, 2, 0, 2, 2,\n",
       "       2, 0, 0, 2, 0, 0, 2, 1, 1, 0, 1, 2, 0, 0, 2, 1, 1, 0, 0, 0, 2, 0,\n",
       "       1, 0, 0, 2, 2, 0, 2, 0, 1, 2, 1, 0, 0, 1, 2, 1, 0, 0, 1, 1, 2, 1,\n",
       "       1, 0, 2, 1, 0, 2, 2, 0, 2, 1, 2, 2, 2, 1, 0, 0, 1, 2, 0, 1, 0, 0,\n",
       "       2, 1, 0, 2, 2, 1, 1, 0, 2, 2, 0, 2, 1, 1, 1, 1, 1, 1, 0, 1, 2])"
      ]
     },
     "execution_count": 129,
     "metadata": {},
     "output_type": "execute_result"
    }
   ],
   "source": [
    "model.labels_"
   ]
  },
  {
   "cell_type": "markdown",
   "metadata": {},
   "source": [
    "## Hierarchical Clustering "
   ]
  },
  {
   "cell_type": "markdown",
   "metadata": {},
   "source": [
    "### 8. Variable creation"
   ]
  },
  {
   "cell_type": "markdown",
   "metadata": {},
   "source": [
    "For Hierarchical clustering, we will create datasets using multivariate normal distribution to visually observe how the clusters are formed at the end"
   ]
  },
  {
   "cell_type": "raw",
   "metadata": {},
   "source": [
    "a = np.random.multivariate_normal([10, 0], [[3, 1], [1, 4]], size=[100,])\n",
    "b = np.random.multivariate_normal([0, 20], [[3, 1], [1, 4]], size=[50,])\n",
    "c = np.random.multivariate_normal([10, 20], [[3, 1], [1, 4]], size=[100,])"
   ]
  },
  {
   "cell_type": "code",
   "execution_count": 130,
   "metadata": {},
   "outputs": [],
   "source": [
    "a = np.random.multivariate_normal([10, 0], [[3, 1], [1, 4]], size=[100,])\n",
    "b = np.random.multivariate_normal([0, 20], [[3, 1], [1, 4]], size=[50,])\n",
    "c = np.random.multivariate_normal([10, 20], [[3, 1], [1, 4]], size=[100,])"
   ]
  },
  {
   "cell_type": "markdown",
   "metadata": {},
   "source": [
    "### 9. Combine all three arrays a,b,c into a dataframe"
   ]
  },
  {
   "cell_type": "code",
   "execution_count": 131,
   "metadata": {},
   "outputs": [],
   "source": [
    "df_a = pd.DataFrame(a)\n",
    "df_b = pd.DataFrame(b)\n",
    "df_c = pd.DataFrame(c)"
   ]
  },
  {
   "cell_type": "code",
   "execution_count": 132,
   "metadata": {},
   "outputs": [
    {
     "data": {
      "text/html": [
       "<div>\n",
       "<style scoped>\n",
       "    .dataframe tbody tr th:only-of-type {\n",
       "        vertical-align: middle;\n",
       "    }\n",
       "\n",
       "    .dataframe tbody tr th {\n",
       "        vertical-align: top;\n",
       "    }\n",
       "\n",
       "    .dataframe thead th {\n",
       "        text-align: right;\n",
       "    }\n",
       "</style>\n",
       "<table border=\"1\" class=\"dataframe\">\n",
       "  <thead>\n",
       "    <tr style=\"text-align: right;\">\n",
       "      <th></th>\n",
       "      <th>0</th>\n",
       "      <th>1</th>\n",
       "    </tr>\n",
       "  </thead>\n",
       "  <tbody>\n",
       "    <tr>\n",
       "      <th>0</th>\n",
       "      <td>14.290687</td>\n",
       "      <td>2.570667</td>\n",
       "    </tr>\n",
       "    <tr>\n",
       "      <th>1</th>\n",
       "      <td>9.648383</td>\n",
       "      <td>-2.720516</td>\n",
       "    </tr>\n",
       "    <tr>\n",
       "      <th>2</th>\n",
       "      <td>10.595666</td>\n",
       "      <td>-2.313989</td>\n",
       "    </tr>\n",
       "    <tr>\n",
       "      <th>3</th>\n",
       "      <td>8.703658</td>\n",
       "      <td>1.598996</td>\n",
       "    </tr>\n",
       "    <tr>\n",
       "      <th>4</th>\n",
       "      <td>10.687785</td>\n",
       "      <td>-0.383193</td>\n",
       "    </tr>\n",
       "  </tbody>\n",
       "</table>\n",
       "</div>"
      ],
      "text/plain": [
       "           0         1\n",
       "0  14.290687  2.570667\n",
       "1   9.648383 -2.720516\n",
       "2  10.595666 -2.313989\n",
       "3   8.703658  1.598996\n",
       "4  10.687785 -0.383193"
      ]
     },
     "execution_count": 132,
     "metadata": {},
     "output_type": "execute_result"
    }
   ],
   "source": [
    "new_df = pd.concat([df_a, df_b, df_c])\n",
    "new_df.head(5) "
   ]
  },
  {
   "cell_type": "code",
   "execution_count": 133,
   "metadata": {},
   "outputs": [
    {
     "data": {
      "text/plain": [
       "(250, 2)"
      ]
     },
     "execution_count": 133,
     "metadata": {},
     "output_type": "execute_result"
    }
   ],
   "source": [
    "new_df.shape"
   ]
  },
  {
   "cell_type": "markdown",
   "metadata": {},
   "source": [
    "### 10. Use scatter matrix to print all the 3 distributions"
   ]
  },
  {
   "cell_type": "code",
   "execution_count": 134,
   "metadata": {},
   "outputs": [
    {
     "data": {
      "image/png": "[encoded data removed]",
      "text/plain": [
       "<Figure size 842.4x595.44 with 1 Axes>"
      ]
     },
     "metadata": {},
     "output_type": "display_data"
    }
   ],
   "source": [
    "sns.scatterplot(x=new_df[0], y=new_df[1], data=new_df);"
   ]
  },
  {
   "cell_type": "markdown",
   "metadata": {},
   "source": [
    "### 11. Find out the linkage matrix"
   ]
  },
  {
   "cell_type": "code",
   "execution_count": 135,
   "metadata": {},
   "outputs": [],
   "source": [
    "from scipy.cluster.hierarchy import cophenet, linkage\n",
    "from scipy.spatial.distance import pdist"
   ]
  },
  {
   "cell_type": "markdown",
   "metadata": {},
   "source": [
    "Use ward as linkage metric and distance as Eucledian"
   ]
  },
  {
   "cell_type": "code",
   "execution_count": 136,
   "metadata": {},
   "outputs": [
    {
     "data": {
      "text/plain": [
       "array([[3.20000000e+01, 8.10000000e+01, 3.98684000e-02, 2.00000000e+00],\n",
       "       [1.65000000e+02, 2.00000000e+02, 4.48234379e-02, 2.00000000e+00],\n",
       "       [1.52000000e+02, 2.36000000e+02, 5.34573295e-02, 2.00000000e+00],\n",
       "       [2.50000000e+01, 5.80000000e+01, 7.70767459e-02, 2.00000000e+00],\n",
       "       [8.50000000e+01, 8.80000000e+01, 8.94226792e-02, 2.00000000e+00],\n",
       "       [1.64000000e+02, 2.21000000e+02, 9.49718421e-02, 2.00000000e+00],\n",
       "       [1.60000000e+01, 5.10000000e+01, 1.01001907e-01, 2.00000000e+00],\n",
       "       [4.50000000e+01, 7.70000000e+01, 1.03174025e-01, 2.00000000e+00],\n",
       "       [1.06000000e+02, 1.21000000e+02, 1.07563903e-01, 2.00000000e+00],\n",
       "       [2.13000000e+02, 2.23000000e+02, 1.07638544e-01, 2.00000000e+00],\n",
       "       [4.20000000e+01, 8.60000000e+01, 1.15685185e-01, 2.00000000e+00],\n",
       "       [1.77000000e+02, 2.31000000e+02, 1.15978439e-01, 2.00000000e+00],\n",
       "       [2.40000000e+02, 2.42000000e+02, 1.21868462e-01, 2.00000000e+00],\n",
       "       [2.17000000e+02, 2.52000000e+02, 1.22192077e-01, 3.00000000e+00],\n",
       "       [2.11000000e+02, 2.20000000e+02, 1.26716652e-01, 2.00000000e+00],\n",
       "       [2.20000000e+01, 4.30000000e+01, 1.27115608e-01, 2.00000000e+00],\n",
       "       [2.00000000e+01, 5.20000000e+01, 1.30446007e-01, 2.00000000e+00],\n",
       "       [1.55000000e+02, 2.39000000e+02, 1.35343782e-01, 2.00000000e+00],\n",
       "       [1.31000000e+02, 1.36000000e+02, 1.36697579e-01, 2.00000000e+00],\n",
       "       [5.90000000e+01, 7.80000000e+01, 1.39447288e-01, 2.00000000e+00],\n",
       "       [1.23000000e+02, 1.37000000e+02, 1.40933031e-01, 2.00000000e+00],\n",
       "       [2.08000000e+02, 2.61000000e+02, 1.47323024e-01, 3.00000000e+00],\n",
       "       [1.40000000e+01, 6.50000000e+01, 1.52672863e-01, 2.00000000e+00],\n",
       "       [1.81000000e+02, 2.22000000e+02, 1.53313579e-01, 2.00000000e+00],\n",
       "       [1.93000000e+02, 1.95000000e+02, 1.62787481e-01, 2.00000000e+00],\n",
       "       [1.33000000e+02, 1.43000000e+02, 1.71467581e-01, 2.00000000e+00],\n",
       "       [1.62000000e+02, 1.74000000e+02, 1.79755547e-01, 2.00000000e+00],\n",
       "       [1.66000000e+02, 1.75000000e+02, 1.80255974e-01, 2.00000000e+00],\n",
       "       [2.18000000e+02, 2.26000000e+02, 2.11608479e-01, 2.00000000e+00],\n",
       "       [4.00000000e+00, 7.00000000e+01, 2.13426334e-01, 2.00000000e+00],\n",
       "       [1.24000000e+02, 1.28000000e+02, 2.13791429e-01, 2.00000000e+00],\n",
       "       [2.40000000e+01, 9.60000000e+01, 2.21649653e-01, 2.00000000e+00],\n",
       "       [2.19000000e+02, 2.33000000e+02, 2.24678930e-01, 2.00000000e+00],\n",
       "       [1.25000000e+02, 1.47000000e+02, 2.29774621e-01, 2.00000000e+00],\n",
       "       [1.11000000e+02, 1.41000000e+02, 2.45133574e-01, 2.00000000e+00],\n",
       "       [1.08000000e+02, 1.39000000e+02, 2.47411978e-01, 2.00000000e+00],\n",
       "       [1.90000000e+02, 1.94000000e+02, 2.47523153e-01, 2.00000000e+00],\n",
       "       [1.10000000e+02, 2.83000000e+02, 2.49898403e-01, 3.00000000e+00],\n",
       "       [3.90000000e+01, 8.90000000e+01, 2.56075973e-01, 2.00000000e+00],\n",
       "       [1.17000000e+02, 1.29000000e+02, 2.62184880e-01, 2.00000000e+00],\n",
       "       [9.10000000e+01, 2.79000000e+02, 2.64118439e-01, 3.00000000e+00],\n",
       "       [2.60000000e+01, 2.72000000e+02, 2.72466897e-01, 3.00000000e+00],\n",
       "       [1.63000000e+02, 2.07000000e+02, 2.74302896e-01, 2.00000000e+00],\n",
       "       [2.05000000e+02, 2.12000000e+02, 2.76127521e-01, 2.00000000e+00],\n",
       "       [1.10000000e+01, 4.40000000e+01, 2.79536808e-01, 2.00000000e+00],\n",
       "       [1.91000000e+02, 2.16000000e+02, 2.82014815e-01, 2.00000000e+00],\n",
       "       [3.30000000e+01, 5.70000000e+01, 2.82051832e-01, 2.00000000e+00],\n",
       "       [8.70000000e+01, 9.40000000e+01, 2.85582807e-01, 2.00000000e+00],\n",
       "       [1.53000000e+02, 2.02000000e+02, 2.89724119e-01, 2.00000000e+00],\n",
       "       [3.60000000e+01, 6.20000000e+01, 2.92713083e-01, 2.00000000e+00],\n",
       "       [3.40000000e+01, 2.57000000e+02, 2.98066336e-01, 3.00000000e+00],\n",
       "       [1.50000000e+02, 2.34000000e+02, 3.01681245e-01, 2.00000000e+00],\n",
       "       [4.80000000e+01, 5.40000000e+01, 3.05798571e-01, 2.00000000e+00],\n",
       "       [8.30000000e+01, 2.50000000e+02, 3.05848071e-01, 3.00000000e+00],\n",
       "       [1.61000000e+02, 2.64000000e+02, 3.07097318e-01, 3.00000000e+00],\n",
       "       [1.80000000e+02, 2.28000000e+02, 3.11060777e-01, 2.00000000e+00],\n",
       "       [3.00000000e+01, 2.53000000e+02, 3.11993520e-01, 3.00000000e+00],\n",
       "       [6.00000000e+01, 2.66000000e+02, 3.31218634e-01, 3.00000000e+00],\n",
       "       [1.88000000e+02, 2.15000000e+02, 3.32581349e-01, 2.00000000e+00],\n",
       "       [1.89000000e+02, 2.48000000e+02, 3.42722143e-01, 2.00000000e+00],\n",
       "       [1.51000000e+02, 1.68000000e+02, 3.48356927e-01, 2.00000000e+00],\n",
       "       [1.03000000e+02, 1.38000000e+02, 3.51008211e-01, 2.00000000e+00],\n",
       "       [1.07000000e+02, 1.20000000e+02, 3.60211183e-01, 2.00000000e+00],\n",
       "       [1.16000000e+02, 1.44000000e+02, 3.61209339e-01, 2.00000000e+00],\n",
       "       [1.70000000e+02, 2.32000000e+02, 3.72053819e-01, 2.00000000e+00],\n",
       "       [2.25000000e+02, 2.43000000e+02, 3.79097276e-01, 2.00000000e+00],\n",
       "       [1.32000000e+02, 2.68000000e+02, 3.83122046e-01, 3.00000000e+00],\n",
       "       [1.67000000e+02, 1.76000000e+02, 3.83261678e-01, 2.00000000e+00],\n",
       "       [6.30000000e+01, 3.03000000e+02, 3.84338861e-01, 4.00000000e+00],\n",
       "       [9.00000000e+01, 9.90000000e+01, 3.84844523e-01, 2.00000000e+00],\n",
       "       [3.00000000e+00, 5.30000000e+01, 3.97959889e-01, 2.00000000e+00],\n",
       "       [1.59000000e+02, 2.30000000e+02, 4.02386412e-01, 2.00000000e+00],\n",
       "       [7.10000000e+01, 9.30000000e+01, 4.16677369e-01, 2.00000000e+00],\n",
       "       [1.90000000e+01, 4.60000000e+01, 4.19084862e-01, 2.00000000e+00],\n",
       "       [2.47000000e+02, 2.62000000e+02, 4.22688814e-01, 3.00000000e+00],\n",
       "       [3.70000000e+01, 5.00000000e+01, 4.23729905e-01, 2.00000000e+00],\n",
       "       [2.51000000e+02, 2.98000000e+02, 4.23935245e-01, 4.00000000e+00],\n",
       "       [7.50000000e+01, 2.97000000e+02, 4.37981935e-01, 3.00000000e+00],\n",
       "       [2.04000000e+02, 2.06000000e+02, 4.41910178e-01, 2.00000000e+00],\n",
       "       [1.60000000e+02, 2.86000000e+02, 4.47792552e-01, 3.00000000e+00],\n",
       "       [7.00000000e+00, 2.94000000e+02, 4.48937207e-01, 3.00000000e+00],\n",
       "       [1.19000000e+02, 2.70000000e+02, 4.52277588e-01, 3.00000000e+00],\n",
       "       [2.00000000e+00, 2.90000000e+01, 4.57134393e-01, 2.00000000e+00],\n",
       "       [2.10000000e+02, 2.55000000e+02, 4.66873130e-01, 3.00000000e+00],\n",
       "       [2.80000000e+01, 7.60000000e+01, 4.66887539e-01, 2.00000000e+00],\n",
       "       [7.20000000e+01, 7.40000000e+01, 4.71767407e-01, 2.00000000e+00],\n",
       "       [8.00000000e+00, 1.50000000e+01, 4.75444096e-01, 2.00000000e+00],\n",
       "       [2.38000000e+02, 3.05000000e+02, 4.78598849e-01, 3.00000000e+00],\n",
       "       [1.01000000e+02, 1.42000000e+02, 4.87224680e-01, 2.00000000e+00],\n",
       "       [6.40000000e+01, 3.25000000e+02, 4.88831054e-01, 3.00000000e+00],\n",
       "       [2.03000000e+02, 2.45000000e+02, 4.91699823e-01, 2.00000000e+00],\n",
       "       [1.45000000e+02, 2.84000000e+02, 4.92045422e-01, 3.00000000e+00],\n",
       "       [1.71000000e+02, 2.01000000e+02, 4.93919670e-01, 2.00000000e+00],\n",
       "       [1.56000000e+02, 1.92000000e+02, 4.99647578e-01, 2.00000000e+00],\n",
       "       [1.30000000e+01, 4.70000000e+01, 5.25825771e-01, 2.00000000e+00],\n",
       "       [2.30000000e+01, 6.90000000e+01, 5.31871455e-01, 2.00000000e+00],\n",
       "       [2.46000000e+02, 2.63000000e+02, 5.54782838e-01, 4.00000000e+00],\n",
       "       [2.49000000e+02, 2.73000000e+02, 5.56347369e-01, 3.00000000e+00],\n",
       "       [1.57000000e+02, 1.82000000e+02, 5.57069549e-01, 2.00000000e+00],\n",
       "       [9.00000000e+00, 3.07000000e+02, 5.59471814e-01, 4.00000000e+00],\n",
       "       [2.78000000e+02, 3.15000000e+02, 5.68496830e-01, 4.00000000e+00],\n",
       "       [2.82000000e+02, 3.01000000e+02, 5.70487585e-01, 4.00000000e+00],\n",
       "       [1.00000000e+00, 3.50000000e+01, 5.72898326e-01, 2.00000000e+00],\n",
       "       [1.58000000e+02, 3.50000000e+02, 5.84121969e-01, 5.00000000e+00],\n",
       "       [2.67000000e+02, 3.09000000e+02, 5.84835094e-01, 4.00000000e+00],\n",
       "       [2.37000000e+02, 2.76000000e+02, 5.86556247e-01, 3.00000000e+00],\n",
       "       [1.40000000e+02, 2.80000000e+02, 5.91142714e-01, 3.00000000e+00],\n",
       "       [2.10000000e+01, 5.60000000e+01, 6.01630772e-01, 2.00000000e+00],\n",
       "       [1.00000000e+01, 8.20000000e+01, 6.02514162e-01, 2.00000000e+00],\n",
       "       [1.80000000e+01, 2.65000000e+02, 6.12822346e-01, 3.00000000e+00],\n",
       "       [1.54000000e+02, 1.86000000e+02, 6.14369760e-01, 2.00000000e+00],\n",
       "       [1.85000000e+02, 2.27000000e+02, 6.18317471e-01, 2.00000000e+00],\n",
       "       [1.69000000e+02, 2.59000000e+02, 6.28665258e-01, 3.00000000e+00],\n",
       "       [2.71000000e+02, 2.92000000e+02, 6.38699390e-01, 5.00000000e+00],\n",
       "       [2.75000000e+02, 3.38000000e+02, 6.49768645e-01, 4.00000000e+00],\n",
       "       [6.60000000e+01, 8.00000000e+01, 6.51284662e-01, 2.00000000e+00],\n",
       "       [8.40000000e+01, 3.65000000e+02, 6.71618633e-01, 3.00000000e+00],\n",
       "       [1.22000000e+02, 1.48000000e+02, 7.08344260e-01, 2.00000000e+00],\n",
       "       [5.00000000e+00, 3.10000000e+01, 7.24637116e-01, 2.00000000e+00],\n",
       "       [2.54000000e+02, 3.00000000e+02, 7.33196887e-01, 5.00000000e+00],\n",
       "       [6.80000000e+01, 3.34000000e+02, 7.39175317e-01, 3.00000000e+00],\n",
       "       [2.95000000e+02, 3.21000000e+02, 7.39933511e-01, 4.00000000e+00],\n",
       "       [7.90000000e+01, 3.57000000e+02, 7.41182640e-01, 3.00000000e+00],\n",
       "       [2.56000000e+02, 3.19000000e+02, 7.57020083e-01, 4.00000000e+00],\n",
       "       [1.04000000e+02, 1.14000000e+02, 7.74546491e-01, 2.00000000e+00],\n",
       "       [2.96000000e+02, 3.30000000e+02, 8.01321763e-01, 5.00000000e+00],\n",
       "       [1.96000000e+02, 2.44000000e+02, 8.02299468e-01, 2.00000000e+00],\n",
       "       [5.50000000e+01, 2.99000000e+02, 8.26841186e-01, 3.00000000e+00],\n",
       "       [3.24000000e+02, 3.62000000e+02, 8.27045937e-01, 6.00000000e+00],\n",
       "       [1.84000000e+02, 1.98000000e+02, 8.33078851e-01, 2.00000000e+00],\n",
       "       [2.93000000e+02, 3.47000000e+02, 8.65518314e-01, 5.00000000e+00],\n",
       "       [1.30000000e+02, 1.34000000e+02, 8.70481686e-01, 2.00000000e+00],\n",
       "       [3.08000000e+02, 3.37000000e+02, 9.24723897e-01, 5.00000000e+00],\n",
       "       [3.13000000e+02, 3.64000000e+02, 9.26190762e-01, 6.00000000e+00],\n",
       "       [9.70000000e+01, 3.45000000e+02, 9.26199175e-01, 3.00000000e+00],\n",
       "       [9.80000000e+01, 3.59000000e+02, 9.31517481e-01, 4.00000000e+00],\n",
       "       [2.24000000e+02, 3.51000000e+02, 9.41007914e-01, 5.00000000e+00],\n",
       "       [3.56000000e+02, 3.67000000e+02, 9.55454087e-01, 5.00000000e+00],\n",
       "       [2.41000000e+02, 3.33000000e+02, 9.57509851e-01, 4.00000000e+00],\n",
       "       [1.26000000e+02, 2.87000000e+02, 9.67726583e-01, 4.00000000e+00],\n",
       "       [1.05000000e+02, 1.35000000e+02, 9.79471235e-01, 2.00000000e+00],\n",
       "       [2.90000000e+02, 3.44000000e+02, 9.94092509e-01, 5.00000000e+00],\n",
       "       [6.00000000e+00, 3.35000000e+02, 9.99152906e-01, 3.00000000e+00],\n",
       "       [1.20000000e+01, 3.80000000e+01, 1.00081928e+00, 2.00000000e+00],\n",
       "       [3.06000000e+02, 3.85000000e+02, 1.01691672e+00, 7.00000000e+00],\n",
       "       [1.18000000e+02, 2.89000000e+02, 1.02154188e+00, 3.00000000e+00],\n",
       "       [2.60000000e+02, 3.49000000e+02, 1.04832997e+00, 6.00000000e+00],\n",
       "       [3.10000000e+02, 3.43000000e+02, 1.05608038e+00, 4.00000000e+00],\n",
       "       [3.14000000e+02, 3.54000000e+02, 1.12506640e+00, 6.00000000e+00],\n",
       "       [4.90000000e+01, 3.20000000e+02, 1.13258803e+00, 3.00000000e+00],\n",
       "       [1.12000000e+02, 1.13000000e+02, 1.15489335e+00, 2.00000000e+00],\n",
       "       [1.97000000e+02, 2.14000000e+02, 1.15612978e+00, 2.00000000e+00],\n",
       "       [6.70000000e+01, 7.30000000e+01, 1.17165026e+00, 2.00000000e+00],\n",
       "       [9.20000000e+01, 3.72000000e+02, 1.19399223e+00, 4.00000000e+00],\n",
       "       [3.27000000e+02, 3.66000000e+02, 1.19444071e+00, 6.00000000e+00],\n",
       "       [3.02000000e+02, 3.52000000e+02, 1.19608797e+00, 4.00000000e+00],\n",
       "       [2.81000000e+02, 3.70000000e+02, 1.21772981e+00, 5.00000000e+00],\n",
       "       [1.49000000e+02, 3.12000000e+02, 1.21829378e+00, 3.00000000e+00],\n",
       "       [1.00000000e+02, 3.89000000e+02, 1.24209964e+00, 5.00000000e+00],\n",
       "       [3.23000000e+02, 3.94000000e+02, 1.24891095e+00, 9.00000000e+00],\n",
       "       [1.73000000e+02, 1.87000000e+02, 1.25242500e+00, 2.00000000e+00],\n",
       "       [1.72000000e+02, 3.79000000e+02, 1.25748902e+00, 3.00000000e+00],\n",
       "       [3.04000000e+02, 3.53000000e+02, 1.26668422e+00, 8.00000000e+00],\n",
       "       [3.18000000e+02, 3.22000000e+02, 1.27451466e+00, 6.00000000e+00],\n",
       "       [3.26000000e+02, 3.42000000e+02, 1.30570769e+00, 6.00000000e+00],\n",
       "       [1.79000000e+02, 3.61000000e+02, 1.31390186e+00, 3.00000000e+00],\n",
       "       [1.70000000e+01, 3.93000000e+02, 1.32924990e+00, 3.00000000e+00],\n",
       "       [1.78000000e+02, 1.99000000e+02, 1.37706954e+00, 2.00000000e+00],\n",
       "       [3.46000000e+02, 3.48000000e+02, 1.38835395e+00, 6.00000000e+00],\n",
       "       [3.29000000e+02, 3.78000000e+02, 1.39603846e+00, 9.00000000e+00],\n",
       "       [2.74000000e+02, 3.55000000e+02, 1.44568661e+00, 5.00000000e+00],\n",
       "       [2.88000000e+02, 3.58000000e+02, 1.45740218e+00, 4.00000000e+00],\n",
       "       [2.91000000e+02, 3.39000000e+02, 1.48460373e+00, 6.00000000e+00],\n",
       "       [2.85000000e+02, 3.74000000e+02, 1.50333598e+00, 4.00000000e+00],\n",
       "       [2.77000000e+02, 3.60000000e+02, 1.56290281e+00, 4.00000000e+00],\n",
       "       [2.69000000e+02, 3.32000000e+02, 1.62274854e+00, 4.00000000e+00],\n",
       "       [3.69000000e+02, 3.91000000e+02, 1.66116723e+00, 1.00000000e+01],\n",
       "       [3.88000000e+02, 4.14000000e+02, 1.66747807e+00, 1.00000000e+01],\n",
       "       [3.31000000e+02, 4.07000000e+02, 1.71959741e+00, 6.00000000e+00],\n",
       "       [1.83000000e+02, 3.40000000e+02, 1.75521290e+00, 3.00000000e+00],\n",
       "       [2.29000000e+02, 4.11000000e+02, 1.77180397e+00, 4.00000000e+00],\n",
       "       [1.09000000e+02, 4.00000000e+02, 1.77987076e+00, 3.00000000e+00],\n",
       "       [1.46000000e+02, 2.58000000e+02, 1.83263376e+00, 3.00000000e+00],\n",
       "       [3.63000000e+02, 3.82000000e+02, 1.83779282e+00, 1.00000000e+01],\n",
       "       [0.00000000e+00, 4.00000000e+01, 1.91832384e+00, 2.00000000e+00],\n",
       "       [2.70000000e+01, 3.36000000e+02, 1.98049043e+00, 3.00000000e+00],\n",
       "       [3.75000000e+02, 4.13000000e+02, 2.02704411e+00, 1.10000000e+01],\n",
       "       [3.16000000e+02, 3.81000000e+02, 2.04433565e+00, 5.00000000e+00],\n",
       "       [3.80000000e+02, 3.97000000e+02, 2.04580686e+00, 9.00000000e+00],\n",
       "       [3.17000000e+02, 4.20000000e+02, 2.12288778e+00, 7.00000000e+00],\n",
       "       [9.50000000e+01, 3.84000000e+02, 2.16217039e+00, 4.00000000e+00],\n",
       "       [2.09000000e+02, 4.10000000e+02, 2.21083341e+00, 3.00000000e+00],\n",
       "       [2.35000000e+02, 4.17000000e+02, 2.24131958e+00, 3.00000000e+00],\n",
       "       [3.68000000e+02, 4.02000000e+02, 2.29123573e+00, 4.00000000e+00],\n",
       "       [1.02000000e+02, 1.15000000e+02, 2.31210754e+00, 2.00000000e+00],\n",
       "       [3.90000000e+02, 4.08000000e+02, 2.40426627e+00, 7.00000000e+00],\n",
       "       [3.41000000e+02, 4.23000000e+02, 2.41804215e+00, 7.00000000e+00],\n",
       "       [3.99000000e+02, 4.22000000e+02, 2.45239793e+00, 9.00000000e+00],\n",
       "       [3.73000000e+02, 4.16000000e+02, 2.47606973e+00, 7.00000000e+00],\n",
       "       [3.11000000e+02, 4.28000000e+02, 2.55925876e+00, 8.00000000e+00],\n",
       "       [3.71000000e+02, 3.98000000e+02, 2.60570710e+00, 1.00000000e+01],\n",
       "       [3.92000000e+02, 4.40000000e+02, 2.66134930e+00, 7.00000000e+00],\n",
       "       [1.27000000e+02, 3.87000000e+02, 2.66869991e+00, 6.00000000e+00],\n",
       "       [3.83000000e+02, 4.32000000e+02, 2.87587991e+00, 9.00000000e+00],\n",
       "       [3.76000000e+02, 4.29000000e+02, 2.91678276e+00, 5.00000000e+00],\n",
       "       [4.12000000e+02, 4.38000000e+02, 2.94777144e+00, 1.70000000e+01],\n",
       "       [4.26000000e+02, 4.36000000e+02, 2.96125570e+00, 2.10000000e+01],\n",
       "       [3.28000000e+02, 4.24000000e+02, 2.99243118e+00, 6.00000000e+00],\n",
       "       [4.10000000e+01, 4.35000000e+02, 3.05838172e+00, 4.00000000e+00],\n",
       "       [3.96000000e+02, 4.47000000e+02, 3.14249945e+00, 1.50000000e+01],\n",
       "       [3.95000000e+02, 4.52000000e+02, 3.15788490e+00, 9.00000000e+00],\n",
       "       [4.03000000e+02, 4.04000000e+02, 3.16642617e+00, 1.00000000e+01],\n",
       "       [4.15000000e+02, 4.41000000e+02, 3.22638780e+00, 6.00000000e+00],\n",
       "       [4.05000000e+02, 4.25000000e+02, 3.25393730e+00, 8.00000000e+00],\n",
       "       [4.21000000e+02, 4.48000000e+02, 3.58487266e+00, 1.10000000e+01],\n",
       "       [4.33000000e+02, 4.50000000e+02, 3.74633563e+00, 2.00000000e+01],\n",
       "       [4.37000000e+02, 4.49000000e+02, 3.96267496e+00, 1.30000000e+01],\n",
       "       [4.01000000e+02, 4.30000000e+02, 4.06137922e+00, 6.00000000e+00],\n",
       "       [4.44000000e+02, 4.45000000e+02, 4.11111382e+00, 9.00000000e+00],\n",
       "       [3.77000000e+02, 4.43000000e+02, 4.13286482e+00, 7.00000000e+00],\n",
       "       [3.86000000e+02, 4.39000000e+02, 4.33022700e+00, 1.20000000e+01],\n",
       "       [4.06000000e+02, 4.59000000e+02, 4.68186117e+00, 2.00000000e+01],\n",
       "       [4.18000000e+02, 4.19000000e+02, 4.74624338e+00, 1.50000000e+01],\n",
       "       [4.31000000e+02, 4.66000000e+02, 4.97123308e+00, 1.60000000e+01],\n",
       "       [4.34000000e+02, 4.61000000e+02, 5.09316416e+00, 1.20000000e+01],\n",
       "       [6.10000000e+01, 4.71000000e+02, 5.31903939e+00, 2.10000000e+01],\n",
       "       [4.63000000e+02, 4.69000000e+02, 5.70564174e+00, 1.50000000e+01],\n",
       "       [4.46000000e+02, 4.60000000e+02, 5.71891309e+00, 1.60000000e+01],\n",
       "       [4.27000000e+02, 4.55000000e+02, 5.79692174e+00, 2.70000000e+01],\n",
       "       [4.67000000e+02, 4.78000000e+02, 6.15720974e+00, 3.30000000e+01],\n",
       "       [4.51000000e+02, 4.56000000e+02, 6.17460358e+00, 2.80000000e+01],\n",
       "       [4.09000000e+02, 4.80000000e+02, 6.42735588e+00, 3.70000000e+01],\n",
       "       [4.62000000e+02, 4.70000000e+02, 6.67186924e+00, 1.80000000e+01],\n",
       "       [4.54000000e+02, 4.65000000e+02, 7.13722062e+00, 2.50000000e+01],\n",
       "       [4.42000000e+02, 4.82000000e+02, 8.06362976e+00, 2.10000000e+01],\n",
       "       [4.72000000e+02, 4.83000000e+02, 8.55648203e+00, 4.00000000e+01],\n",
       "       [4.58000000e+02, 4.76000000e+02, 9.60964869e+00, 1.90000000e+01],\n",
       "       [4.53000000e+02, 4.73000000e+02, 1.06570943e+01, 2.50000000e+01],\n",
       "       [4.64000000e+02, 4.86000000e+02, 1.11064033e+01, 3.00000000e+01],\n",
       "       [4.68000000e+02, 4.87000000e+02, 1.20860743e+01, 3.40000000e+01],\n",
       "       [4.75000000e+02, 4.81000000e+02, 1.29649892e+01, 5.80000000e+01],\n",
       "       [4.74000000e+02, 4.90000000e+02, 1.42340104e+01, 7.00000000e+01],\n",
       "       [4.57000000e+02, 4.85000000e+02, 1.45643216e+01, 4.60000000e+01],\n",
       "       [4.79000000e+02, 4.84000000e+02, 1.73004919e+01, 5.40000000e+01],\n",
       "       [4.77000000e+02, 4.89000000e+02, 1.95243574e+01, 5.00000000e+01],\n",
       "       [4.92000000e+02, 4.93000000e+02, 2.34728128e+01, 1.00000000e+02],\n",
       "       [4.88000000e+02, 4.91000000e+02, 2.66451338e+01, 1.00000000e+02],\n",
       "       [4.94000000e+02, 4.95000000e+02, 8.30303164e+01, 1.50000000e+02],\n",
       "       [4.96000000e+02, 4.97000000e+02, 2.18862340e+02, 2.50000000e+02]])"
      ]
     },
     "execution_count": 136,
     "metadata": {},
     "output_type": "execute_result"
    }
   ],
   "source": [
    "Z = linkage(new_df, 'ward')\n",
    "c, coph_dists = cophenet(Z , pdist(new_df))\n",
    "c\n",
    "Z"
   ]
  },
  {
   "cell_type": "markdown",
   "metadata": {},
   "source": [
    "### 12. Plot the dendrogram for the consolidated dataframe"
   ]
  },
  {
   "cell_type": "code",
   "execution_count": 137,
   "metadata": {},
   "outputs": [],
   "source": [
    "from scipy.cluster.hierarchy import dendrogram"
   ]
  },
  {
   "cell_type": "code",
   "execution_count": 138,
   "metadata": {},
   "outputs": [
    {
     "data": {
      "image/png": "[encoded data removed]",
      "text/plain": [
       "<Figure size 720x720 with 1 Axes>"
      ]
     },
     "metadata": {},
     "output_type": "display_data"
    }
   ],
   "source": [
    "plt.figure(figsize=(10, 10))\n",
    "plt.title('Hierarchical Clustering Dendogram')\n",
    "plt.xlabel('sample index')\n",
    "plt.ylabel('Distance')\n",
    "dendrogram(Z, leaf_rotation=90.,color_threshold = 40, leaf_font_size=8. )\n",
    "plt.tight_layout()"
   ]
  },
  {
   "cell_type": "markdown",
   "metadata": {},
   "source": [
    "### 13. Recreate the dendrogram for last 12 merged clusters "
   ]
  },
  {
   "cell_type": "code",
   "execution_count": 139,
   "metadata": {},
   "outputs": [
    {
     "data": {
      "image/png": "[encoded data removed]",
      "text/plain": [
       "<Figure size 720x720 with 1 Axes>"
      ]
     },
     "metadata": {},
     "output_type": "display_data"
    }
   ],
   "source": [
    "plt.figure(figsize=(10, 10))\n",
    "plt.title('Hierarchical Clustering Dendogram for last 12 merged clusters')\n",
    "plt.xlabel('sample index')\n",
    "plt.ylabel('Distance')\n",
    "dendrogram(Z, truncate_mode='lastp',p=12, leaf_rotation=90.,color_threshold = 40, leaf_font_size=10. )\n",
    "plt.tight_layout()"
   ]
  },
  {
   "cell_type": "markdown",
   "metadata": {},
   "source": [
    "Hint: Use truncate_mode='lastp' attribute in dendrogram function to arrive at dendrogram "
   ]
  },
  {
   "cell_type": "markdown",
   "metadata": {},
   "source": [
    "### 14. From the truncated dendrogram, find out the optimal distance between clusters which u want to use an input for clustering data"
   ]
  },
  {
   "cell_type": "markdown",
   "metadata": {},
   "source": [
    "From above truncated dendrogram, we can see optimal distance as 50."
   ]
  },
  {
   "cell_type": "markdown",
   "metadata": {},
   "source": [
    "### 15. Using this distance measure and fcluster function to cluster the data into 3 different groups"
   ]
  },
  {
   "cell_type": "code",
   "execution_count": 140,
   "metadata": {},
   "outputs": [
    {
     "data": {
      "text/plain": [
       "array([1, 1, 1, 1, 1, 1, 1, 1, 1, 1, 1, 1, 1, 1, 1, 1, 1, 1, 1, 1, 1, 1,\n",
       "       1, 1, 1, 1, 1, 1, 1, 1, 1, 1, 1, 1, 1, 1, 1, 1, 1, 1, 1, 1, 1, 1,\n",
       "       1, 1, 1, 1, 1, 1, 1, 1, 1, 1, 1, 1, 1, 1, 1, 1, 1, 1, 1, 1, 1, 1,\n",
       "       1, 1, 1, 1, 1, 1, 1, 1, 1, 1, 1, 1, 1, 1, 1, 1, 1, 1, 1, 1, 1, 1,\n",
       "       1, 1, 1, 1, 1, 1, 1, 1, 1, 1, 1, 1, 2, 2, 2, 2, 2, 2, 2, 2, 2, 2,\n",
       "       2, 2, 2, 2, 2, 2, 2, 2, 2, 2, 2, 2, 2, 2, 2, 2, 2, 2, 2, 2, 2, 2,\n",
       "       2, 2, 2, 2, 2, 2, 2, 2, 2, 2, 2, 2, 2, 2, 2, 2, 2, 2, 3, 3, 3, 3,\n",
       "       3, 3, 3, 3, 3, 3, 3, 3, 3, 3, 3, 3, 3, 3, 3, 3, 3, 3, 3, 3, 3, 3,\n",
       "       3, 3, 3, 3, 3, 3, 3, 3, 3, 3, 3, 3, 3, 3, 3, 3, 3, 3, 3, 3, 3, 3,\n",
       "       3, 3, 3, 3, 3, 3, 3, 3, 3, 3, 3, 3, 3, 3, 3, 3, 3, 3, 3, 3, 3, 3,\n",
       "       3, 3, 3, 3, 3, 3, 3, 3, 3, 3, 3, 3, 3, 3, 3, 3, 3, 3, 3, 3, 3, 3,\n",
       "       3, 3, 3, 3, 3, 3, 3, 3], dtype=int32)"
      ]
     },
     "execution_count": 140,
     "metadata": {},
     "output_type": "execute_result"
    }
   ],
   "source": [
    "from scipy.cluster.hierarchy import fcluster\n",
    "max_d = 50\n",
    "clusters = fcluster(Z, max_d, criterion='distance')\n",
    "clusters"
   ]
  },
  {
   "cell_type": "markdown",
   "metadata": {},
   "source": [
    "### Use matplotlib to visually observe the clusters in 2D space "
   ]
  },
  {
   "cell_type": "code",
   "execution_count": 141,
   "metadata": {},
   "outputs": [
    {
     "data": {
      "image/png": "[encoded data removed]",
      "text/plain": [
       "<Figure size 720x576 with 1 Axes>"
      ]
     },
     "metadata": {},
     "output_type": "display_data"
    }
   ],
   "source": [
    "plt.figure(figsize=(10, 8))\n",
    "plt.scatter(new_df[0], new_df[1], c=clusters, cmap='prism')  # plot points with cluster dependent colors\n",
    "plt.show()"
   ]
  },
  {
   "cell_type": "code",
   "execution_count": null,
   "metadata": {},
   "outputs": [],
   "source": [
    "# We can see 3 clusters in space."
   ]
  }
 ],
 "metadata": {
  "kernelspec": {
   "display_name": "Python 3",
   "language": "python",
   "name": "python3"
  },
  "language_info": {
   "codemirror_mode": {
    "name": "ipython",
    "version": 3
   },
   "file_extension": ".py",
   "mimetype": "text/x-python",
   "name": "python",
   "nbconvert_exporter": "python",
   "pygments_lexer": "ipython3",
   "version": "3.7.1"
  }
 },
 "nbformat": 4,
 "nbformat_minor": 2
}
