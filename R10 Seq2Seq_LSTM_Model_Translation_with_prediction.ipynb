{
 "cells": [
  {
   "cell_type": "markdown",
   "metadata": {
    "colab_type": "text",
    "id": "tPoWUqT_fl6F"
   },
   "source": [
    "### Load tensorflow"
   ]
  },
  {
   "cell_type": "code",
   "execution_count": 0,
   "metadata": {
    "colab": {},
    "colab_type": "code",
    "id": "UktC6KA3fl6I"
   },
   "outputs": [],
   "source": [
    "import tensorflow as tf\n",
    "tf.reset_default_graph()\n",
    "tf.set_random_seed(42)"
   ]
  },
  {
   "cell_type": "markdown",
   "metadata": {
    "colab_type": "text",
    "id": "ZwMcmvGYfl6O"
   },
   "source": [
    "### Read the data\n",
    "<font size=\"2\">Data for this exercise can be downloaded from http://www.manythings.org/anki/</font>"
   ]
  },
  {
   "cell_type": "code",
   "execution_count": 0,
   "metadata": {
    "colab": {},
    "colab_type": "code",
    "id": "ka8Cdm70fl6P"
   },
   "outputs": [],
   "source": [
    "#You can use wget to download the file directly\n",
    "!wget http://www.manythings.org/anki/hin-eng.zip --quiet"
   ]
  },
  {
   "cell_type": "code",
   "execution_count": 0,
   "metadata": {
    "colab": {},
    "colab_type": "code",
    "id": "yjnQuAQpfl6T"
   },
   "outputs": [],
   "source": [
    "import zipfile\n",
    "import io\n",
    "\n",
    "#Read the zip file\n",
    "zf = zipfile.ZipFile('hin-eng.zip', 'r')\n",
    "\n",
    "#Extract data from zip file, here we can decide no of line to download as well. e.g. first 100 lines only\n",
    "data = ''\n",
    "with zf.open('hin.txt') as readfile:\n",
    "  for line in io.TextIOWrapper(readfile, 'utf-8'):\n",
    "    data += line"
   ]
  },
  {
   "cell_type": "code",
   "execution_count": 4,
   "metadata": {
    "colab": {
     "base_uri": "https://localhost:8080/",
     "height": 35
    },
    "colab_type": "code",
    "id": "JdZpfjIAfl6X",
    "outputId": "70c0dcb0-8892-437b-94ab-562bd3319043"
   },
   "outputs": [
    {
     "data": {
      "text/plain": [
       "181269"
      ]
     },
     "execution_count": 4,
     "metadata": {
      "tags": []
     },
     "output_type": "execute_result"
    }
   ],
   "source": [
    "len(data)"
   ]
  },
  {
   "cell_type": "code",
   "execution_count": 5,
   "metadata": {
    "colab": {
     "base_uri": "https://localhost:8080/",
     "height": 35
    },
    "colab_type": "code",
    "id": "RTvBSCbqfl6a",
    "outputId": "394553fc-20d6-410a-98dd-f328d6f4aea0"
   },
   "outputs": [
    {
     "data": {
      "text/plain": [
       "\"मज़े करो।\\nI forgot.\\tमैं भूल गया।\\nI forgot.\\tमैं भूल गई।\\nI'll pay.\\tमैं पैसे दूंगा।\\nI'm fine.\\tमैं ठीक ह\""
      ]
     },
     "execution_count": 5,
     "metadata": {
      "tags": []
     },
     "output_type": "execute_result"
    }
   ],
   "source": [
    "data[400:500]"
   ]
  },
  {
   "cell_type": "markdown",
   "metadata": {
    "colab_type": "text",
    "id": "6PWF6Yj8fl6d"
   },
   "source": [
    "\n",
    "### Extract Source and Target Language pairs"
   ]
  },
  {
   "cell_type": "code",
   "execution_count": 6,
   "metadata": {
    "colab": {
     "base_uri": "https://localhost:8080/",
     "height": 104
    },
    "colab_type": "code",
    "id": "of7oqLQ6fl6e",
    "outputId": "c00084d4-5143-4e5e-9b41-86aa17292c28"
   },
   "outputs": [
    {
     "data": {
      "text/plain": [
       "[\"I don't know.\\tमुझे नहीं पता।\",\n",
       " \"I don't know.\\tमुझे नहीं मालूम।\",\n",
       " 'I have a car.\\tमेरे पास एक गाड़ी है।',\n",
       " 'I have a dog.\\tमेरे पास एक कुत्ता है।',\n",
       " 'I understand.\\tमैं समझता हूँ।']"
      ]
     },
     "execution_count": 6,
     "metadata": {
      "tags": []
     },
     "output_type": "execute_result"
    }
   ],
   "source": [
    "#Split by newline character\n",
    "data =  data.split('\\n')\n",
    "\n",
    "#Show some Data\n",
    "data[100:105]"
   ]
  },
  {
   "cell_type": "code",
   "execution_count": 7,
   "metadata": {
    "colab": {
     "base_uri": "https://localhost:8080/",
     "height": 35
    },
    "colab_type": "code",
    "id": "zAmaPZXVfl6h",
    "outputId": "caa2f3cc-3ded-4eef-954d-f30cb4d52bd8"
   },
   "outputs": [
    {
     "data": {
      "text/plain": [
       "2809"
      ]
     },
     "execution_count": 7,
     "metadata": {
      "tags": []
     },
     "output_type": "execute_result"
    }
   ],
   "source": [
    "# No of sentences\n",
    "len(data)"
   ]
  },
  {
   "cell_type": "markdown",
   "metadata": {
    "colab_type": "text",
    "id": "U2X7ztxhfl6l"
   },
   "source": [
    "### Separate Source and Target pairs"
   ]
  },
  {
   "cell_type": "code",
   "execution_count": 0,
   "metadata": {
    "colab": {},
    "colab_type": "code",
    "id": "UiRGCQhofl6m"
   },
   "outputs": [],
   "source": [
    "encoder_text = [] #Initialize Source language list\n",
    "decoder_text = [] #Initialize Target language list\n",
    "\n",
    "#Iterate over data\n",
    "for line in data:\n",
    "    try:\n",
    "        in_txt, out_txt = line.split('\\t')\n",
    "        encoder_text.append(in_txt)\n",
    "        \n",
    "        # Add tab '<start>' as 'start sequence in target\n",
    "        # And '<end>' as End\n",
    "        decoder_text.append('<start> ' + out_txt + ' <end>')\n",
    "    except:\n",
    "        pass #ignore data which goes into error        "
   ]
  },
  {
   "cell_type": "markdown",
   "metadata": {
    "colab_type": "text",
    "id": "zUsGJhXIfl6p"
   },
   "source": [
    "### Separate Source and Target pairs.."
   ]
  },
  {
   "cell_type": "code",
   "execution_count": 9,
   "metadata": {
    "colab": {
     "base_uri": "https://localhost:8080/",
     "height": 104
    },
    "colab_type": "code",
    "id": "ljWhJKtdfl6q",
    "outputId": "745e1327-85a0-49f1-db42-f2e1ad1d6dd6"
   },
   "outputs": [
    {
     "data": {
      "text/plain": [
       "[\"I don't know.\",\n",
       " \"I don't know.\",\n",
       " 'I have a car.',\n",
       " 'I have a dog.',\n",
       " 'I understand.']"
      ]
     },
     "execution_count": 9,
     "metadata": {
      "tags": []
     },
     "output_type": "execute_result"
    }
   ],
   "source": [
    "encoder_text[100:105]"
   ]
  },
  {
   "cell_type": "code",
   "execution_count": 10,
   "metadata": {
    "colab": {
     "base_uri": "https://localhost:8080/",
     "height": 104
    },
    "colab_type": "code",
    "id": "HxvpUjChfl6v",
    "outputId": "205af2d7-3479-4ae8-ec68-a6f0b44189ba"
   },
   "outputs": [
    {
     "data": {
      "text/plain": [
       "['<start> मुझे नहीं पता। <end>',\n",
       " '<start> मुझे नहीं मालूम। <end>',\n",
       " '<start> मेरे पास एक गाड़ी है। <end>',\n",
       " '<start> मेरे पास एक कुत्ता है। <end>',\n",
       " '<start> मैं समझता हूँ। <end>']"
      ]
     },
     "execution_count": 10,
     "metadata": {
      "tags": []
     },
     "output_type": "execute_result"
    }
   ],
   "source": [
    "decoder_text[100:105]"
   ]
  },
  {
   "cell_type": "markdown",
   "metadata": {
    "colab_type": "text",
    "id": "H2lVLEdpg8a3"
   },
   "source": []
  },
  {
   "cell_type": "markdown",
   "metadata": {
    "colab_type": "text",
    "id": "z24rR4h0fl6x"
   },
   "source": [
    "### Tokenize Source language sentences"
   ]
  },
  {
   "cell_type": "code",
   "execution_count": 11,
   "metadata": {
    "colab": {
     "base_uri": "https://localhost:8080/",
     "height": 35
    },
    "colab_type": "code",
    "id": "lyInIgzNfl6y",
    "outputId": "b63c51c4-a74f-4c4e-9eaa-2e35853858de"
   },
   "outputs": [
    {
     "data": {
      "text/plain": [
       "[[2, 27, 43], [2, 27, 43], [2, 14, 6, 99], [2, 14, 6, 125], [2, 210]]"
      ]
     },
     "execution_count": 11,
     "metadata": {
      "tags": []
     },
     "output_type": "execute_result"
    }
   ],
   "source": [
    "#Tokenizer for source language\n",
    "encoder_t = tf.keras.preprocessing.text.Tokenizer()\n",
    "encoder_t.fit_on_texts(encoder_text) #Fit it on Source sentences\n",
    "encoder_seq = encoder_t.texts_to_sequences(encoder_text) #Convert sentences to numbers \n",
    "encoder_seq[100:105] #Display some converted sentences"
   ]
  },
  {
   "cell_type": "code",
   "execution_count": 14,
   "metadata": {
    "colab": {
     "base_uri": "https://localhost:8080/",
     "height": 1000
    },
    "colab_type": "code",
    "id": "-bsqH-9Ofl61",
    "outputId": "41b926c4-74fc-4da7-cd39-2dff4d05fd94"
   },
   "outputs": [
    {
     "data": {
      "text/plain": [
       "{'the': 1,\n",
       " 'i': 2,\n",
       " 'to': 3,\n",
       " 'you': 4,\n",
       " 'is': 5,\n",
       " 'a': 6,\n",
       " 'he': 7,\n",
       " 'of': 8,\n",
       " 'in': 9,\n",
       " 'my': 10,\n",
       " 'it': 11,\n",
       " 'me': 12,\n",
       " 'this': 13,\n",
       " 'have': 14,\n",
       " 'she': 15,\n",
       " 'for': 16,\n",
       " 'was': 17,\n",
       " 'are': 18,\n",
       " 'do': 19,\n",
       " 'that': 20,\n",
       " 'his': 21,\n",
       " 'your': 22,\n",
       " 'we': 23,\n",
       " 'will': 24,\n",
       " 'on': 25,\n",
       " 'what': 26,\n",
       " \"don't\": 27,\n",
       " 'at': 28,\n",
       " 'him': 29,\n",
       " 'her': 30,\n",
       " 'not': 31,\n",
       " 'like': 32,\n",
       " 'go': 33,\n",
       " 'with': 34,\n",
       " 'be': 35,\n",
       " 'how': 36,\n",
       " 'and': 37,\n",
       " \"i'm\": 38,\n",
       " 'can': 39,\n",
       " 'time': 40,\n",
       " 'has': 41,\n",
       " 'there': 42,\n",
       " 'know': 43,\n",
       " 'all': 44,\n",
       " 'up': 45,\n",
       " 'they': 46,\n",
       " 'come': 47,\n",
       " 'very': 48,\n",
       " 'as': 49,\n",
       " 'had': 50,\n",
       " 'please': 51,\n",
       " 'from': 52,\n",
       " 'want': 53,\n",
       " \"it's\": 54,\n",
       " 'here': 55,\n",
       " 'by': 56,\n",
       " 'out': 57,\n",
       " 'am': 58,\n",
       " 'when': 59,\n",
       " 'did': 60,\n",
       " 'no': 61,\n",
       " 'been': 62,\n",
       " 'get': 63,\n",
       " \"can't\": 64,\n",
       " 'take': 65,\n",
       " 'going': 66,\n",
       " 'an': 67,\n",
       " 'father': 68,\n",
       " 'book': 69,\n",
       " 'if': 70,\n",
       " 'about': 71,\n",
       " 'one': 72,\n",
       " 'india': 73,\n",
       " 'were': 74,\n",
       " 'money': 75,\n",
       " 'would': 76,\n",
       " 'tom': 77,\n",
       " 'day': 78,\n",
       " 'long': 79,\n",
       " 'two': 80,\n",
       " 'tomorrow': 81,\n",
       " 'today': 82,\n",
       " 'where': 83,\n",
       " 'but': 84,\n",
       " 'must': 85,\n",
       " 'make': 86,\n",
       " 'help': 87,\n",
       " \"i'll\": 88,\n",
       " 'us': 89,\n",
       " 'back': 90,\n",
       " 'man': 91,\n",
       " 'live': 92,\n",
       " 'see': 93,\n",
       " 'english': 94,\n",
       " 'good': 95,\n",
       " 'our': 96,\n",
       " 'who': 97,\n",
       " 'home': 98,\n",
       " 'car': 99,\n",
       " 'now': 100,\n",
       " 'work': 101,\n",
       " 'these': 102,\n",
       " 'yesterday': 103,\n",
       " 'too': 104,\n",
       " \"didn't\": 105,\n",
       " 'should': 106,\n",
       " 'so': 107,\n",
       " 'room': 108,\n",
       " 'made': 109,\n",
       " 'many': 110,\n",
       " 'speak': 111,\n",
       " 'never': 112,\n",
       " 'house': 113,\n",
       " 'last': 114,\n",
       " 'every': 115,\n",
       " 'mother': 116,\n",
       " 'went': 117,\n",
       " 'more': 118,\n",
       " 'than': 119,\n",
       " 'much': 120,\n",
       " 'off': 121,\n",
       " 'some': 122,\n",
       " 'nothing': 123,\n",
       " 'again': 124,\n",
       " 'dog': 125,\n",
       " 'think': 126,\n",
       " 'old': 127,\n",
       " 'tell': 128,\n",
       " 'could': 129,\n",
       " 'always': 130,\n",
       " 'people': 131,\n",
       " 'got': 132,\n",
       " 'well': 133,\n",
       " 'down': 134,\n",
       " 'may': 135,\n",
       " 'door': 136,\n",
       " 'them': 137,\n",
       " 'any': 138,\n",
       " 'let': 139,\n",
       " 'call': 140,\n",
       " 'turn': 141,\n",
       " 'train': 142,\n",
       " \"i've\": 143,\n",
       " 'children': 144,\n",
       " 'give': 145,\n",
       " 'put': 146,\n",
       " 'why': 147,\n",
       " 'into': 148,\n",
       " 'school': 149,\n",
       " 'before': 150,\n",
       " 'doctor': 151,\n",
       " 'leave': 152,\n",
       " 'lot': 153,\n",
       " 'next': 154,\n",
       " 'teacher': 155,\n",
       " 'say': 156,\n",
       " 'or': 157,\n",
       " 'tired': 158,\n",
       " 'new': 159,\n",
       " 'happy': 160,\n",
       " 'night': 161,\n",
       " 'ten': 162,\n",
       " 'water': 163,\n",
       " 'away': 164,\n",
       " 'left': 165,\n",
       " 'open': 166,\n",
       " 'read': 167,\n",
       " 'saw': 168,\n",
       " 'believe': 169,\n",
       " 'use': 170,\n",
       " 'keep': 171,\n",
       " 'because': 172,\n",
       " 'their': 173,\n",
       " \"let's\": 174,\n",
       " 'answer': 175,\n",
       " 'once': 176,\n",
       " 'year': 177,\n",
       " 'hard': 178,\n",
       " \"isn't\": 179,\n",
       " 'problem': 180,\n",
       " 'job': 181,\n",
       " 'true': 182,\n",
       " 'does': 183,\n",
       " 'soon': 184,\n",
       " 'few': 185,\n",
       " 'mary': 186,\n",
       " 'years': 187,\n",
       " 'way': 188,\n",
       " 'seen': 189,\n",
       " 'letter': 190,\n",
       " 'both': 191,\n",
       " 'big': 192,\n",
       " 'drive': 193,\n",
       " 'birthday': 194,\n",
       " 'feel': 195,\n",
       " \"that's\": 196,\n",
       " 'cut': 197,\n",
       " 'met': 198,\n",
       " 'watch': 199,\n",
       " 'books': 200,\n",
       " 'tea': 201,\n",
       " \"couldn't\": 202,\n",
       " 'without': 203,\n",
       " 'cannot': 204,\n",
       " 'japan': 205,\n",
       " 'morning': 206,\n",
       " \"what's\": 207,\n",
       " 'came': 208,\n",
       " 'wrong': 209,\n",
       " 'understand': 210,\n",
       " 'everyone': 211,\n",
       " 'yet': 212,\n",
       " 'doing': 213,\n",
       " 'girl': 214,\n",
       " 'other': 215,\n",
       " 'such': 216,\n",
       " 'three': 217,\n",
       " 'afraid': 218,\n",
       " 'times': 219,\n",
       " 'month': 220,\n",
       " 'world': 221,\n",
       " 'love': 222,\n",
       " 'try': 223,\n",
       " \"he's\": 224,\n",
       " 'bed': 225,\n",
       " 'around': 226,\n",
       " 'likes': 227,\n",
       " 'really': 228,\n",
       " 'right': 229,\n",
       " 'after': 230,\n",
       " 'friends': 231,\n",
       " 'lost': 232,\n",
       " 'bought': 233,\n",
       " 'tried': 234,\n",
       " \"i'd\": 235,\n",
       " 'play': 236,\n",
       " 'gave': 237,\n",
       " 'little': 238,\n",
       " 'river': 239,\n",
       " 'five': 240,\n",
       " 'six': 241,\n",
       " 'able': 242,\n",
       " \"won't\": 243,\n",
       " 'said': 244,\n",
       " 'took': 245,\n",
       " 'coming': 246,\n",
       " 'buy': 247,\n",
       " 'stay': 248,\n",
       " 'early': 249,\n",
       " 'running': 250,\n",
       " 'first': 251,\n",
       " 'meet': 252,\n",
       " 'already': 253,\n",
       " 'news': 254,\n",
       " 'wanted': 255,\n",
       " 'box': 256,\n",
       " 'caught': 257,\n",
       " 'looked': 258,\n",
       " 'shoes': 259,\n",
       " 'while': 260,\n",
       " 'week': 261,\n",
       " 'comes': 262,\n",
       " 'station': 263,\n",
       " \"o'clock\": 264,\n",
       " 'own': 265,\n",
       " 'baby': 266,\n",
       " 'better': 267,\n",
       " 'ever': 268,\n",
       " 'between': 269,\n",
       " 'medicine': 270,\n",
       " 'looking': 271,\n",
       " 'usually': 272,\n",
       " 'brother': 273,\n",
       " 'smoking': 274,\n",
       " 'days': 275,\n",
       " 'something': 276,\n",
       " 'fun': 277,\n",
       " 'broke': 278,\n",
       " 'cold': 279,\n",
       " 'knows': 280,\n",
       " 'drink': 281,\n",
       " 'fish': 282,\n",
       " 'study': 283,\n",
       " 'dinner': 284,\n",
       " 'friend': 285,\n",
       " 'eyes': 286,\n",
       " 'bad': 287,\n",
       " 'abroad': 288,\n",
       " 'married': 289,\n",
       " 'small': 290,\n",
       " 'felt': 291,\n",
       " 'ask': 292,\n",
       " 'city': 293,\n",
       " 'health': 294,\n",
       " 'mind': 295,\n",
       " 'just': 296,\n",
       " 'easy': 297,\n",
       " 'walk': 298,\n",
       " 'coffee': 299,\n",
       " 'difficult': 300,\n",
       " 'almost': 301,\n",
       " \"doesn't\": 302,\n",
       " 'used': 303,\n",
       " 'accident': 304,\n",
       " 'sit': 305,\n",
       " 'boy': 306,\n",
       " 'busy': 307,\n",
       " 'town': 308,\n",
       " \"you're\": 309,\n",
       " 'ill': 310,\n",
       " 'stop': 311,\n",
       " 'mine': 312,\n",
       " 'person': 313,\n",
       " 'hurry': 314,\n",
       " 'name': 315,\n",
       " 'sister': 316,\n",
       " 'life': 317,\n",
       " 'poor': 318,\n",
       " 'died': 319,\n",
       " 'ran': 320,\n",
       " 'party': 321,\n",
       " 'asked': 322,\n",
       " 'happened': 323,\n",
       " 'hair': 324,\n",
       " 'told': 325,\n",
       " 'found': 326,\n",
       " 'mistakes': 327,\n",
       " 'enough': 328,\n",
       " 'forget': 329,\n",
       " 'tv': 330,\n",
       " 'wait': 331,\n",
       " 'large': 332,\n",
       " 'eight': 333,\n",
       " 'america': 334,\n",
       " 'afternoon': 335,\n",
       " 'others': 336,\n",
       " 'london': 337,\n",
       " 'talking': 338,\n",
       " 'rain': 339,\n",
       " 'hours': 340,\n",
       " 'parents': 341,\n",
       " 'possible': 342,\n",
       " 'saying': 343,\n",
       " 'forgot': 344,\n",
       " 'fly': 345,\n",
       " 'done': 346,\n",
       " 'fire': 347,\n",
       " 'swim': 348,\n",
       " 'french': 349,\n",
       " 'flowers': 350,\n",
       " \"we're\": 351,\n",
       " 'clean': 352,\n",
       " 'music': 353,\n",
       " 'heard': 354,\n",
       " 'noise': 355,\n",
       " 'crying': 356,\n",
       " 'nice': 357,\n",
       " 'boys': 358,\n",
       " 'talk': 359,\n",
       " 'sure': 360,\n",
       " 'which': 361,\n",
       " 'questions': 362,\n",
       " 'reading': 363,\n",
       " 'write': 364,\n",
       " 'language': 365,\n",
       " 'became': 366,\n",
       " 'each': 367,\n",
       " 'question': 368,\n",
       " 'country': 369,\n",
       " 'king': 370,\n",
       " 'another': 371,\n",
       " 'bus': 372,\n",
       " 'beautiful': 373,\n",
       " 'die': 374,\n",
       " 'someone': 375,\n",
       " 'food': 376,\n",
       " 'police': 377,\n",
       " 'desk': 378,\n",
       " 'sorry': 379,\n",
       " 'things': 380,\n",
       " 'bicycle': 381,\n",
       " 'eat': 382,\n",
       " 'care': 383,\n",
       " 'idea': 384,\n",
       " 'slowly': 385,\n",
       " 'instead': 386,\n",
       " 'written': 387,\n",
       " \"you'll\": 388,\n",
       " 'weather': 389,\n",
       " 'child': 390,\n",
       " 'behind': 391,\n",
       " 'since': 392,\n",
       " 'through': 393,\n",
       " 'difference': 394,\n",
       " 'birds': 395,\n",
       " 'excuse': 396,\n",
       " 'move': 397,\n",
       " 'nobody': 398,\n",
       " 'sick': 399,\n",
       " 'bring': 400,\n",
       " 'free': 401,\n",
       " 'son': 402,\n",
       " 'only': 403,\n",
       " 'look': 404,\n",
       " 'ready': 405,\n",
       " 'story': 406,\n",
       " 'anything': 407,\n",
       " \"haven't\": 408,\n",
       " 'along': 409,\n",
       " 'works': 410,\n",
       " 'address': 411,\n",
       " 'born': 412,\n",
       " 'later': 413,\n",
       " 'yours': 414,\n",
       " 'family': 415,\n",
       " \"she's\": 416,\n",
       " 'power': 417,\n",
       " 'everybody': 418,\n",
       " 'called': 419,\n",
       " 'lives': 420,\n",
       " 'rich': 421,\n",
       " 'kept': 422,\n",
       " 'need': 423,\n",
       " 'waiting': 424,\n",
       " 'sunday': 425,\n",
       " 'rumor': 426,\n",
       " 'size': 427,\n",
       " 'visit': 428,\n",
       " 'alone': 429,\n",
       " 'wherever': 430,\n",
       " 'thing': 431,\n",
       " 'business': 432,\n",
       " 'often': 433,\n",
       " 'playing': 434,\n",
       " 'wish': 435,\n",
       " 'makes': 436,\n",
       " 'tennis': 437,\n",
       " 'homework': 438,\n",
       " 'wife': 439,\n",
       " 'apples': 440,\n",
       " 'learn': 441,\n",
       " 'window': 442,\n",
       " 'picture': 443,\n",
       " 'watching': 444,\n",
       " 'class': 445,\n",
       " 'interesting': 446,\n",
       " 'raining': 447,\n",
       " 'spoken': 448,\n",
       " 'clothes': 449,\n",
       " 'telephone': 450,\n",
       " 'capital': 451,\n",
       " 'anxious': 452,\n",
       " 'find': 453,\n",
       " 'hear': 454,\n",
       " 'finished': 455,\n",
       " 'village': 456,\n",
       " 'longer': 457,\n",
       " 'whether': 458,\n",
       " 'pay': 459,\n",
       " 'hungry': 460,\n",
       " 'dogs': 461,\n",
       " 'phone': 462,\n",
       " 'hot': 463,\n",
       " 'summer': 464,\n",
       " 'bag': 465,\n",
       " 'wash': 466,\n",
       " \"we'll\": 467,\n",
       " 'run': 468,\n",
       " 'guitar': 469,\n",
       " \"where's\": 470,\n",
       " 'began': 471,\n",
       " 'cried': 472,\n",
       " 'getting': 473,\n",
       " 'hands': 474,\n",
       " 'blue': 475,\n",
       " 'matter': 476,\n",
       " 'sleep': 477,\n",
       " 'closed': 478,\n",
       " 'those': 479,\n",
       " 'still': 480,\n",
       " 'television': 481,\n",
       " 'worked': 482,\n",
       " 'looks': 483,\n",
       " 'expensive': 484,\n",
       " 'against': 485,\n",
       " 'war': 486,\n",
       " 'seems': 487,\n",
       " 'taking': 488,\n",
       " 'plan': 489,\n",
       " 'apple': 490,\n",
       " 'quickly': 491,\n",
       " 'dress': 492,\n",
       " 'return': 493,\n",
       " 'disappointed': 494,\n",
       " 'yourself': 495,\n",
       " 'reap': 496,\n",
       " 'sow': 497,\n",
       " 'anyone': 498,\n",
       " 'lose': 499,\n",
       " 'japanese': 500,\n",
       " 'begins': 501,\n",
       " 'arrive': 502,\n",
       " 'easily': 503,\n",
       " 'decided': 504,\n",
       " 'sky': 505,\n",
       " 'fell': 506,\n",
       " 'studying': 507,\n",
       " 'late': 508,\n",
       " 'sugar': 509,\n",
       " 'rains': 510,\n",
       " 'then': 511,\n",
       " 'minutes': 512,\n",
       " 'air': 513,\n",
       " 'canada': 514,\n",
       " 'larger': 515,\n",
       " 'interested': 516,\n",
       " 'standing': 517,\n",
       " 'movie': 518,\n",
       " 'changing': 519,\n",
       " 'suddenly': 520,\n",
       " 'europe': 521,\n",
       " 'cup': 522,\n",
       " 'number': 523,\n",
       " 'office': 524,\n",
       " 'meeting': 525,\n",
       " 'set': 526,\n",
       " 'wants': 527,\n",
       " 'grandmother': 528,\n",
       " 'hobby': 529,\n",
       " 'population': 530,\n",
       " 'ship': 531,\n",
       " 'across': 532,\n",
       " 'kind': 533,\n",
       " 'men': 534,\n",
       " 'plane': 535,\n",
       " 'china': 536,\n",
       " 'finish': 537,\n",
       " 'making': 538,\n",
       " 'whoever': 539,\n",
       " 'hand': 540,\n",
       " 'being': 541,\n",
       " 'mountain': 542,\n",
       " 'hospital': 543,\n",
       " 'languages': 544,\n",
       " 'advice': 545,\n",
       " 'bit': 546,\n",
       " 'machine': 547,\n",
       " 'known': 548,\n",
       " 'necessary': 549,\n",
       " 'different': 550,\n",
       " 'arrested': 551,\n",
       " 'england': 552,\n",
       " 'jump': 553,\n",
       " 'laughed': 554,\n",
       " 'sing': 555,\n",
       " \"who's\": 556,\n",
       " 'stood': 557,\n",
       " 'strong': 558,\n",
       " 'cake': 559,\n",
       " 'attend': 560,\n",
       " 'fat': 561,\n",
       " 'history': 562,\n",
       " 'god': 563,\n",
       " 'over': 564,\n",
       " 'cooked': 565,\n",
       " 'black': 566,\n",
       " 'beauty': 567,\n",
       " 'talks': 568,\n",
       " 'remember': 569,\n",
       " 'april': 570,\n",
       " 'key': 571,\n",
       " 'age': 572,\n",
       " 'whose': 573,\n",
       " 'bank': 574,\n",
       " 'sight': 575,\n",
       " 'truth': 576,\n",
       " 'earth': 577,\n",
       " 'hope': 578,\n",
       " 'mistake': 579,\n",
       " 'dark': 580,\n",
       " 'snow': 581,\n",
       " 'started': 582,\n",
       " 'taxi': 583,\n",
       " 'baseball': 584,\n",
       " 'shirt': 585,\n",
       " 'airport': 586,\n",
       " 'angry': 587,\n",
       " 'agree': 588,\n",
       " 'red': 589,\n",
       " 'broken': 590,\n",
       " 'secret': 591,\n",
       " 'eggs': 592,\n",
       " 'policeman': 593,\n",
       " 'horse': 594,\n",
       " 'swimming': 595,\n",
       " 'close': 596,\n",
       " 'lake': 597,\n",
       " 'knew': 598,\n",
       " 'learned': 599,\n",
       " 'empty': 600,\n",
       " 'woman': 601,\n",
       " 'prefer': 602,\n",
       " 'myself': 603,\n",
       " 'quit': 604,\n",
       " 'rather': 605,\n",
       " '3': 606,\n",
       " 'light': 607,\n",
       " 'milk': 608,\n",
       " 'abandoned': 609,\n",
       " 'tends': 610,\n",
       " 'present': 611,\n",
       " 'chair': 612,\n",
       " 'show': 613,\n",
       " \"hasn't\": 614,\n",
       " 'face': 615,\n",
       " 'four': 616,\n",
       " 'table': 617,\n",
       " \"shouldn't\": 618,\n",
       " 'garden': 619,\n",
       " 'novel': 620,\n",
       " 'stand': 621,\n",
       " 'explain': 622,\n",
       " 'bath': 623,\n",
       " 'tokyo': 624,\n",
       " '5': 625,\n",
       " 'cars': 626,\n",
       " 'rest': 627,\n",
       " 'dollars': 628,\n",
       " 'might': 629,\n",
       " 'shade': 630,\n",
       " '10': 631,\n",
       " 'cats': 632,\n",
       " \"aren't\": 633,\n",
       " 'believes': 634,\n",
       " 'best': 635,\n",
       " 'arrived': 636,\n",
       " 'hardly': 637,\n",
       " 'brought': 638,\n",
       " 'famous': 639,\n",
       " 'great': 640,\n",
       " 'head': 641,\n",
       " 'promise': 642,\n",
       " 'sentences': 643,\n",
       " 'france': 644,\n",
       " 'dream': 645,\n",
       " 'outside': 646,\n",
       " 'speaking': 647,\n",
       " 'africa': 648,\n",
       " 'become': 649,\n",
       " 'result': 650,\n",
       " 'most': 651,\n",
       " 'trip': 652,\n",
       " 'future': 653,\n",
       " 'students': 654,\n",
       " 'surprised': 655,\n",
       " 'sisters': 656,\n",
       " 'sun': 657,\n",
       " 'bigger': 658,\n",
       " 'having': 659,\n",
       " 'paris': 660,\n",
       " 'trouble': 661,\n",
       " 'pictures': 662,\n",
       " 'older': 663,\n",
       " 'stayed': 664,\n",
       " 'doubt': 665,\n",
       " 'covered': 666,\n",
       " 'ordered': 667,\n",
       " 'whole': 668,\n",
       " 'together': 669,\n",
       " 'street': 670,\n",
       " \"there's\": 671,\n",
       " \"wouldn't\": 672,\n",
       " 'uncle': 673,\n",
       " 'amateur': 674,\n",
       " 'cricket': 675,\n",
       " 'player': 676,\n",
       " 'bridge': 677,\n",
       " 'leaving': 678,\n",
       " 'government': 679,\n",
       " 'pass': 680,\n",
       " 'responsible': 681,\n",
       " 'bored': 682,\n",
       " 'wonderful': 683,\n",
       " 'follow': 684,\n",
       " 'shout': 685,\n",
       " 'cat': 686,\n",
       " 'map': 687,\n",
       " 'feet': 688,\n",
       " 'hat': 689,\n",
       " 'husband': 690,\n",
       " 'cook': 691,\n",
       " 'kites': 692,\n",
       " 'teach': 693,\n",
       " 'join': 694,\n",
       " 'rice': 695,\n",
       " 'legs': 696,\n",
       " 'speaks': 697,\n",
       " 'near': 698,\n",
       " 'bird': 699,\n",
       " 'walking': 700,\n",
       " 'turned': 701,\n",
       " 'listen': 702,\n",
       " 'student': 703,\n",
       " 'stolen': 704,\n",
       " 'radio': 705,\n",
       " 'yes': 706,\n",
       " 'admit': 707,\n",
       " 'women': 708,\n",
       " 'sort': 709,\n",
       " 'tall': 710,\n",
       " 'smiled': 711,\n",
       " 'crow': 712,\n",
       " 'win': 713,\n",
       " 'wine': 714,\n",
       " 'working': 715,\n",
       " 'pulled': 716,\n",
       " 'clear': 717,\n",
       " 'trees': 718,\n",
       " 'tax': 719,\n",
       " 'worry': 720,\n",
       " 'success': 721,\n",
       " 'succeed': 722,\n",
       " 'eating': 723,\n",
       " 'meant': 724,\n",
       " 'joke': 725,\n",
       " 'glasses': 726,\n",
       " 'eleven': 727,\n",
       " 'goes': 728,\n",
       " 'accepted': 729,\n",
       " 'offer': 730,\n",
       " 'daughter': 731,\n",
       " 'correct': 732,\n",
       " 'eye': 733,\n",
       " 'ball': 734,\n",
       " 'lived': 735,\n",
       " 'animal': 736,\n",
       " 'fast': 737,\n",
       " 'foot': 738,\n",
       " 'fever': 739,\n",
       " 'wake': 740,\n",
       " '7': 741,\n",
       " 'nine': 742,\n",
       " 'thinking': 743,\n",
       " 'absent': 744,\n",
       " '30': 745,\n",
       " 'shall': 746,\n",
       " 'piano': 747,\n",
       " 'heart': 748,\n",
       " 'showed': 749,\n",
       " 'oil': 750,\n",
       " 'smooth': 751,\n",
       " 'plenty': 752,\n",
       " 'memory': 753,\n",
       " \"you've\": 754,\n",
       " 'glass': 755,\n",
       " 'park': 756,\n",
       " 'arrogant': 757,\n",
       " 'accused': 758,\n",
       " 'important': 759,\n",
       " 'brothers': 760,\n",
       " 'under': 761,\n",
       " 'cancer': 762,\n",
       " 'half': 763,\n",
       " 'anymore': 764,\n",
       " 'forest': 765,\n",
       " 'harder': 766,\n",
       " 'rooms': 767,\n",
       " 'road': 768,\n",
       " 'satisfied': 769,\n",
       " 'neighbors': 770,\n",
       " 'plays': 771,\n",
       " 'burning': 772,\n",
       " 'death': 773,\n",
       " 'sleeping': 774,\n",
       " 'account': 775,\n",
       " 'sold': 776,\n",
       " 'travel': 777,\n",
       " 'towel': 778,\n",
       " 'add': 779,\n",
       " 'm': 780,\n",
       " 'herself': 781,\n",
       " 'thank': 782,\n",
       " 'cry': 783,\n",
       " 'twenty': 784,\n",
       " 'protect': 785,\n",
       " 'favorite': 786,\n",
       " 'smoke': 787,\n",
       " 'officer': 788,\n",
       " 'whatever': 789,\n",
       " 'opinions': 790,\n",
       " 'miles': 791,\n",
       " 'boss': 792,\n",
       " 'place': 793,\n",
       " 'feed': 794,\n",
       " 'word': 795,\n",
       " 'voted': 796,\n",
       " 'order': 797,\n",
       " 'bread': 798,\n",
       " 'explained': 799,\n",
       " 'rule': 800,\n",
       " 'osaka': 801,\n",
       " 'waste': 802,\n",
       " 'voice': 803,\n",
       " 'saved': 804,\n",
       " 'danger': 805,\n",
       " 'store': 806,\n",
       " 'meals': 807,\n",
       " 'words': 808,\n",
       " 'tickets': 809,\n",
       " 'speech': 810,\n",
       " 'game': 811,\n",
       " 'advise': 812,\n",
       " 'pleased': 813,\n",
       " 'allow': 814,\n",
       " 'happen': 815,\n",
       " 'pain': 816,\n",
       " 'italy': 817,\n",
       " 'tree': 818,\n",
       " 'fact': 819,\n",
       " 'butter': 820,\n",
       " 'advantage': 821,\n",
       " 'monday': 822,\n",
       " 'movies': 823,\n",
       " 'traffic': 824,\n",
       " 'mail': 825,\n",
       " 'pieces': 826,\n",
       " 'favor': 827,\n",
       " 'flying': 828,\n",
       " 'kite': 829,\n",
       " 'dangerous': 830,\n",
       " 'due': 831,\n",
       " 'illness': 832,\n",
       " 'interpret': 833,\n",
       " 'poem': 834,\n",
       " 'pick': 835,\n",
       " 'borrow': 836,\n",
       " 'subject': 837,\n",
       " 'lie': 838,\n",
       " 'helped': 839,\n",
       " 'tonight': 840,\n",
       " 'wedding': 841,\n",
       " 'fresh': 842,\n",
       " 'promote': 843,\n",
       " 'buried': 844,\n",
       " 'heat': 845,\n",
       " 'until': 846,\n",
       " 'dictionary': 847,\n",
       " 'trust': 848,\n",
       " 'rules': 849,\n",
       " 'ashamed': 850,\n",
       " 'strange': 851,\n",
       " 'wrote': 852,\n",
       " 'temples': 853,\n",
       " 'fifty': 854,\n",
       " 'end': 855,\n",
       " 'starts': 856,\n",
       " 'extent': 857,\n",
       " 'wind': 858,\n",
       " 'leaves': 859,\n",
       " 'computer': 860,\n",
       " 'short': 861,\n",
       " 'prize': 862,\n",
       " 'thief': 863,\n",
       " 'delhi': 864,\n",
       " 'speed': 865,\n",
       " 'breakfast': 866,\n",
       " 'case': 867,\n",
       " 'living': 868,\n",
       " 'depends': 869,\n",
       " 'teaching': 870,\n",
       " 'destroyed': 871,\n",
       " 'catch': 872,\n",
       " 'chance': 873,\n",
       " 'according': 874,\n",
       " 'front': 875,\n",
       " 'company': 876,\n",
       " 'advised': 877,\n",
       " 'college': 878,\n",
       " 'its': 879,\n",
       " 'passed': 880,\n",
       " 'weeks': 881,\n",
       " 'lights': 882,\n",
       " 'workers': 883,\n",
       " 'museum': 884,\n",
       " 'library': 885,\n",
       " 'answers': 886,\n",
       " 'seven': 887,\n",
       " 'test': 888,\n",
       " 'ought': 889,\n",
       " 'till': 890,\n",
       " 'couple': 891,\n",
       " 'except': 892,\n",
       " 'largest': 893,\n",
       " 'feeling': 894,\n",
       " 'spent': 895,\n",
       " 'teresa': 896,\n",
       " 'hello': 897,\n",
       " 'cheers': 898,\n",
       " 'ok': 899,\n",
       " 'perfect': 900,\n",
       " 'welcome': 901,\n",
       " 'fine': 902,\n",
       " 'math': 903,\n",
       " 'shot': 904,\n",
       " 'touch': 905,\n",
       " 'atheist': 906,\n",
       " 'congratulations': 907,\n",
       " 'miss': 908,\n",
       " 'reads': 909,\n",
       " 'arabic': 910,\n",
       " 'rude': 911,\n",
       " 'lucky': 912,\n",
       " 'cafe': 913,\n",
       " 'fair': 914,\n",
       " 'fault': 915,\n",
       " 'lack': 916,\n",
       " 'top': 917,\n",
       " 'oranges': 918,\n",
       " 'sign': 919,\n",
       " 'betrayed': 920,\n",
       " 'build': 921,\n",
       " 'nests': 922,\n",
       " 'studied': 923,\n",
       " 'headache': 924,\n",
       " 'loved': 925,\n",
       " 'happiness': 926,\n",
       " 'beach': 927,\n",
       " 'throw': 928,\n",
       " 'breathed': 929,\n",
       " 'deeply': 930,\n",
       " 'simple': 931,\n",
       " 'cousin': 932,\n",
       " 'waited': 933,\n",
       " 'pretty': 934,\n",
       " 'guy': 935,\n",
       " 'enjoyed': 936,\n",
       " 'kids': 937,\n",
       " 'vase': 938,\n",
       " 'pen': 939,\n",
       " 'gym': 940,\n",
       " 'state': 941,\n",
       " 'taste': 942,\n",
       " 'continued': 943,\n",
       " 'eaten': 944,\n",
       " 'ticket': 945,\n",
       " 'green': 946,\n",
       " 'forgive': 947,\n",
       " 'pencil': 948,\n",
       " 'sea': 949,\n",
       " 'consciousness': 950,\n",
       " 'decision': 951,\n",
       " 'shut': 952,\n",
       " 'wore': 953,\n",
       " 'haunted': 954,\n",
       " 'sheets': 955,\n",
       " 'burst': 956,\n",
       " 'feels': 957,\n",
       " 'silk': 958,\n",
       " 'hens': 959,\n",
       " 'bell': 960,\n",
       " 'climbed': 961,\n",
       " 'stairs': 962,\n",
       " 'sharp': 963,\n",
       " 'race': 964,\n",
       " 'boston': 965,\n",
       " 'start': 966,\n",
       " 'swollen': 967,\n",
       " 'hated': 968,\n",
       " 'stubborn': 969,\n",
       " 'nearby': 970,\n",
       " 'missed': 971,\n",
       " 'shouted': 972,\n",
       " \"what're\": 973,\n",
       " 'elevator': 974,\n",
       " 'song': 975,\n",
       " 'earns': 976,\n",
       " 'knocked': 977,\n",
       " 'robbed': 978,\n",
       " 'physics': 979,\n",
       " 'wonder': 980,\n",
       " 'stomach': 981,\n",
       " 'york': 982,\n",
       " 'wears': 983,\n",
       " 'ceased': 984,\n",
       " 'glad': 985,\n",
       " 'lion': 986,\n",
       " 'chairs': 987,\n",
       " 'tuesday': 988,\n",
       " 'passport': 989,\n",
       " 'soccer': 990,\n",
       " 'dozen': 991,\n",
       " 'dressed': 992,\n",
       " 'white': 993,\n",
       " 'whichever': 994,\n",
       " 'applies': 995,\n",
       " 'wood': 996,\n",
       " 'cheese': 997,\n",
       " 'thirty': 998,\n",
       " 'fond': 999,\n",
       " 'gun': 1000,\n",
       " ...}"
      ]
     },
     "execution_count": 14,
     "metadata": {
      "tags": []
     },
     "output_type": "execute_result"
    }
   ],
   "source": [
    "# Encoding dictionary. Word to index\n",
    "encoder_t.word_index"
   ]
  },
  {
   "cell_type": "code",
   "execution_count": 15,
   "metadata": {
    "colab": {
     "base_uri": "https://localhost:8080/",
     "height": 52
    },
    "colab_type": "code",
    "id": "k0lMszoffl65",
    "outputId": "01dde9ce-dfe7-4fca-df44-075ed89f6716"
   },
   "outputs": [
    {
     "name": "stdout",
     "output_type": "stream",
     "text": [
      "Maximum sentence length for Source language:  22\n",
      "Source language vocablury size:  2388\n"
     ]
    }
   ],
   "source": [
    "#Maximum length of sentence\n",
    "max_encoder_seq_length = max([len(txt) for txt in encoder_seq])\n",
    "print('Maximum sentence length for Source language: ', max_encoder_seq_length)\n",
    "\n",
    "#Source language Vocablury\n",
    "encoder_vocab_size = len(encoder_t.word_index)\n",
    "print('Source language vocablury size: ', encoder_vocab_size)"
   ]
  },
  {
   "cell_type": "markdown",
   "metadata": {
    "colab_type": "text",
    "id": "4vGYKXtLfl68"
   },
   "source": [
    "### Tokenize Target language sentences"
   ]
  },
  {
   "cell_type": "code",
   "execution_count": 0,
   "metadata": {
    "colab": {},
    "colab_type": "code",
    "id": "juKB2LT-fl69"
   },
   "outputs": [],
   "source": [
    "#Tokenizer for target language, filters should not <start> and <end>\n",
    "#remove < and > used in Target language sequences\n",
    "decoder_t = tf.keras.preprocessing.text.Tokenizer(filters='!\"#$%&()*+,-./:;=?@[\\\\]^_`{|}~\\t\\n')\n",
    "decoder_t.fit_on_texts(decoder_text) #Fit it on target sentences\n",
    "decoder_seq = decoder_t.texts_to_sequences(decoder_text) #Convert sentences to numbers "
   ]
  },
  {
   "cell_type": "code",
   "execution_count": 19,
   "metadata": {
    "colab": {
     "base_uri": "https://localhost:8080/",
     "height": 104
    },
    "colab_type": "code",
    "id": "CsuCol96pUg6",
    "outputId": "03755674-0dd0-44ab-d934-05a7ddd5b76c"
   },
   "outputs": [
    {
     "data": {
      "text/plain": [
       "['<start> मुझे नहीं पता। <end>',\n",
       " '<start> मुझे नहीं मालूम। <end>',\n",
       " '<start> मेरे पास एक गाड़ी है। <end>',\n",
       " '<start> मेरे पास एक कुत्ता है। <end>',\n",
       " '<start> मैं समझता हूँ। <end>']"
      ]
     },
     "execution_count": 19,
     "metadata": {
      "tags": []
     },
     "output_type": "execute_result"
    }
   ],
   "source": [
    "decoder_text[100:105]"
   ]
  },
  {
   "cell_type": "code",
   "execution_count": 20,
   "metadata": {
    "colab": {
     "base_uri": "https://localhost:8080/",
     "height": 104
    },
    "colab_type": "code",
    "id": "U4PBXpy2pJ_Z",
    "outputId": "577290b6-6792-4618-e938-ad4854e26fdf"
   },
   "outputs": [
    {
     "data": {
      "text/plain": [
       "[[1, 11, 5, 622, 2],\n",
       " [1, 11, 5, 1488, 2],\n",
       " [1, 28, 40, 19, 103, 3, 2],\n",
       " [1, 28, 40, 19, 202, 3, 2],\n",
       " [1, 6, 769, 22, 2]]"
      ]
     },
     "execution_count": 20,
     "metadata": {
      "tags": []
     },
     "output_type": "execute_result"
    }
   ],
   "source": [
    "decoder_seq[100:105] #Display some converted sentences"
   ]
  },
  {
   "cell_type": "code",
   "execution_count": 32,
   "metadata": {
    "colab": {
     "base_uri": "https://localhost:8080/",
     "height": 1000
    },
    "colab_type": "code",
    "id": "HP_kvd0tr6_9",
    "outputId": "5e849607-4371-4826-813b-dae06e50df5c"
   },
   "outputs": [
    {
     "data": {
      "text/plain": [
       "{'<start>': 1,\n",
       " '<end>': 2,\n",
       " 'है।': 3,\n",
       " 'में': 4,\n",
       " 'नहीं': 5,\n",
       " 'मैं': 6,\n",
       " 'वह': 7,\n",
       " 'से': 8,\n",
       " 'के': 9,\n",
       " 'क्या': 10,\n",
       " 'मुझे': 11,\n",
       " 'है': 12,\n",
       " 'को': 13,\n",
       " 'हैं।': 14,\n",
       " 'की': 15,\n",
       " 'हो': 16,\n",
       " 'बहुत': 17,\n",
       " 'का': 18,\n",
       " 'एक': 19,\n",
       " 'पर': 20,\n",
       " 'उसने': 21,\n",
       " 'हूँ।': 22,\n",
       " 'तुम': 23,\n",
       " 'था।': 24,\n",
       " 'यह': 25,\n",
       " 'कर': 26,\n",
       " 'लिए': 27,\n",
       " 'मेरे': 28,\n",
       " 'कि': 29,\n",
       " 'और': 30,\n",
       " 'हैं': 31,\n",
       " 'इस': 32,\n",
       " 'उसे': 33,\n",
       " 'भी': 34,\n",
       " 'अपने': 35,\n",
       " 'मेरी': 36,\n",
       " 'मैंने': 37,\n",
       " 'रहा': 38,\n",
       " 'ने': 39,\n",
       " 'पास': 40,\n",
       " 'तो': 41,\n",
       " 'करने': 42,\n",
       " 'अपनी': 43,\n",
       " 'कल': 44,\n",
       " 'हम': 45,\n",
       " 'गया।': 46,\n",
       " 'ही': 47,\n",
       " 'काम': 48,\n",
       " 'कोई': 49,\n",
       " 'उसके': 50,\n",
       " 'तुम्हारे': 51,\n",
       " 'उसकी': 52,\n",
       " 'उस': 53,\n",
       " 'तुम्हें': 54,\n",
       " 'था': 55,\n",
       " 'साथ': 56,\n",
       " 'घर': 57,\n",
       " 'करना': 58,\n",
       " 'थी।': 59,\n",
       " 'समय': 60,\n",
       " 'मेरा': 61,\n",
       " 'गया': 62,\n",
       " 'सकते': 63,\n",
       " 'आप': 64,\n",
       " 'बात': 65,\n",
       " 'रही': 66,\n",
       " 'पता': 67,\n",
       " 'कुछ': 68,\n",
       " 'यहाँ': 69,\n",
       " 'आज': 70,\n",
       " 'अभी': 71,\n",
       " 'बजे': 72,\n",
       " 'तक': 73,\n",
       " 'तुम्हे': 74,\n",
       " 'उसको': 75,\n",
       " 'चाहिए।': 76,\n",
       " 'लगता': 77,\n",
       " 'किताब': 78,\n",
       " 'दिया।': 79,\n",
       " 'मुझसे': 80,\n",
       " 'पसंद': 81,\n",
       " 'अच्छा': 82,\n",
       " 'थे।': 83,\n",
       " 'कभी': 84,\n",
       " 'मत': 85,\n",
       " 'रहे': 86,\n",
       " 'आ': 87,\n",
       " 'सकता': 88,\n",
       " 'हूँ': 89,\n",
       " 'हुई': 90,\n",
       " 'अपना': 91,\n",
       " 'होता': 92,\n",
       " 'दो': 93,\n",
       " 'टॉम': 94,\n",
       " 'किया।': 95,\n",
       " 'भारत': 96,\n",
       " 'जाने': 97,\n",
       " 'करता': 98,\n",
       " 'वे': 99,\n",
       " 'न': 100,\n",
       " 'हो।': 101,\n",
       " 'पैसे': 102,\n",
       " 'गाड़ी': 103,\n",
       " 'उससे': 104,\n",
       " 'हुआ': 105,\n",
       " 'मदद': 106,\n",
       " 'करते': 107,\n",
       " 'हुए': 108,\n",
       " 'ज़्यादा': 109,\n",
       " 'साल': 110,\n",
       " 'होगा।': 111,\n",
       " 'कहाँ': 112,\n",
       " 'उसका': 113,\n",
       " 'जो': 114,\n",
       " 'पहले': 115,\n",
       " 'होती': 116,\n",
       " 'अंग्रेज़ी': 117,\n",
       " 'सारे': 118,\n",
       " 'जाना': 119,\n",
       " 'किया': 120,\n",
       " 'जा': 121,\n",
       " 'गए': 122,\n",
       " 'तुम्हारी': 123,\n",
       " 'आपको': 124,\n",
       " 'आदमी': 125,\n",
       " 'किसी': 126,\n",
       " 'कम': 127,\n",
       " 'देर': 128,\n",
       " 'गई।': 129,\n",
       " 'बार': 130,\n",
       " 'जब': 131,\n",
       " 'दिन': 132,\n",
       " 'अगर': 133,\n",
       " 'बाहर': 134,\n",
       " 'बड़ा': 135,\n",
       " 'वापस': 136,\n",
       " 'बारे': 137,\n",
       " 'हमारे': 138,\n",
       " 'जल्दी': 139,\n",
       " 'वहाँ': 140,\n",
       " 'सब': 141,\n",
       " 'खाना': 142,\n",
       " 'जाता': 143,\n",
       " 'बंद': 144,\n",
       " 'ये': 145,\n",
       " 'दिया': 146,\n",
       " 'फ़ोन': 147,\n",
       " 'कितने': 148,\n",
       " 'रात': 149,\n",
       " 'दी।': 150,\n",
       " 'तुमने': 151,\n",
       " 'तरह': 152,\n",
       " 'हमेशा': 153,\n",
       " 'हमने': 154,\n",
       " 'करो।': 155,\n",
       " 'सकता।': 156,\n",
       " 'लोग': 157,\n",
       " 'बच्चे': 158,\n",
       " 'चाहता': 159,\n",
       " 'दस': 160,\n",
       " 'छोड़': 161,\n",
       " 'बारिश': 162,\n",
       " 'लोगों': 163,\n",
       " 'ठीक': 164,\n",
       " 'जवाब': 165,\n",
       " 'तुमसे': 166,\n",
       " 'कैसे': 167,\n",
       " 'हर': 168,\n",
       " 'हमे': 169,\n",
       " 'उन्होंने': 170,\n",
       " 'स्कूल': 171,\n",
       " 'पापा': 172,\n",
       " 'आता': 173,\n",
       " 'चला': 174,\n",
       " 'खुश': 175,\n",
       " 'अब': 176,\n",
       " 'थे': 177,\n",
       " 'चल': 178,\n",
       " 'देखा।': 179,\n",
       " 'गए।': 180,\n",
       " 'क्यों': 181,\n",
       " 'तीन': 182,\n",
       " 'डॉक्टर': 183,\n",
       " 'खतम': 184,\n",
       " 'मौसम': 185,\n",
       " 'मुश्किल': 186,\n",
       " 'माँ': 187,\n",
       " 'शुरू': 188,\n",
       " 'पानी': 189,\n",
       " 'देखा': 190,\n",
       " 'अच्छी': 191,\n",
       " 'होने': 192,\n",
       " 'दो।': 193,\n",
       " 'करती': 194,\n",
       " 'हमारी': 195,\n",
       " 'पिता': 196,\n",
       " 'सारी': 197,\n",
       " 'ट्रेन': 198,\n",
       " 'सबसे': 199,\n",
       " 'कोशिश': 200,\n",
       " 'अच्छे': 201,\n",
       " 'कुत्ता': 202,\n",
       " 'गई': 203,\n",
       " 'कमरे': 204,\n",
       " 'दोस्त': 205,\n",
       " 'भाई': 206,\n",
       " 'लिया।': 207,\n",
       " 'थोड़ी': 208,\n",
       " 'करनी': 209,\n",
       " 'थोड़ा': 210,\n",
       " 'या': 211,\n",
       " 'चिट्ठी': 212,\n",
       " 'थक': 213,\n",
       " 'ले': 214,\n",
       " 'साफ़': 215,\n",
       " 'फिरसे': 216,\n",
       " 'बस': 217,\n",
       " 'तुम्हारा': 218,\n",
       " 'नहीं।': 219,\n",
       " 'रहता': 220,\n",
       " 'कब': 221,\n",
       " 'जल्द': 222,\n",
       " 'मन': 223,\n",
       " 'लड़की': 224,\n",
       " 'पाँच': 225,\n",
       " 'जाती': 226,\n",
       " 'चाहते': 227,\n",
       " 'देना': 228,\n",
       " 'बिना': 229,\n",
       " 'सुबह': 230,\n",
       " 'दोनो': 231,\n",
       " 'जन्मदिन': 232,\n",
       " 'यकीन': 233,\n",
       " 'वाला': 234,\n",
       " 'नौकरी': 235,\n",
       " 'टीवी': 236,\n",
       " 'बाद': 237,\n",
       " 'कहा': 238,\n",
       " 'छः': 239,\n",
       " 'करी।': 240,\n",
       " 'जापान': 241,\n",
       " 'माफ़': 242,\n",
       " 'प्यार': 243,\n",
       " 'सभी': 244,\n",
       " 'शहर': 245,\n",
       " 'आपकी': 246,\n",
       " 'पढ़': 247,\n",
       " 'आवाज़': 248,\n",
       " 'रोज़': 249,\n",
       " 'नाम': 250,\n",
       " 'पीछे': 251,\n",
       " 'जाएगा।': 252,\n",
       " 'लिया': 253,\n",
       " 'किताबें': 254,\n",
       " 'दरवाज़े': 255,\n",
       " 'सच': 256,\n",
       " 'हफ़्ते': 257,\n",
       " 'नदी': 258,\n",
       " 'चाय': 259,\n",
       " 'वाले': 260,\n",
       " 'चाहिए': 261,\n",
       " 'महीने': 262,\n",
       " 'खाने': 263,\n",
       " 'वजह': 264,\n",
       " 'सही': 265,\n",
       " 'चुका': 266,\n",
       " 'कौन': 267,\n",
       " 'आने': 268,\n",
       " 'ज़रूरत': 269,\n",
       " 'सोच': 270,\n",
       " 'मुझपर': 271,\n",
       " 'इनसान': 272,\n",
       " 'विदेश': 273,\n",
       " 'पूरी': 274,\n",
       " 'हाथ': 275,\n",
       " 'रहते': 276,\n",
       " 'जानता': 277,\n",
       " 'पिताजी': 278,\n",
       " 'बड़े': 279,\n",
       " 'हुआ।': 280,\n",
       " 'शादी': 281,\n",
       " 'टीचर': 282,\n",
       " 'कपड़े': 283,\n",
       " 'पिछले': 284,\n",
       " 'दे': 285,\n",
       " 'दूसरे': 286,\n",
       " 'होते': 287,\n",
       " 'कमरा': 288,\n",
       " 'देख': 289,\n",
       " 'आपके': 290,\n",
       " 'मेज़': 291,\n",
       " 'इन': 292,\n",
       " 'लगा': 293,\n",
       " 'आमतौर': 294,\n",
       " 'सिगरेट': 295,\n",
       " 'धीरे': 296,\n",
       " 'अगले': 297,\n",
       " 'बच्चों': 298,\n",
       " 'ग़लत': 299,\n",
       " 'कृपया': 300,\n",
       " 'थी': 301,\n",
       " 'चीज़': 302,\n",
       " 'तैयार': 303,\n",
       " 'उम्र': 304,\n",
       " 'लड़के': 305,\n",
       " 'मिलने': 306,\n",
       " 'इंतेज़ार': 307,\n",
       " 'इस्तेमाल': 308,\n",
       " 'चलाना': 309,\n",
       " 'खो': 310,\n",
       " 'मिलना': 311,\n",
       " 'होगा': 312,\n",
       " 'सेव': 313,\n",
       " 'मिला।': 314,\n",
       " 'इतना': 315,\n",
       " 'उनकी': 316,\n",
       " 'काफ़ी': 317,\n",
       " 'कितनी': 318,\n",
       " 'समझ': 319,\n",
       " 'फ़ायदा': 320,\n",
       " 'उनके': 321,\n",
       " 'अंदर': 322,\n",
       " 'जाओ।': 323,\n",
       " 'भूल': 324,\n",
       " 'आग': 325,\n",
       " 'लगी': 326,\n",
       " 'आया।': 327,\n",
       " 'लग': 328,\n",
       " 'हुई।': 329,\n",
       " 'करो': 330,\n",
       " 'बहन': 331,\n",
       " '।': 332,\n",
       " 'आसान': 333,\n",
       " 'जूते': 334,\n",
       " 'जहाँ': 335,\n",
       " 'स्टेशन': 336,\n",
       " 'लगभग': 337,\n",
       " 'आदत': 338,\n",
       " 'पीना': 339,\n",
       " 'ना': 340,\n",
       " 'आठ': 341,\n",
       " 'दोपहर': 342,\n",
       " 'दिनों': 343,\n",
       " 'क्योंकि': 344,\n",
       " 'दुनिया': 345,\n",
       " 'गाँव': 346,\n",
       " 'आपका': 347,\n",
       " 'कीजिए।': 348,\n",
       " 'कैसा': 349,\n",
       " 'कुत्ते': 350,\n",
       " 'पैसों': 351,\n",
       " 'आराम': 352,\n",
       " 'मज़ाक': 353,\n",
       " 'याद': 354,\n",
       " 'खुशी': 355,\n",
       " 'बन': 356,\n",
       " 'उन': 357,\n",
       " 'जैसा': 358,\n",
       " 'पड़ी।': 359,\n",
       " 'कितना': 360,\n",
       " 'हमें': 361,\n",
       " 'आए': 362,\n",
       " 'भरोसा': 363,\n",
       " 'घड़ी': 364,\n",
       " 'सकते।': 365,\n",
       " 'पुलिस': 366,\n",
       " 'होंगे।': 367,\n",
       " 'पार्टी': 368,\n",
       " 'कॉफ़ी': 369,\n",
       " 'सवाल': 370,\n",
       " 'अक्सर': 371,\n",
       " 'मिल': 372,\n",
       " 'सकती।': 373,\n",
       " 'खबर': 374,\n",
       " 'दवाई': 375,\n",
       " 'सो': 376,\n",
       " 'मम्मी': 377,\n",
       " 'लंदन': 378,\n",
       " 'साईकल': 379,\n",
       " 'फ़र्क': 380,\n",
       " 'लगती': 381,\n",
       " 'अकेले': 382,\n",
       " 'सलाह': 383,\n",
       " 'होगी।': 384,\n",
       " 'बता': 385,\n",
       " 'चलो': 386,\n",
       " 'तैरना': 387,\n",
       " 'आपसे': 388,\n",
       " 'करूँगा।': 389,\n",
       " 'भूख': 390,\n",
       " 'बीमार': 391,\n",
       " 'मौत': 392,\n",
       " 'देखने': 393,\n",
       " 'संगीत': 394,\n",
       " 'पढ़ाई': 395,\n",
       " 'शायद': 396,\n",
       " 'आया': 397,\n",
       " 'करी': 398,\n",
       " 'मुलाकात': 399,\n",
       " 'ग़लती': 400,\n",
       " 'चालू': 401,\n",
       " 'ली।': 402,\n",
       " 'विश्वास': 403,\n",
       " 'जितना': 404,\n",
       " 'लम्बा': 405,\n",
       " 'कीजिएगा': 406,\n",
       " 'लेना': 407,\n",
       " 'पेड़': 408,\n",
       " 'डब्बे': 409,\n",
       " 'जान': 410,\n",
       " 'बताया': 411,\n",
       " 'ख़याल': 412,\n",
       " 'पड़ेगी।': 413,\n",
       " 'रखना': 414,\n",
       " 'बाल': 415,\n",
       " 'ऐसी': 416,\n",
       " 'तेज़': 417,\n",
       " 'राजा': 418,\n",
       " 'उन्हें': 419,\n",
       " 'छोटी': 420,\n",
       " 'पुराने': 421,\n",
       " 'मर': 422,\n",
       " 'ढूँढ': 423,\n",
       " 'सैर': 424,\n",
       " 'चाह्ता': 425,\n",
       " 'सफ़र': 426,\n",
       " 'समस्या': 427,\n",
       " 'तस्वीर': 428,\n",
       " 'नई': 429,\n",
       " 'सका।': 430,\n",
       " 'बीच': 431,\n",
       " 'अचानक': 432,\n",
       " 'मानो': 433,\n",
       " 'दूर': 434,\n",
       " 'लिखी': 435,\n",
       " 'देने': 436,\n",
       " 'जाकर': 437,\n",
       " 'कहना': 438,\n",
       " 'बर्दाश्त': 439,\n",
       " 'अलग': 440,\n",
       " 'निकल': 441,\n",
       " 'तू': 442,\n",
       " 'दरवाज़ा': 443,\n",
       " 'इसे': 444,\n",
       " 'मछलियाँ': 445,\n",
       " 'हमारा': 446,\n",
       " 'बिस्तर': 447,\n",
       " 'पैर': 448,\n",
       " 'पतंग': 449,\n",
       " 'शोर': 450,\n",
       " 'फिर': 451,\n",
       " 'कहानी': 452,\n",
       " 'दर्द': 453,\n",
       " 'विद्यार्थी': 454,\n",
       " 'चोरी': 455,\n",
       " 'आँखें': 456,\n",
       " 'आएगा।': 457,\n",
       " 'सकती': 458,\n",
       " 'पैदा': 459,\n",
       " 'परिवार': 460,\n",
       " 'सुंदर': 461,\n",
       " 'आती': 462,\n",
       " 'करके': 463,\n",
       " 'बुरी': 464,\n",
       " 'गर्मी': 465,\n",
       " 'जाए।': 466,\n",
       " 'देखना': 467,\n",
       " 'आसमान': 468,\n",
       " 'लगाकर': 469,\n",
       " 'काट': 470,\n",
       " 'मिला': 471,\n",
       " 'रविवार': 472,\n",
       " 'बज': 473,\n",
       " 'दीजिए।': 474,\n",
       " 'रंग': 475,\n",
       " 'अफ़वाह': 476,\n",
       " 'नाप': 477,\n",
       " 'ज़िन्दगी': 478,\n",
       " 'जानवर': 479,\n",
       " 'भाग': 480,\n",
       " 'खाली': 481,\n",
       " 'सात': 482,\n",
       " 'देश': 483,\n",
       " 'आसानी': 484,\n",
       " 'काश': 485,\n",
       " 'डर': 486,\n",
       " 'चीनी': 487,\n",
       " 'टेनिस': 488,\n",
       " 'दोनों': 489,\n",
       " 'होमवर्क': 490,\n",
       " 'जंगल': 491,\n",
       " 'अध्यापक': 492,\n",
       " 'पीने': 493,\n",
       " 'हवा': 494,\n",
       " 'जाते': 495,\n",
       " 'आना': 496,\n",
       " 'खिड़की': 497,\n",
       " 'दुर्घटना': 498,\n",
       " 'फ़िल्म': 499,\n",
       " 'भूलना।': 500,\n",
       " 'ऐसा': 501,\n",
       " 'पूरे': 502,\n",
       " 'वादा': 503,\n",
       " 'इसके': 504,\n",
       " 'बजाय': 505,\n",
       " 'सड़क': 506,\n",
       " 'बोली': 507,\n",
       " 'बड़ी': 508,\n",
       " 'भाषा': 509,\n",
       " 'राजधानी': 510,\n",
       " 'रहना': 511,\n",
       " 'जैसे': 512,\n",
       " 'इतने': 513,\n",
       " 'ज़िम्मेदार': 514,\n",
       " 'अंतर': 515,\n",
       " 'बच्चा': 516,\n",
       " 'मशीन': 517,\n",
       " 'वैसा': 518,\n",
       " 'लगते': 519,\n",
       " 'आओ।': 520,\n",
       " 'लो।': 521,\n",
       " 'फूल': 522,\n",
       " 'खरीदना': 523,\n",
       " 'आऊँगा।': 524,\n",
       " 'गरम': 525,\n",
       " 'ज़रूरी': 526,\n",
       " 'आई': 527,\n",
       " 'सुनाई': 528,\n",
       " 'गिटार': 529,\n",
       " 'बिजली': 530,\n",
       " 'बारी': 531,\n",
       " 'रहें': 532,\n",
       " 'खराब': 533,\n",
       " 'सच्चाई': 534,\n",
       " 'जानते': 535,\n",
       " 'रहती': 536,\n",
       " 'किसने': 537,\n",
       " 'सा': 538,\n",
       " 'i': 539,\n",
       " 'छोटा': 540,\n",
       " 'जंग': 541,\n",
       " 'चुके': 542,\n",
       " 'कौनसा': 543,\n",
       " 'अमीर': 544,\n",
       " 'पड़ेगा।': 545,\n",
       " 'आओगे': 546,\n",
       " 'पढ़ना': 547,\n",
       " 'बना': 548,\n",
       " 'कामयाब': 549,\n",
       " 'सहमत': 550,\n",
       " 'पीठ': 551,\n",
       " 'फ़ैसला': 552,\n",
       " 'निराश': 553,\n",
       " 'चुकी': 554,\n",
       " 'अफ़सर': 555,\n",
       " 'गरीब': 556,\n",
       " 'हमको': 557,\n",
       " 'विज्ञान': 558,\n",
       " 'लम्बी': 559,\n",
       " 'झील': 560,\n",
       " 'पूरा': 561,\n",
       " 'चहिए।': 562,\n",
       " 'औरत': 563,\n",
       " 'जाऊँगा।': 564,\n",
       " 'साढ़े': 565,\n",
       " 'बजाना': 566,\n",
       " 'वाली': 567,\n",
       " 'अजीब': 568,\n",
       " 'ग़लतियाँ': 569,\n",
       " 'पहुँच': 570,\n",
       " 'बोल': 571,\n",
       " 'खेलना': 572,\n",
       " 'उसपर': 573,\n",
       " 'इससे': 574,\n",
       " 'सामने': 575,\n",
       " 'खड़े': 576,\n",
       " 'लगाया।': 577,\n",
       " 'बीमारी': 578,\n",
       " 'किस': 579,\n",
       " 'कनाडा': 580,\n",
       " 'सीखना': 581,\n",
       " 'डॉलर': 582,\n",
       " 'उठा': 583,\n",
       " 'दिलचस्पी': 584,\n",
       " 'बुराई': 585,\n",
       " 'क्लास': 586,\n",
       " 'दिलचस्प': 587,\n",
       " 'रुक': 588,\n",
       " 'केवल': 589,\n",
       " 'आखिरकार': 590,\n",
       " 'बोलना': 591,\n",
       " 'नम्बर': 592,\n",
       " 'सौ': 593,\n",
       " 'असली': 594,\n",
       " 'सुनकर': 595,\n",
       " 'जाएगी।': 596,\n",
       " 'शौक': 597,\n",
       " 'जहाज़': 598,\n",
       " 'रहने': 599,\n",
       " 'करोगे': 600,\n",
       " 'विषय': 601,\n",
       " 'जितनी': 602,\n",
       " 'चीन': 603,\n",
       " 'स्वास्थ्य': 604,\n",
       " 'पढ़ने': 605,\n",
       " 'पहाड़': 606,\n",
       " 'लिख': 607,\n",
       " 'पाया।': 608,\n",
       " 'अम्रीका': 609,\n",
       " 'देखभाल': 610,\n",
       " 'छोटे': 611,\n",
       " 'पा': 612,\n",
       " 'पहचान': 613,\n",
       " 'तब': 614,\n",
       " 'मज़े': 615,\n",
       " 'पेट': 616,\n",
       " 'चलें': 617,\n",
       " 'मत।': 618,\n",
       " 'खड़ा': 619,\n",
       " 'कैसी': 620,\n",
       " 'फ़्रानसीसी': 621,\n",
       " 'पता।': 622,\n",
       " 'बरफ़': 623,\n",
       " 'गिर': 624,\n",
       " 'मुफ़्त': 625,\n",
       " 'नीचे': 626,\n",
       " 'उड़': 627,\n",
       " 'लड़का': 628,\n",
       " 'कमी': 629,\n",
       " 'इतिहास': 630,\n",
       " 'रहूँगा।': 631,\n",
       " 'भगवान': 632,\n",
       " 'करता।': 633,\n",
       " 'बस्ता': 634,\n",
       " 'पहनी': 635,\n",
       " 'मूँह': 636,\n",
       " 'बक': 637,\n",
       " 'ऊपर': 638,\n",
       " 'लम्बे': 639,\n",
       " 'आस': 640,\n",
       " 'पड़ोस': 641,\n",
       " 'अप्रैल': 642,\n",
       " 'चाबी': 643,\n",
       " 'लगा।': 644,\n",
       " 'बैंक': 645,\n",
       " 'मिलेंगे।': 646,\n",
       " 'सवालों': 647,\n",
       " 'महसूस': 648,\n",
       " 'दिखने': 649,\n",
       " 'खरीदी।': 650,\n",
       " 'जीत': 651,\n",
       " 'चाहूँगा।': 652,\n",
       " 'रही।': 653,\n",
       " 'चिंता': 654,\n",
       " 'की।': 655,\n",
       " 'योजना': 656,\n",
       " 'खा': 657,\n",
       " 'मछली': 658,\n",
       " 'खुला': 659,\n",
       " 'ग्यारह': 660,\n",
       " 'लाल': 661,\n",
       " 'ड्रेस': 662,\n",
       " 'ओर': 663,\n",
       " 'राज़': 664,\n",
       " 'प्रस्ताव': 665,\n",
       " 'स्वीकार': 666,\n",
       " 'सारा': 667,\n",
       " 'आता।': 668,\n",
       " 'नफ़रत': 669,\n",
       " 'कहीं': 670,\n",
       " 'लगाई।': 671,\n",
       " 'परेशान': 672,\n",
       " 'आएगा': 673,\n",
       " 'भला': 674,\n",
       " 'गाना': 675,\n",
       " 'जापानी': 676,\n",
       " 'खुद': 677,\n",
       " 'बत्ती': 678,\n",
       " 'दूध': 679,\n",
       " 'मेहनत': 680,\n",
       " 'तरफ़': 681,\n",
       " 'सके': 682,\n",
       " 'दूँगा।': 683,\n",
       " 'कुरसी': 684,\n",
       " 'आई।': 685,\n",
       " 'डब्बा': 686,\n",
       " 'खोल': 687,\n",
       " 'संतुष्ट': 688,\n",
       " 'उपन्यास': 689,\n",
       " 'जी': 690,\n",
       " 'कप': 691,\n",
       " 'सोने': 692,\n",
       " 'सेहत': 693,\n",
       " 'पत्नी': 694,\n",
       " 'मिनट': 695,\n",
       " 'लेने': 696,\n",
       " 'टोक्यो': 697,\n",
       " 'हाँ': 698,\n",
       " 'कठिन': 699,\n",
       " 'अटैची': 700,\n",
       " 'रो': 701,\n",
       " 'पसंदीता': 702,\n",
       " 'बदलने': 703,\n",
       " 'मील': 704,\n",
       " 'बिलकुल': 705,\n",
       " 'मे': 706,\n",
       " 'शब्द': 707,\n",
       " 'वाक्य': 708,\n",
       " 'हिसाब': 709,\n",
       " 'घंटे': 710,\n",
       " 'यूरोप': 711,\n",
       " 'नियम': 712,\n",
       " 'पार': 713,\n",
       " 'सपना': 714,\n",
       " 'नगर': 715,\n",
       " 'होतीं': 716,\n",
       " 'दुकान': 717,\n",
       " 'हमसे': 718,\n",
       " 'आते': 719,\n",
       " 'चाहती': 720,\n",
       " 'टिकटें': 721,\n",
       " 'अमेरिका': 722,\n",
       " 'अफ़्रीका': 723,\n",
       " 'बेटे': 724,\n",
       " 'पकड़': 725,\n",
       " 'हद': 726,\n",
       " 'इसलिए': 727,\n",
       " 'रवाना': 728,\n",
       " 'इरादा': 729,\n",
       " 'जाऊँगी।': 730,\n",
       " 'लिखा': 731,\n",
       " 'बेहतर': 732,\n",
       " 'बहनें': 733,\n",
       " 'आजकल': 734,\n",
       " 'बेचैन': 735,\n",
       " 'ढूँढने': 736,\n",
       " 'विमान': 737,\n",
       " 'सुन': 738,\n",
       " 'पहली': 739,\n",
       " 'सामान': 740,\n",
       " 'पैरिस': 741,\n",
       " 'कई': 742,\n",
       " 'ख़रीद': 743,\n",
       " 'चोर': 744,\n",
       " 'दोस्तों': 745,\n",
       " 'रह': 746,\n",
       " 'मुताबिक': 747,\n",
       " 'क्रिकेट': 748,\n",
       " 'शौकिया': 749,\n",
       " 'खिलाड़ी': 750,\n",
       " 'कर्मचारियों': 751,\n",
       " 'ब्रिज': 752,\n",
       " 'देते': 753,\n",
       " 'सरकार': 754,\n",
       " 'अनुवाद': 755,\n",
       " 'परीक्षा': 756,\n",
       " 'वाह': 757,\n",
       " 'जाओ': 758,\n",
       " 'भर': 759,\n",
       " 'पंछी': 760,\n",
       " 'बोर': 761,\n",
       " 'ठंड': 762,\n",
       " 'मालूम': 763,\n",
       " 'गाते': 764,\n",
       " 'बैठिए।': 765,\n",
       " 'नया': 766,\n",
       " 'केक': 767,\n",
       " 'मुबारक': 768,\n",
       " 'समझता': 769,\n",
       " 'मान': 770,\n",
       " 'व्यस्थ': 771,\n",
       " 'बिल्ली': 772,\n",
       " 'सकतीं': 773,\n",
       " 'नक्शा': 774,\n",
       " 'गोली': 775,\n",
       " 'नए': 776,\n",
       " 'धोओ।': 777,\n",
       " 'पागल': 778,\n",
       " 'टोपी': 779,\n",
       " 'पति': 780,\n",
       " 'उल्टी': 781,\n",
       " 'नसीब': 782,\n",
       " 'रोना': 783,\n",
       " 'सिखा': 784,\n",
       " 'चावल': 785,\n",
       " 'बोलता': 786,\n",
       " 'कौनसी': 787,\n",
       " 'नीली': 788,\n",
       " 'शादीशुदा': 789,\n",
       " 'रेडियो': 790,\n",
       " 'वो': 791,\n",
       " 'महंगा': 792,\n",
       " 'महंगी': 793,\n",
       " 'रेलगाड़ी': 794,\n",
       " 'कौआ': 795,\n",
       " 'तोड़': 796,\n",
       " 'बनाया': 797,\n",
       " 'पुरानी': 798,\n",
       " 'बताने': 799,\n",
       " 'शराब': 800,\n",
       " 'बेसबॉल': 801,\n",
       " 'लिखना': 802,\n",
       " 'कमीज़': 803,\n",
       " 'टैक्स': 804,\n",
       " 'पेनसिल': 805,\n",
       " 'बोलते': 806,\n",
       " 'समुंदर': 807,\n",
       " 'कामयाबी': 808,\n",
       " 'गुस्सा': 809,\n",
       " 'उधार': 810,\n",
       " 'होना': 811,\n",
       " 'प्रतीक्षा': 812,\n",
       " 'ज़ुकाम': 813,\n",
       " 'पहने': 814,\n",
       " 'भूत': 815,\n",
       " 'लगतीं': 816,\n",
       " 'तेज़ी': 817,\n",
       " 'जाओगे': 818,\n",
       " 'रख': 819,\n",
       " 'अंडे': 820,\n",
       " 'व्यापार': 821,\n",
       " 'थोड़े': 822,\n",
       " 'घोड़े': 823,\n",
       " 'उनका': 824,\n",
       " 'छलाँग': 825,\n",
       " 'इसको': 826,\n",
       " 'गेंद': 827,\n",
       " 'बैठ': 828,\n",
       " 'बताओ': 829,\n",
       " 'छूट': 830,\n",
       " 'उनको': 831,\n",
       " 'जैसी': 832,\n",
       " 'बोलो।': 833,\n",
       " 'लेता': 834,\n",
       " 'खटखटाया।': 835,\n",
       " 'डाला।': 836,\n",
       " 'बुखार': 837,\n",
       " 'उठता': 838,\n",
       " 'नौ': 839,\n",
       " 'ठंडा': 840,\n",
       " 'पियानो': 841,\n",
       " 'तेल': 842,\n",
       " 'उतना': 843,\n",
       " 'निर्णय': 844,\n",
       " 'फ़ुटबॉल': 845,\n",
       " 'इलज़ाम': 846,\n",
       " 'गिलास': 847,\n",
       " 'बजने': 848,\n",
       " 'लकड़ी': 849,\n",
       " 'चार': 850,\n",
       " 'कैंसर': 851,\n",
       " 'मुलाक़ात': 852,\n",
       " 'टैक्सी': 853,\n",
       " 'ध्यान': 854,\n",
       " 'इनकार': 855,\n",
       " 'कीमत': 856,\n",
       " 'किनारे': 857,\n",
       " 'सज़ा': 858,\n",
       " 'गाड़ियाँ': 859,\n",
       " 'दिखाई': 860,\n",
       " 'होती।': 861,\n",
       " 'मुसीबत': 862,\n",
       " 'देखकर': 863,\n",
       " 'छाया': 864,\n",
       " 'धन्यवाद।': 865,\n",
       " 'बनी': 866,\n",
       " 'रोने': 867,\n",
       " 'पड़ा।': 868,\n",
       " 'बीस': 869,\n",
       " 'रक्षा': 870,\n",
       " 'जगह': 871,\n",
       " 'होगी': 872,\n",
       " 'फूलों': 873,\n",
       " 'खाते': 874,\n",
       " 'छोड़ने': 875,\n",
       " 'पड़ता।': 876,\n",
       " 'समान': 877,\n",
       " 'बॉस': 878,\n",
       " 'सर': 879,\n",
       " 'चोट': 880,\n",
       " 'दोगे': 881,\n",
       " 'अगली': 882,\n",
       " 'बर्ताव': 883,\n",
       " 'ओसाका': 884,\n",
       " 'बर्बादी': 885,\n",
       " 'धीमी': 886,\n",
       " 'बचा': 887,\n",
       " 'लिए।': 888,\n",
       " 'मना': 889,\n",
       " 'खेलने': 890,\n",
       " 'चाहेंगे': 891,\n",
       " 'दफ़्तर': 892,\n",
       " 'सुथरा': 893,\n",
       " 'भाषण': 894,\n",
       " 'खेल': 895,\n",
       " 'खूबसूरत': 896,\n",
       " 'नतीजे': 897,\n",
       " 'खेत': 898,\n",
       " 'नानी': 899,\n",
       " 'सीधे': 900,\n",
       " 'इटली': 901,\n",
       " 'अलावा': 902,\n",
       " 'जनसंख्या': 903,\n",
       " 'सी': 904,\n",
       " 'चीज़ें': 905,\n",
       " 'मक्खन': 906,\n",
       " 'उठाया।': 907,\n",
       " 'सोमवार': 908,\n",
       " 'घंटों': 909,\n",
       " 'जाता।': 910,\n",
       " 'सपने': 911,\n",
       " 'डाक': 912,\n",
       " 'मानते': 913,\n",
       " 'उनसे': 914,\n",
       " 'सोते': 915,\n",
       " 'पत्र': 916,\n",
       " 'खड़ी': 917,\n",
       " 'तुमको': 918,\n",
       " 'कविता': 919,\n",
       " 'निकालते': 920,\n",
       " 'छत': 921,\n",
       " 'रहा।': 922,\n",
       " 'सूरज': 923,\n",
       " 'बातचीत': 924,\n",
       " 'विश्व': 925,\n",
       " 'कब्रिस्तान': 926,\n",
       " 'स्टॉप': 927,\n",
       " 'ऐसे': 928,\n",
       " 'देता': 929,\n",
       " 'जल्दबाज़ी': 930,\n",
       " 'अखबार': 931,\n",
       " 'पालन': 932,\n",
       " 'रूप': 933,\n",
       " 'उत्तर': 934,\n",
       " 'कहा।': 935,\n",
       " 'शर्म': 936,\n",
       " 'पचास': 937,\n",
       " 'तस्वीरें': 938,\n",
       " 'अस्पताल': 939,\n",
       " 'कम्प्यूटर': 940,\n",
       " 'इतनी': 941,\n",
       " 'दिल्ली': 942,\n",
       " 'मीटिंग': 943,\n",
       " 'चलती': 944,\n",
       " 'उठते': 945,\n",
       " 'वसीयत': 946,\n",
       " 'जानना': 947,\n",
       " 'हैरान': 948,\n",
       " 'जेब': 949,\n",
       " 'पकड़ा': 950,\n",
       " 'मौके': 951,\n",
       " 'बुलाया': 952,\n",
       " 'कम्पनी': 953,\n",
       " 'कॉलेज': 954,\n",
       " 'जाया': 955,\n",
       " 'चाहे': 956,\n",
       " 'जाए': 957,\n",
       " 'लायक': 958,\n",
       " 'देगी।': 959,\n",
       " 'कहने': 960,\n",
       " 'पाया': 961,\n",
       " 'राज़ी': 962,\n",
       " 'बत्तियाँ': 963,\n",
       " 'पहचानता': 964,\n",
       " 'इंग्लैंड': 965,\n",
       " 'बूढ़ा': 966,\n",
       " 'थीं।': 967,\n",
       " 'जिसे': 968,\n",
       " 'दिख': 969,\n",
       " 'रास्ते': 970,\n",
       " 'पुस्तकालय': 971,\n",
       " 'माता': 972,\n",
       " 'जिससे': 973,\n",
       " 'सोचता': 974,\n",
       " 'पड़ता': 975,\n",
       " 'टेरेसा': 976,\n",
       " 'समझे': 977,\n",
       " 'करना।': 978,\n",
       " 'मौज': 979,\n",
       " 'बेहोश': 980,\n",
       " 'शाबाश': 981,\n",
       " 'किसको': 982,\n",
       " 'किसे': 983,\n",
       " 'पीछा': 984,\n",
       " 'तैर': 985,\n",
       " 'ताकतवर': 986,\n",
       " 'गणित': 987,\n",
       " 'जाना।': 988,\n",
       " 'हार': 989,\n",
       " 'खोलो।': 990,\n",
       " 'आईए।': 991,\n",
       " 'दोबारा': 992,\n",
       " 'दाढ़ी': 993,\n",
       " 'हों': 994,\n",
       " 'चुकीं': 995,\n",
       " 'करेंगे।': 996,\n",
       " 'आना।': 997,\n",
       " 'भागते': 998,\n",
       " 'अरबी': 999,\n",
       " 'बदतमीज़': 1000,\n",
       " ...}"
      ]
     },
     "execution_count": 32,
     "metadata": {
      "tags": []
     },
     "output_type": "execute_result"
    }
   ],
   "source": [
    "decoder_t.word_index"
   ]
  },
  {
   "cell_type": "code",
   "execution_count": 21,
   "metadata": {
    "colab": {
     "base_uri": "https://localhost:8080/",
     "height": 52
    },
    "colab_type": "code",
    "id": "UBc04weZfl6_",
    "outputId": "d651c9c6-d316-4161-ebbd-7cc3766f6546"
   },
   "outputs": [
    {
     "name": "stdout",
     "output_type": "stream",
     "text": [
      "Maximum sentence length for Target language:  27\n",
      "Target language vocablury size:  2992\n"
     ]
    }
   ],
   "source": [
    "#Maximum length of sentence\n",
    "max_decoder_seq_length = max([len(txt) for txt in decoder_seq])\n",
    "print('Maximum sentence length for Target language: ', max_decoder_seq_length)\n",
    "\n",
    "#Target language Vocablury\n",
    "decoder_vocab_size = len(decoder_t.word_index)\n",
    "print('Target language vocablury size: ', decoder_vocab_size)"
   ]
  },
  {
   "cell_type": "markdown",
   "metadata": {
    "colab_type": "text",
    "id": "G1yy4pK1fl7D"
   },
   "source": [
    "### Compare different sentences length"
   ]
  },
  {
   "cell_type": "code",
   "execution_count": 22,
   "metadata": {
    "colab": {
     "base_uri": "https://localhost:8080/",
     "height": 52
    },
    "colab_type": "code",
    "id": "uGjnnsT6fl7E",
    "outputId": "ac98f174-5462-49a2-851c-d4916112943b"
   },
   "outputs": [
    {
     "name": "stdout",
     "output_type": "stream",
     "text": [
      "Length for sentence number 100:  3\n",
      "Length for sentence number 2000:  7\n"
     ]
    }
   ],
   "source": [
    "#Source Language sentences\n",
    "print('Length for sentence number 100: ', len(encoder_seq[100]))\n",
    "print('Length for sentence number 2000: ', len(encoder_seq[2000]))"
   ]
  },
  {
   "cell_type": "code",
   "execution_count": 0,
   "metadata": {
    "colab": {},
    "colab_type": "code",
    "id": "A_1Rd4inqQfo"
   },
   "outputs": [],
   "source": [
    "# word at index no 100 has lenghth 3 and word at index no 2000 has lenghth 7"
   ]
  },
  {
   "cell_type": "code",
   "execution_count": 23,
   "metadata": {
    "colab": {
     "base_uri": "https://localhost:8080/",
     "height": 52
    },
    "colab_type": "code",
    "id": "Tk4wXJwDfl7H",
    "outputId": "69a17f2f-bb93-49aa-ef12-e9ba6b965662"
   },
   "outputs": [
    {
     "name": "stdout",
     "output_type": "stream",
     "text": [
      "Length for sentence number 100:  5\n",
      "Length for sentence number 2000:  13\n"
     ]
    }
   ],
   "source": [
    "#Target Language sentences\n",
    "print('Length for sentence number 100: ', len(decoder_seq[100]))\n",
    "print('Length for sentence number 2000: ', len(decoder_seq[2000]))"
   ]
  },
  {
   "cell_type": "code",
   "execution_count": 0,
   "metadata": {
    "colab": {},
    "colab_type": "code",
    "id": "55XgyedBqbeb"
   },
   "outputs": [],
   "source": [
    "# word at index no 100 has lenghth 5 and word at index no 2000 has lenghth 13"
   ]
  },
  {
   "cell_type": "markdown",
   "metadata": {
    "colab_type": "text",
    "id": "NoPv4Lngfl7K"
   },
   "source": [
    "### How do we make it same?"
   ]
  },
  {
   "cell_type": "markdown",
   "metadata": {
    "colab_type": "text",
    "id": "5PMMBddPfl7L"
   },
   "source": [
    "### Padding the sentences"
   ]
  },
  {
   "cell_type": "code",
   "execution_count": 0,
   "metadata": {
    "colab": {},
    "colab_type": "code",
    "id": "mZteu7yOfl7M"
   },
   "outputs": [],
   "source": [
    "#Source sentences\n",
    "encoder_input_data = tf.keras.preprocessing.sequence.pad_sequences(encoder_seq, \n",
    "                                                                   maxlen=max_encoder_seq_length, #22\n",
    "                                                                   padding='pre')\n",
    "\n",
    "#Target Sentences\n",
    "decoder_input_data = tf.keras.preprocessing.sequence.pad_sequences(decoder_seq, \n",
    "                                                                   maxlen=max_decoder_seq_length, #27\n",
    "                                                                   padding='post')"
   ]
  },
  {
   "cell_type": "code",
   "execution_count": 25,
   "metadata": {
    "colab": {
     "base_uri": "https://localhost:8080/",
     "height": 52
    },
    "colab_type": "code",
    "id": "WfpWaKgMfl7U",
    "outputId": "9c2b7781-503d-4d23-8451-48acf1c86b24"
   },
   "outputs": [
    {
     "name": "stdout",
     "output_type": "stream",
     "text": [
      "Source data shape:  (2808, 22)\n",
      "Target data shape:  (2808, 27)\n"
     ]
    }
   ],
   "source": [
    "print('Source data shape: ', encoder_input_data.shape)\n",
    "print('Target data shape: ', decoder_input_data.shape)"
   ]
  },
  {
   "cell_type": "code",
   "execution_count": 33,
   "metadata": {
    "colab": {
     "base_uri": "https://localhost:8080/",
     "height": 35
    },
    "colab_type": "code",
    "id": "miayBNRKfl7Z",
    "outputId": "d9c5ecea-db31-4de5-b532-0d01fe9f0fa9"
   },
   "outputs": [
    {
     "data": {
      "text/plain": [
       "'Have fun.'"
      ]
     },
     "execution_count": 33,
     "metadata": {
      "tags": []
     },
     "output_type": "execute_result"
    }
   ],
   "source": [
    "encoder_text[20]"
   ]
  },
  {
   "cell_type": "code",
   "execution_count": 34,
   "metadata": {
    "colab": {
     "base_uri": "https://localhost:8080/",
     "height": 52
    },
    "colab_type": "code",
    "id": "oZP5sXFMfl7c",
    "outputId": "2c6a1d47-e368-4680-831f-6a2499ff214f"
   },
   "outputs": [
    {
     "data": {
      "text/plain": [
       "array([  0,   0,   0,   0,   0,   0,   0,   0,   0,   0,   0,   0,   0,\n",
       "         0,   0,   0,   0,   0,   0,   0,  14, 277], dtype=int32)"
      ]
     },
     "execution_count": 34,
     "metadata": {
      "tags": []
     },
     "output_type": "execute_result"
    }
   ],
   "source": [
    "encoder_input_data[20]"
   ]
  },
  {
   "cell_type": "code",
   "execution_count": 35,
   "metadata": {
    "colab": {
     "base_uri": "https://localhost:8080/",
     "height": 35
    },
    "colab_type": "code",
    "id": "fxsmfT_Bfl7g",
    "outputId": "d594affe-c80b-4e2b-c97f-81e14cacae22"
   },
   "outputs": [
    {
     "data": {
      "text/plain": [
       "'<start> मज़े करना। <end>'"
      ]
     },
     "execution_count": 35,
     "metadata": {
      "tags": []
     },
     "output_type": "execute_result"
    }
   ],
   "source": [
    "decoder_text[20]"
   ]
  },
  {
   "cell_type": "code",
   "execution_count": 36,
   "metadata": {
    "colab": {
     "base_uri": "https://localhost:8080/",
     "height": 69
    },
    "colab_type": "code",
    "id": "PKLwi-xkfl7k",
    "outputId": "c043ab11-fb68-4a62-d94c-7cef093f43ba"
   },
   "outputs": [
    {
     "data": {
      "text/plain": [
       "array([  1, 615, 978,   2,   0,   0,   0,   0,   0,   0,   0,   0,   0,\n",
       "         0,   0,   0,   0,   0,   0,   0,   0,   0,   0,   0,   0,   0,\n",
       "         0], dtype=int32)"
      ]
     },
     "execution_count": 36,
     "metadata": {
      "tags": []
     },
     "output_type": "execute_result"
    }
   ],
   "source": [
    "decoder_input_data[20]"
   ]
  },
  {
   "cell_type": "markdown",
   "metadata": {
    "colab_type": "text",
    "id": "YF4DUwvpfl7n"
   },
   "source": [
    "#### Integer to Word converter for Decoder data"
   ]
  },
  {
   "cell_type": "code",
   "execution_count": 0,
   "metadata": {
    "colab": {},
    "colab_type": "code",
    "id": "ySTFFvTafl7o"
   },
   "outputs": [],
   "source": [
    "int_to_word_decoder = dict((i,c) for c, i in decoder_t.word_index.items())"
   ]
  },
  {
   "cell_type": "code",
   "execution_count": 38,
   "metadata": {
    "colab": {
     "base_uri": "https://localhost:8080/",
     "height": 35
    },
    "colab_type": "code",
    "id": "vEXTTKm-fl7q",
    "outputId": "e6d6fe6c-f82a-439b-e98e-6cea946d5dd0"
   },
   "outputs": [
    {
     "data": {
      "text/plain": [
       "'की'"
      ]
     },
     "execution_count": 38,
     "metadata": {
      "tags": []
     },
     "output_type": "execute_result"
    }
   ],
   "source": [
    "int_to_word_decoder[15]"
   ]
  },
  {
   "cell_type": "markdown",
   "metadata": {
    "colab_type": "text",
    "id": "bR9aockMfl7s"
   },
   "source": [
    "### Building Decoder Output"
   ]
  },
  {
   "cell_type": "code",
   "execution_count": 39,
   "metadata": {
    "colab": {
     "base_uri": "https://localhost:8080/",
     "height": 35
    },
    "colab_type": "code",
    "id": "Jlc4nfysfl7t",
    "outputId": "46309fd0-bc91-46ed-b848-fc32b97e3ceb"
   },
   "outputs": [
    {
     "data": {
      "text/plain": [
       "(2808, 27)"
      ]
     },
     "execution_count": 39,
     "metadata": {
      "tags": []
     },
     "output_type": "execute_result"
    }
   ],
   "source": [
    "decoder_input_data.shape"
   ]
  },
  {
   "cell_type": "code",
   "execution_count": 0,
   "metadata": {
    "colab": {},
    "colab_type": "code",
    "id": "Gr3ZiB8Wfl7v"
   },
   "outputs": [],
   "source": [
    "import numpy as np\n",
    "\n",
    "#Initialize array\n",
    "decoder_target_data = np.zeros((decoder_input_data.shape[0], decoder_input_data.shape[1]))\n",
    "\n",
    "#Shift Target output by one word\n",
    "for i in range(decoder_input_data.shape[0]):\n",
    "    for j in range(1,decoder_input_data.shape[1]):\n",
    "        decoder_target_data[i][j-1] = decoder_input_data[i][j]"
   ]
  },
  {
   "cell_type": "code",
   "execution_count": 0,
   "metadata": {
    "colab": {},
    "colab_type": "code",
    "id": "B5rY-a3Pfl7y"
   },
   "outputs": [],
   "source": [
    "#decoder_t.word_index"
   ]
  },
  {
   "cell_type": "code",
   "execution_count": 0,
   "metadata": {
    "colab": {},
    "colab_type": "code",
    "id": "len4F7pkfl71"
   },
   "outputs": [],
   "source": [
    "#<start> yeh kitab hai <end>\n",
    "#Yeh kitab hai <end> 0"
   ]
  },
  {
   "cell_type": "code",
   "execution_count": 43,
   "metadata": {
    "colab": {
     "base_uri": "https://localhost:8080/",
     "height": 69
    },
    "colab_type": "code",
    "id": "ujM8blLdfl77",
    "outputId": "767baf61-8444-401f-9b8b-5dc9e805f8a5"
   },
   "outputs": [
    {
     "data": {
      "text/plain": [
       "array([  1, 757,   2,   0,   0,   0,   0,   0,   0,   0,   0,   0,   0,\n",
       "         0,   0,   0,   0,   0,   0,   0,   0,   0,   0,   0,   0,   0,\n",
       "         0], dtype=int32)"
      ]
     },
     "execution_count": 43,
     "metadata": {
      "tags": []
     },
     "output_type": "execute_result"
    }
   ],
   "source": [
    "decoder_input_data[0]"
   ]
  },
  {
   "cell_type": "code",
   "execution_count": 44,
   "metadata": {
    "colab": {
     "base_uri": "https://localhost:8080/",
     "height": 69
    },
    "colab_type": "code",
    "id": "YIORb0-3fl7-",
    "outputId": "b604979a-a589-4275-c160-dc8d54327fa9"
   },
   "outputs": [
    {
     "data": {
      "text/plain": [
       "array([757.,   2.,   0.,   0.,   0.,   0.,   0.,   0.,   0.,   0.,   0.,\n",
       "         0.,   0.,   0.,   0.,   0.,   0.,   0.,   0.,   0.,   0.,   0.,\n",
       "         0.,   0.,   0.,   0.,   0.])"
      ]
     },
     "execution_count": 44,
     "metadata": {
      "tags": []
     },
     "output_type": "execute_result"
    }
   ],
   "source": [
    "decoder_target_data[0]"
   ]
  },
  {
   "cell_type": "markdown",
   "metadata": {
    "colab_type": "text",
    "id": "nDyO3nQUfl8A"
   },
   "source": [
    "#### Convert target data in one hot vector"
   ]
  },
  {
   "cell_type": "code",
   "execution_count": 0,
   "metadata": {
    "colab": {},
    "colab_type": "code",
    "id": "o2U1OCtMfl8B"
   },
   "outputs": [],
   "source": [
    "#Initialize one hot encoding array\n",
    "decoder_target_one_hot = np.zeros((decoder_input_data.shape[0], #number of sentences\n",
    "                                   decoder_input_data.shape[1], #Number of words in each sentence\n",
    "                                   len(decoder_t.word_index)+1)) #Vocab size + 1"
   ]
  },
  {
   "cell_type": "code",
   "execution_count": 46,
   "metadata": {
    "colab": {
     "base_uri": "https://localhost:8080/",
     "height": 35
    },
    "colab_type": "code",
    "id": "N4-U7rWtfl8D",
    "outputId": "c1015393-73a8-4fb5-9794-0cd26fdfe843"
   },
   "outputs": [
    {
     "data": {
      "text/plain": [
       "(2808, 27, 2993)"
      ]
     },
     "execution_count": 46,
     "metadata": {
      "tags": []
     },
     "output_type": "execute_result"
    }
   ],
   "source": [
    "decoder_target_one_hot.shape"
   ]
  },
  {
   "cell_type": "code",
   "execution_count": 0,
   "metadata": {
    "colab": {},
    "colab_type": "code",
    "id": "aum2qfX2fl8G"
   },
   "outputs": [],
   "source": [
    "#Build one hot encoded array\n",
    "for i in range(decoder_target_data.shape[0]):\n",
    "    for j in range(decoder_target_data.shape[1]):\n",
    "        decoder_target_one_hot[i][j] = tf.keras.utils.to_categorical(decoder_target_data[i][j],\n",
    "                                                                     num_classes=len(decoder_t.word_index)+1)    "
   ]
  },
  {
   "cell_type": "code",
   "execution_count": 48,
   "metadata": {
    "colab": {
     "base_uri": "https://localhost:8080/",
     "height": 35
    },
    "colab_type": "code",
    "id": "mzeFq0Nffl8K",
    "outputId": "ad735c70-edf2-47fe-d80d-f948169c0e92"
   },
   "outputs": [
    {
     "data": {
      "text/plain": [
       "(2808, 27, 2993)"
      ]
     },
     "execution_count": 48,
     "metadata": {
      "tags": []
     },
     "output_type": "execute_result"
    }
   ],
   "source": [
    "decoder_target_one_hot.shape"
   ]
  },
  {
   "cell_type": "markdown",
   "metadata": {
    "colab_type": "text",
    "id": "5yTTFxIzfl8N"
   },
   "source": [
    "### Building the Training Model"
   ]
  },
  {
   "cell_type": "code",
   "execution_count": 0,
   "metadata": {
    "colab": {},
    "colab_type": "code",
    "id": "2WWQaJdwfl8O"
   },
   "outputs": [],
   "source": [
    "#Define config parameters\n",
    "encoder_embedding_size = 50\n",
    "decoder_embedding_size = 50\n",
    "rnn_units = 256"
   ]
  },
  {
   "cell_type": "markdown",
   "metadata": {
    "colab_type": "text",
    "id": "3X2v2rwffl8Q"
   },
   "source": [
    "#### Build Encoder"
   ]
  },
  {
   "cell_type": "code",
   "execution_count": 50,
   "metadata": {
    "colab": {
     "base_uri": "https://localhost:8080/",
     "height": 141
    },
    "colab_type": "code",
    "id": "LKHCtheVfl8Q",
    "outputId": "7fbf9080-7b92-44c0-8797-744af5e58539"
   },
   "outputs": [
    {
     "name": "stdout",
     "output_type": "stream",
     "text": [
      "WARNING:tensorflow:From /usr/local/lib/python3.6/dist-packages/tensorflow/python/keras/initializers.py:119: calling RandomUniform.__init__ (from tensorflow.python.ops.init_ops) with dtype is deprecated and will be removed in a future version.\n",
      "Instructions for updating:\n",
      "Call initializer instance with the dtype argument instead of passing it to the constructor\n",
      "WARNING:tensorflow:From /usr/local/lib/python3.6/dist-packages/tensorflow/python/ops/init_ops.py:1251: calling VarianceScaling.__init__ (from tensorflow.python.ops.init_ops) with dtype is deprecated and will be removed in a future version.\n",
      "Instructions for updating:\n",
      "Call initializer instance with the dtype argument instead of passing it to the constructor\n"
     ]
    }
   ],
   "source": [
    "#Input Layer\n",
    "encoder_inputs = tf.keras.layers.Input(shape=(None,))\n",
    "\n",
    "#Embedding layer\n",
    "encoder_embedding = tf.keras.layers.Embedding(encoder_vocab_size+1, encoder_embedding_size)\n",
    "\n",
    "#Get embedding layer output by feeding inputs\n",
    "encoder_embedding_output = encoder_embedding(encoder_inputs)\n",
    "\n",
    "#LSTM Layer and its output\n",
    "x, state_h, state_c = tf.keras.layers.LSTM(rnn_units,return_state=True)(encoder_embedding_output)\n",
    "\n",
    "#Build a list to feed Decoder - Sentence Embedding\n",
    "encoder_states = [state_h, state_c]"
   ]
  },
  {
   "cell_type": "code",
   "execution_count": 51,
   "metadata": {
    "colab": {
     "base_uri": "https://localhost:8080/",
     "height": 35
    },
    "colab_type": "code",
    "id": "alp5BJQEfl8S",
    "outputId": "f48989bb-137d-4a17-ed71-d454b07cc113"
   },
   "outputs": [
    {
     "data": {
      "text/plain": [
       "<tf.Tensor 'embedding/embedding_lookup/Identity_1:0' shape=(?, ?, 50) dtype=float32>"
      ]
     },
     "execution_count": 51,
     "metadata": {
      "tags": []
     },
     "output_type": "execute_result"
    }
   ],
   "source": [
    "encoder_embedding_output"
   ]
  },
  {
   "cell_type": "code",
   "execution_count": 0,
   "metadata": {
    "colab": {},
    "colab_type": "code",
    "id": "FrYp28rX0kPV"
   },
   "outputs": [],
   "source": [
    "#  shape=(?, ?, 50)  it is an tensor object"
   ]
  },
  {
   "cell_type": "markdown",
   "metadata": {
    "colab_type": "text",
    "id": "loyHsw7Rfl8V"
   },
   "source": [
    "#### Build Decoder"
   ]
  },
  {
   "cell_type": "code",
   "execution_count": 0,
   "metadata": {
    "colab": {},
    "colab_type": "code",
    "id": "_9TjwmvIfl8W"
   },
   "outputs": [],
   "source": [
    "#Decode input - padded Target sentences\n",
    "decoder_inputs = tf.keras.layers.Input(shape=(None,))\n",
    "\n",
    "#Decoder Embedding layer\n",
    "decoder_embedding = tf.keras.layers.Embedding(decoder_vocab_size + 1, decoder_embedding_size)\n",
    "\n",
    "#Embedding layer output\n",
    "decoder_embedding_output = decoder_embedding(decoder_inputs)\n",
    "\n",
    "#Decoder RNN\n",
    "decoder_rnn = tf.keras.layers.LSTM(rnn_units, return_sequences=True, return_state=True)\n",
    "\n",
    "#Decoder RNN Output, State initialization from Encoder states\n",
    "#Output will be all hidden sequences, last 'h' state and last 'c' state\n",
    "x,_,_ = decoder_rnn(decoder_embedding_output, initial_state=encoder_states)\n",
    "\n",
    "#Output Layer\n",
    "decoder_dense = tf.keras.layers.Dense(decoder_vocab_size + 1, activation='softmax')\n",
    "\n",
    "#Output of Dense layer\n",
    "decoder_outputs = decoder_dense(x)"
   ]
  },
  {
   "cell_type": "code",
   "execution_count": 54,
   "metadata": {
    "colab": {
     "base_uri": "https://localhost:8080/",
     "height": 35
    },
    "colab_type": "code",
    "id": "K3PZJeAVfl8c",
    "outputId": "885dbf74-629b-427d-a8f3-c5e0477cce0b"
   },
   "outputs": [
    {
     "data": {
      "text/plain": [
       "<tf.Tensor 'dense/truediv:0' shape=(?, ?, 2993) dtype=float32>"
      ]
     },
     "execution_count": 54,
     "metadata": {
      "tags": []
     },
     "output_type": "execute_result"
    }
   ],
   "source": [
    "decoder_outputs"
   ]
  },
  {
   "cell_type": "markdown",
   "metadata": {
    "colab_type": "text",
    "id": "k5Yf-VMHfl8h"
   },
   "source": [
    "### Build Model using both Encoder and Decoder"
   ]
  },
  {
   "cell_type": "code",
   "execution_count": 0,
   "metadata": {
    "colab": {},
    "colab_type": "code",
    "id": "Eu7NLORzfl8i"
   },
   "outputs": [],
   "source": [
    "model = tf.keras.models.Model([encoder_inputs, decoder_inputs], #2 Inputs to the model\n",
    "                              decoder_outputs) #Output of the model"
   ]
  },
  {
   "cell_type": "code",
   "execution_count": 56,
   "metadata": {
    "colab": {
     "base_uri": "https://localhost:8080/",
     "height": 35
    },
    "colab_type": "code",
    "id": "dmp43leZfl8k",
    "outputId": "0b570029-273c-40a3-b6f5-ad27ba8425a4"
   },
   "outputs": [
    {
     "data": {
      "text/plain": [
       "<tf.Tensor 'dense/truediv:0' shape=(?, ?, 2993) dtype=float32>"
      ]
     },
     "execution_count": 56,
     "metadata": {
      "tags": []
     },
     "output_type": "execute_result"
    }
   ],
   "source": [
    "model.output"
   ]
  },
  {
   "cell_type": "code",
   "execution_count": 0,
   "metadata": {
    "colab": {},
    "colab_type": "code",
    "id": "zPGyS1FBfl8n"
   },
   "outputs": [],
   "source": [
    "model.compile(optimizer='adam', loss='categorical_crossentropy')"
   ]
  },
  {
   "cell_type": "markdown",
   "metadata": {
    "colab_type": "text",
    "id": "EwCw8C0Ifl8s"
   },
   "source": [
    "### Train the model"
   ]
  },
  {
   "cell_type": "code",
   "execution_count": 58,
   "metadata": {
    "colab": {
     "base_uri": "https://localhost:8080/",
     "height": 193
    },
    "colab_type": "code",
    "id": "JVRXU4Arfl8v",
    "outputId": "1c8c8e3f-faa3-4fce-cadd-ed32b6647e1f"
   },
   "outputs": [
    {
     "name": "stdout",
     "output_type": "stream",
     "text": [
      "Train on 2246 samples, validate on 562 samples\n",
      "WARNING:tensorflow:From /usr/local/lib/python3.6/dist-packages/tensorflow/python/ops/math_grad.py:1250: add_dispatch_support.<locals>.wrapper (from tensorflow.python.ops.array_ops) is deprecated and will be removed in a future version.\n",
      "Instructions for updating:\n",
      "Use tf.where in 2.0, which has the same broadcast rule as np.where\n",
      "Epoch 1/2\n",
      "2246/2246 [==============================] - 12s 5ms/sample - loss: 3.7466 - val_loss: 2.9813\n",
      "Epoch 2/2\n",
      "2246/2246 [==============================] - 6s 2ms/sample - loss: 1.6439 - val_loss: 2.9954\n"
     ]
    },
    {
     "data": {
      "text/plain": [
       "<tensorflow.python.keras.callbacks.History at 0x7f9582042e48>"
      ]
     },
     "execution_count": 58,
     "metadata": {
      "tags": []
     },
     "output_type": "execute_result"
    }
   ],
   "source": [
    "model.fit([encoder_input_data, decoder_input_data], decoder_target_one_hot,\n",
    "          batch_size=64,\n",
    "          epochs=2,\n",
    "          validation_split=0.2)"
   ]
  },
  {
   "cell_type": "markdown",
   "metadata": {
    "colab_type": "text",
    "id": "5Ytdt1zHfl8x"
   },
   "source": [
    "### Save the model for later reuse"
   ]
  },
  {
   "cell_type": "code",
   "execution_count": 0,
   "metadata": {
    "colab": {},
    "colab_type": "code",
    "id": "VoSQZ_e3fl8y"
   },
   "outputs": [],
   "source": [
    "model.save('seq2seq_training_translation.hd5')"
   ]
  },
  {
   "cell_type": "markdown",
   "metadata": {
    "colab_type": "text",
    "id": "pRSCZlnwfl81"
   },
   "source": [
    "# Building Model for Prediction"
   ]
  },
  {
   "cell_type": "markdown",
   "metadata": {
    "colab_type": "text",
    "id": "cOkrK0Qafl82"
   },
   "source": [
    "### Build the Encoder Model to predict Encoder States"
   ]
  },
  {
   "cell_type": "code",
   "execution_count": 0,
   "metadata": {
    "colab": {},
    "colab_type": "code",
    "id": "RrgzlE4Bfl83"
   },
   "outputs": [],
   "source": [
    "encoder_model = tf.keras.models.Model(encoder_inputs, #Padded input sequences\n",
    "                                      encoder_states) #Hidden state and Cell state at last time step"
   ]
  },
  {
   "cell_type": "markdown",
   "metadata": {
    "colab_type": "text",
    "id": "jIpk0ZC5fl84"
   },
   "source": [
    "### Build the Decoder Model \n",
    "<p/>\n",
    "\n",
    "<ol><li>Define Input for both 'h' state and 'c' state initialization </li>\n",
    "<li>Get Decoder RNN outputs along with h and c state</li>\n",
    "<li>Get Decoder Dense layer output</li>\n",
    "        <li>Build Model</li></ol>"
   ]
  },
  {
   "cell_type": "markdown",
   "metadata": {
    "colab_type": "text",
    "id": "1OaSO0L9fl85"
   },
   "source": [
    "##### Step 1 - Define Input for both 'h' state and 'c' state initialization"
   ]
  },
  {
   "cell_type": "code",
   "execution_count": 0,
   "metadata": {
    "colab": {},
    "colab_type": "code",
    "id": "BONW8gMvfl85"
   },
   "outputs": [],
   "source": [
    "#Hidden state input\n",
    "decoder_state_input_h = tf.keras.layers.Input(shape=(rnn_units,))\n",
    "\n",
    "#Cell state input\n",
    "decoder_state_input_c = tf.keras.layers.Input(shape=(rnn_units,))\n",
    "\n",
    "#Putting it together\n",
    "decoder_states_inputs = [decoder_state_input_h, decoder_state_input_c]"
   ]
  },
  {
   "cell_type": "markdown",
   "metadata": {
    "colab_type": "text",
    "id": "Cr8JFgAdfl88"
   },
   "source": [
    "##### Step 2 - Get Decoder RNN outputs along with h and c state"
   ]
  },
  {
   "cell_type": "code",
   "execution_count": 0,
   "metadata": {
    "colab": {},
    "colab_type": "code",
    "id": "qkA0HTR9fl8-"
   },
   "outputs": [],
   "source": [
    "#Get Embedding layer output\n",
    "x = decoder_embedding(decoder_inputs)\n",
    "\n",
    "#We will use the layer which we trained earlier\n",
    "rnn_outputs, state_h, state_c = decoder_rnn(x, initial_state=decoder_states_inputs)\n",
    "\n",
    "#Why do we need this?\n",
    "decoder_states = [state_h, state_c]"
   ]
  },
  {
   "cell_type": "markdown",
   "metadata": {
    "colab_type": "text",
    "id": "NZqVxg6Qfl9A"
   },
   "source": [
    "##### Step 3 - Get Decoder Dense layer output"
   ]
  },
  {
   "cell_type": "code",
   "execution_count": 0,
   "metadata": {
    "colab": {},
    "colab_type": "code",
    "id": "RW-X1-edfl9B"
   },
   "outputs": [],
   "source": [
    "decoder_outputs = decoder_dense(rnn_outputs)"
   ]
  },
  {
   "cell_type": "markdown",
   "metadata": {
    "colab_type": "text",
    "id": "IqX2Euiofl9C"
   },
   "source": [
    "##### Step 4 - Build Decoder Model"
   ]
  },
  {
   "cell_type": "code",
   "execution_count": 0,
   "metadata": {
    "colab": {},
    "colab_type": "code",
    "id": "PPPqaTigfl9D"
   },
   "outputs": [],
   "source": [
    "decoder_model = tf.keras.models.Model([decoder_inputs] + decoder_states_inputs,  #Model inputs\n",
    "                                      [decoder_outputs] + decoder_states)"
   ]
  },
  {
   "cell_type": "markdown",
   "metadata": {
    "colab_type": "text",
    "id": "vpYhI4e6fl9E"
   },
   "source": [
    "# Predicting output from Seq2Seq model"
   ]
  },
  {
   "cell_type": "markdown",
   "metadata": {
    "colab_type": "text",
    "id": "gR6eh8wEfl9F"
   },
   "source": [
    "##### Build a prediction function"
   ]
  },
  {
   "cell_type": "code",
   "execution_count": 65,
   "metadata": {
    "colab": {
     "base_uri": "https://localhost:8080/",
     "height": 35
    },
    "colab_type": "code",
    "id": "oBT3SHYIfl9G",
    "outputId": "1fb4cd66-a542-490f-ef60-bda2238fbba7"
   },
   "outputs": [
    {
     "data": {
      "text/plain": [
       "1"
      ]
     },
     "execution_count": 65,
     "metadata": {
      "tags": []
     },
     "output_type": "execute_result"
    }
   ],
   "source": [
    "decoder_t.word_index['<start>']"
   ]
  },
  {
   "cell_type": "code",
   "execution_count": 66,
   "metadata": {
    "colab": {
     "base_uri": "https://localhost:8080/",
     "height": 35
    },
    "colab_type": "code",
    "id": "xyGHS8lhfl9I",
    "outputId": "9583dc12-1c6d-47ec-b239-ae0dc96079b4"
   },
   "outputs": [
    {
     "data": {
      "text/plain": [
       "'<start>'"
      ]
     },
     "execution_count": 66,
     "metadata": {
      "tags": []
     },
     "output_type": "execute_result"
    }
   ],
   "source": [
    "int_to_word_decoder[1]"
   ]
  },
  {
   "cell_type": "code",
   "execution_count": 0,
   "metadata": {
    "colab": {},
    "colab_type": "code",
    "id": "eUK2Wogyfl9K"
   },
   "outputs": [],
   "source": [
    "def decode_sentence(input_sequence):\n",
    "    \n",
    "    #Get the encoder state values - Sentence embedding\n",
    "    decoder_initial_states_value = encoder_model.predict(input_seq)\n",
    "    \n",
    "    #Build a sequence with '<start>' - starting sequence for Decoder\n",
    "    target_seq = np.zeros((1,1))    \n",
    "    target_seq[0][0] = decoder_t.word_index['<start>']\n",
    "    \n",
    "    #flag to check if prediction should be stopped\n",
    "    stop_loop = False\n",
    "    \n",
    "    #Initialize predicted sentence\n",
    "    predicted_sentence = ''\n",
    "    \n",
    "    num_of_predictions = 0\n",
    "    \n",
    "    #start the loop\n",
    "    while not stop_loop:\n",
    "        \n",
    "        predicted_outputs, h, c = decoder_model.predict([target_seq] + \n",
    "                                                        decoder_initial_states_value)\n",
    "        \n",
    "        #Get the predicted word index with highest probability\n",
    "        predicted_output = np.argmax(predicted_outputs[0,-1,:])\n",
    "        \n",
    "        #Get the predicted word from predicter index\n",
    "        predicted_word = int_to_word_decoder[predicted_output]\n",
    "        \n",
    "        #Check if prediction should stop\n",
    "        if(predicted_word == '<end>' or num_of_predictions > max_decoder_seq_length):\n",
    "            \n",
    "            stop_loop = True\n",
    "            continue\n",
    "        \n",
    "        num_of_predictions += 1\n",
    "        \n",
    "        #Updated predicted sentence\n",
    "        if (len(predicted_sentence) == 0):\n",
    "            predicted_sentence = predicted_word\n",
    "        else:\n",
    "            predicted_sentence = predicted_sentence + ' ' + predicted_word\n",
    "            \n",
    "        #Update target_seq to be the predicted word index\n",
    "        target_seq[0][0] = predicted_output\n",
    "        \n",
    "        #Update initial states value for decoder\n",
    "        decoder_initial_states_value = [h,c]\n",
    "        \n",
    "    \n",
    "    return predicted_sentence"
   ]
  },
  {
   "cell_type": "markdown",
   "metadata": {
    "colab_type": "text",
    "id": "_vHLS9TMfl9P"
   },
   "source": [
    "##### Call Prediction function on a random sentence"
   ]
  },
  {
   "cell_type": "code",
   "execution_count": 68,
   "metadata": {
    "colab": {
     "base_uri": "https://localhost:8080/",
     "height": 277
    },
    "colab_type": "code",
    "id": "ad62DzUCfl9P",
    "outputId": "280f5464-6756-4d48-b1f7-a8c2c364eda2"
   },
   "outputs": [
    {
     "name": "stdout",
     "output_type": "stream",
     "text": [
      "--------\n",
      "Input sentence:  I met him at the barber's.\n",
      "Predicted sentence:  वह वह\n",
      "--------\n",
      "Input sentence:  I sold it for ten dollars.\n",
      "Predicted sentence:  वह वह\n",
      "--------\n",
      "Input sentence:  I usually get up at eight.\n",
      "Predicted sentence:  वह वह\n",
      "--------\n",
      "Input sentence:  I want to see the manager.\n",
      "Predicted sentence:  वह वह\n",
      "--------\n",
      "Input sentence:  I want to see the manager.\n",
      "Predicted sentence:  वह वह\n"
     ]
    }
   ],
   "source": [
    "#Generate a random number\n",
    "start_num = np.random.randint(0, high=len(encoder_text) - 10)\n",
    "\n",
    "#Predict model output for 5 sentences\n",
    "for i in range(start_num, start_num + 5):\n",
    "    input_seq = encoder_input_data[i : i+1]\n",
    "    predicted_sentence = decode_sentence(input_seq)\n",
    "    print('--------')\n",
    "    print ('Input sentence: ', encoder_text[i])\n",
    "    print ('Predicted sentence: ', predicted_sentence )"
   ]
  },
  {
   "cell_type": "code",
   "execution_count": 0,
   "metadata": {
    "colab": {},
    "colab_type": "code",
    "id": "bKko7j724ZRF"
   },
   "outputs": [],
   "source": [
    "# For every input it is predicting 'वह वह' which is incorrect. \n",
    "# We have to train data with more epochs and with more train data to get more accuracy."
   ]
  },
  {
   "cell_type": "markdown",
   "metadata": {
    "colab_type": "text",
    "id": "jCMUpP31fl9S"
   },
   "source": [
    "##### Save encoder and decoder model"
   ]
  },
  {
   "cell_type": "code",
   "execution_count": 0,
   "metadata": {
    "colab": {},
    "colab_type": "code",
    "id": "3hlchg1Bfl9T"
   },
   "outputs": [],
   "source": [
    "#Compile models to avoid error\n",
    "encoder_model.compile(optimizer='adam',loss='categorical_crossentropy')\n",
    "decoder_model.compile(optimizer='adam',loss='categorical_crossentropy')\n",
    "\n",
    "#Save the models\n",
    "encoder_model.save('seq2seq_encoder_eng_hin.hd5')  #Encoder model\n",
    "decoder_model.save('seq2seq_decoder_eng_hin.hd5')  #Decoder model"
   ]
  },
  {
   "cell_type": "markdown",
   "metadata": {
    "colab_type": "text",
    "id": "VSuU4WRxfl9U"
   },
   "source": [
    "##### Save encoder and decoder tokenizers"
   ]
  },
  {
   "cell_type": "code",
   "execution_count": 0,
   "metadata": {
    "colab": {},
    "colab_type": "code",
    "id": "kLxRy_qKfl9V"
   },
   "outputs": [],
   "source": [
    "import pickle\n",
    "\n",
    "pickle.dump(encoder_t,open('encoder_tokenizer_eng','wb'))\n",
    "pickle.dump(decoder_t,open('decoder_tokenizer_hin','wb'))"
   ]
  },
  {
   "cell_type": "code",
   "execution_count": 0,
   "metadata": {
    "colab": {},
    "colab_type": "code",
    "id": "7jSR45BYSu2y"
   },
   "outputs": [],
   "source": []
  }
 ],
 "metadata": {
  "accelerator": "GPU",
  "colab": {
   "name": "Lab5_Seq2Seq LSTM Model - Translation_with_prediction_updated.ipynb",
   "provenance": []
  },
  "kernelspec": {
   "display_name": "Python 3",
   "language": "python",
   "name": "python3"
  },
  "language_info": {
   "codemirror_mode": {
    "name": "ipython",
    "version": 3
   },
   "file_extension": ".py",
   "mimetype": "text/x-python",
   "name": "python",
   "nbconvert_exporter": "python",
   "pygments_lexer": "ipython3",
   "version": "3.7.1"
  }
 },
 "nbformat": 4,
 "nbformat_minor": 1
}
